{
 "cells": [
  {
   "cell_type": "markdown",
   "id": "f10d54df",
   "metadata": {},
   "source": [
    "# File Setup"
   ]
  },
  {
   "cell_type": "code",
   "execution_count": 1,
   "id": "cc5fea51",
   "metadata": {},
   "outputs": [],
   "source": [
    "#dependecies\n",
    "import matplotlib.pyplot as plt\n",
    "import pandas as pd\n",
    "import numpy as np\n",
    "import scipy.stats as sts\n",
    "import random as random"
   ]
  },
  {
   "cell_type": "code",
   "execution_count": 2,
   "id": "df9ff3d1",
   "metadata": {
    "scrolled": true
   },
   "outputs": [
    {
     "data": {
      "text/plain": [
       "9751"
      ]
     },
     "execution_count": 2,
     "metadata": {},
     "output_type": "execute_result"
    }
   ],
   "source": [
    "df1 = pd.read_csv('Resources/clean_merge_df.csv')\n",
    "df2 = pd.read_csv('Resources/cleaned_movie_netflix.csv')\n",
    "df3 = pd.read_csv('Resources/cleaned_tv_show_netflix.csv')\n",
    "df4 = pd.read_csv('Resources/hulu.csv')\n",
    "merge1 = df1.merge(df2, on = 'Title', how = 'outer')\n",
    "merge2 = df3.merge(df4, on = 'Title', how = 'outer')\n",
    "merged = merge1.merge(merge2, on = 'Title', how = 'outer')\n",
    "len(merged)"
   ]
  },
  {
   "cell_type": "markdown",
   "id": "6a30e48b",
   "metadata": {},
   "source": [
    "# Analysis for General Stream-Consumer\n",
    "Summary statistics table\n",
    "- total number of offerings\n",
    "- count of country / language\n",
    "- max, min, mean, med of IMDB/Rotten ratings\n",
    "\n",
    "Summary statistics table\n",
    "- count of each genre\n",
    "\n",
    "Scatterplot (Runtime/Duration vs Rating)\n",
    "- Reveal if length has a impact on rating\n"
   ]
  },
  {
   "cell_type": "code",
   "execution_count": 3,
   "id": "a695ba7b",
   "metadata": {},
   "outputs": [],
   "source": [
    "#writing functions for 3 columns\n",
    "def combined_3_columns(df, anchor_column, anchor_column_new_name, collapse_column, dropped_list, drop):\n",
    "    '''\n",
    "    anchor_column is the column series that you want everything to be compared to \n",
    "    anchor_column_new_name is the new name of that column\n",
    "    collapse_column is the list of columns to combine\n",
    "    dropped_list is an empty list that will track which values have NaN, used for debugging\n",
    "    drop whether or not to drop the values\n",
    "    '''\n",
    "    # populate relevant column, and if no values then drop\n",
    "    for i in range(len(df[anchor_column])):\n",
    "        if (pd.isnull(df[anchor_column][i])):\n",
    "            if (pd.isnull(df[collapse_column[0]][i])):\n",
    "                if (pd.isnull(df[collapse_column[1]][i])):\n",
    "                    dropped_list.append(i)\n",
    "                    if (drop == True):\n",
    "                        df = df.drop(i, axis = 0)\n",
    "                else:\n",
    "                    df.loc[i, anchor_column] = df.loc[i, collapse_column[1]]\n",
    "            else:\n",
    "                df.loc[i, anchor_column] = df.loc[i, collapse_column[0]]\n",
    "\n",
    "    # fixing columns\n",
    "    df.reset_index(inplace = True)\n",
    "    collapse_column.append('index')\n",
    "    df.drop(collapse_column, axis = 1, inplace = True)\n",
    "    df.rename(columns = {anchor_column : anchor_column_new_name}, inplace = True)\n",
    "    if (drop == True):\n",
    "        return df\n",
    "    else:\n",
    "        return df"
   ]
  },
  {
   "cell_type": "code",
   "execution_count": 4,
   "id": "3251322d",
   "metadata": {},
   "outputs": [],
   "source": [
    "#writing functions for 4 columns\n",
    "def combined_4_columns(df, anchor_column, anchor_column_new_name, collapse_column, dropped_list, drop):\n",
    "    '''\n",
    "    anchor_column is the column series that you want everything to be compared to \n",
    "    anchor_column_new_name is the new name of that column\n",
    "    collapse_column is the list of columns to combine\n",
    "    dropped_list is an empty list that will track which values have NaN, used for debugging\n",
    "    drop whether or not to drop the values\n",
    "    '''\n",
    "    # populate relevant column, and if no values then drop\n",
    "    for i in range(len(df[anchor_column])):\n",
    "        if (pd.isnull(df[anchor_column][i])):\n",
    "            if (pd.isnull(df[collapse_column[0]][i])):\n",
    "                if (pd.isnull(df[collapse_column[1]][i])):\n",
    "                    if (pd.isnull(df[collapse_column[2]][i])):\n",
    "                        dropped_list.append(i)\n",
    "                        if (drop == True):\n",
    "                            df = df.drop(i, axis = 0)\n",
    "                    else:\n",
    "                        df.loc[i, anchor_column] = df.loc[i, collapse_column[2]]\n",
    "                else:\n",
    "                    df.loc[i, anchor_column] = df.loc[i, collapse_column[1]]\n",
    "            else:\n",
    "                df.loc[i, anchor_column] = df.loc[i, collapse_column[0]]\n",
    "\n",
    "    # fixing columns\n",
    "    df.reset_index(inplace = True)\n",
    "    collapse_column.append('index')\n",
    "    df.drop(collapse_column, axis = 1, inplace = True)\n",
    "    df.rename(columns = {anchor_column : anchor_column_new_name}, inplace = True)\n",
    "    if (drop == True):\n",
    "        return df\n",
    "    else:\n",
    "        return df"
   ]
  },
  {
   "cell_type": "code",
   "execution_count": 5,
   "id": "16842447",
   "metadata": {},
   "outputs": [],
   "source": [
    "total = len(merged)"
   ]
  },
  {
   "cell_type": "code",
   "execution_count": 6,
   "id": "6efdae7e",
   "metadata": {},
   "outputs": [
    {
     "data": {
      "text/plain": [
       "Index(['Title', 'Type_x_x', 'Genre_x_x', 'Year_x_x', 'Date Added_x_x',\n",
       "       'Director_x_x', 'Runtime_x', 'Duration_x', 'Country_x_x', 'Language_x',\n",
       "       'Rotten Tomatoes Rating_x_x', 'IMDB Rating_x_x', 'Advisory Rating_x_x',\n",
       "       'Advisory Age_x_x', 'Disney+_x_x', 'Unnamed: 0', 'level_0',\n",
       "       'Date Added_y_x', 'Advisory Rating_y_x', 'Advisory Age_y_x', 'Netflix',\n",
       "       'Hulu', 'Disney+_y_x', 'Director_y_x', 'Country_y_x', 'IMDB Rating_y_x',\n",
       "       'Rotten Tomatoes Rating_y_x', 'Language_y', 'Genre_y_x', 'Type_y_x',\n",
       "       'Runtime_y', 'Year_y_x', 'Unnamed: 0_x', 'Advisory Age_x_y',\n",
       "       'IMDB Rating_x_y', 'Rotten Tomatoes Rating_x_y', 'Netflix_x', 'Hulu_x',\n",
       "       'Disney+_x_y', 'Director_x_y', 'Country_x_y', 'Date Added_x_y',\n",
       "       'Advisory Rating_x_y', 'Duration_y', 'Genre_x_y', 'Type_x_y',\n",
       "       'Year_x_y', 'Unnamed: 0_y', 'Type_y_y', 'Director_y_y', 'Country_y_y',\n",
       "       'Rotten Tomatoes Rating_y_y', 'IMDB Rating_y_y', 'Advisory Age_y_y',\n",
       "       'Netflix_y', 'Hulu_y', 'Disney+_y_y', 'Year_y_y', 'Genre_y_y',\n",
       "       'Language', 'Runtime', 'Date Added_y_y', 'Advisory Rating_y_y'],\n",
       "      dtype='object')"
      ]
     },
     "execution_count": 6,
     "metadata": {},
     "output_type": "execute_result"
    }
   ],
   "source": [
    "dropped_list = []\n",
    "drop = True\n",
    "combined_4_columns(merged, 'Country_x_x', 'Country', ['Country_y_x', 'Country_x_y', 'Country_y_y'], dropped_list, drop)\n",
    "merged.columns"
   ]
  },
  {
   "cell_type": "code",
   "execution_count": 7,
   "id": "19b1b5b7",
   "metadata": {},
   "outputs": [
    {
     "data": {
      "text/plain": [
       "Index(['Title', 'Type_x_x', 'Genre_x_x', 'Year_x_x', 'Date Added_x_x',\n",
       "       'Director_x_x', 'Runtime_x', 'Duration_x', 'Country_x_x', 'Language_x',\n",
       "       'Rotten Tomatoes Rating_x_x', 'IMDB Rating_x_x', 'Advisory Rating_x_x',\n",
       "       'Advisory Age_x_x', 'Disney+_x_x', 'Unnamed: 0', 'level_0',\n",
       "       'Date Added_y_x', 'Advisory Rating_y_x', 'Advisory Age_y_x', 'Netflix',\n",
       "       'Hulu', 'Disney+_y_x', 'Director_y_x', 'Country_y_x', 'IMDB Rating_y_x',\n",
       "       'Rotten Tomatoes Rating_y_x', 'Language_y', 'Genre_y_x', 'Type_y_x',\n",
       "       'Runtime_y', 'Year_y_x', 'Unnamed: 0_x', 'Advisory Age_x_y',\n",
       "       'IMDB Rating_x_y', 'Rotten Tomatoes Rating_x_y', 'Netflix_x', 'Hulu_x',\n",
       "       'Disney+_x_y', 'Director_x_y', 'Country_x_y', 'Date Added_x_y',\n",
       "       'Advisory Rating_x_y', 'Duration_y', 'Genre_x_y', 'Type_x_y',\n",
       "       'Year_x_y', 'Unnamed: 0_y', 'Type_y_y', 'Director_y_y', 'Country_y_y',\n",
       "       'Rotten Tomatoes Rating_y_y', 'IMDB Rating_y_y', 'Advisory Age_y_y',\n",
       "       'Netflix_y', 'Hulu_y', 'Disney+_y_y', 'Year_y_y', 'Genre_y_y',\n",
       "       'Language', 'Runtime', 'Date Added_y_y', 'Advisory Rating_y_y'],\n",
       "      dtype='object')"
      ]
     },
     "execution_count": 7,
     "metadata": {},
     "output_type": "execute_result"
    }
   ],
   "source": [
    "dropped_list = []\n",
    "drop = True\n",
    "combined_3_columns(merged, 'Language_x', 'Language', ['Language_y', 'Language'], dropped_list, drop)\n",
    "merged.columns"
   ]
  }
 ],
 "metadata": {
  "kernelspec": {
   "display_name": "Python [conda env:PythonData] *",
   "language": "python",
   "name": "conda-env-PythonData-py"
  },
  "language_info": {
   "codemirror_mode": {
    "name": "ipython",
    "version": 3
   },
   "file_extension": ".py",
   "mimetype": "text/x-python",
   "name": "python",
   "nbconvert_exporter": "python",
   "pygments_lexer": "ipython3",
   "version": "3.8.12"
  }
 },
 "nbformat": 4,
 "nbformat_minor": 5
}
