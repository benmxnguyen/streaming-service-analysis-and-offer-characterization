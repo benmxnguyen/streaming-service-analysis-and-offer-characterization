{
 "cells": [
  {
   "cell_type": "markdown",
   "id": "0771a828",
   "metadata": {},
   "source": [
    "# FORWARD "
   ]
  },
  {
   "cell_type": "markdown",
   "id": "a4993041",
   "metadata": {},
   "source": [
    "Our team organized the project such that we cleaned, filtered, and analyzed one streaming platform each. As such, we feel organizing by streaming platform datasets (as opposed to order of operations - e.g. all cleaning, all analysis, etc.) is the most reflective of our work process.\n",
    "\n",
    "Since the Disney+ and Netflix notebooks were originally run in separate notebooks, their code is shown below but their output is not in the notebook. To see the original notebook (with outputs run in each notebook), please refer to the additional notebook folder. To see those platforms' final outputs, please refer to the Images or Resources folder."
   ]
  },
  {
   "cell_type": "markdown",
   "id": "81f9cc53",
   "metadata": {},
   "source": [
    "# Hulu Data and Analysis"
   ]
  },
  {
   "cell_type": "markdown",
   "id": "cd00a834",
   "metadata": {},
   "source": [
    "MERGING AND DATA CLEANING"
   ]
  },
  {
   "cell_type": "code",
   "execution_count": 1,
   "id": "2829fdaa",
   "metadata": {},
   "outputs": [],
   "source": [
    "#import dependencies\n",
    "import pandas as pd\n",
    "import matplotlib.pyplot as plt\n",
    "import numpy as np\n",
    "from statistics import mode\n",
    "from statistics import mean\n",
    "from statistics import median\n",
    "\n",
    "import collections"
   ]
  },
  {
   "cell_type": "code",
   "execution_count": 2,
   "id": "c67d2557",
   "metadata": {},
   "outputs": [],
   "source": [
    "# pull in the hulu csv as df\n",
    "\n",
    "hulu_path = \"/Users/emilyye/Downloads/hulu_titles.csv\"\n",
    "\n",
    "hulu_data = pd.read_csv(hulu_path)"
   ]
  },
  {
   "cell_type": "code",
   "execution_count": 3,
   "id": "ff4f4fd4",
   "metadata": {},
   "outputs": [],
   "source": [
    "# the original csv file categorizes some duration/runtime values into the Ratings column. Reassign them to the appropriate rows in the duration/runtime column.\n",
    "\n",
    "for index, element in enumerate(hulu_data['rating']):\n",
    "    if 'min' in str(element):\n",
    "        hulu_data.loc[index,'duration'] = hulu_data.loc[index,'rating']\n",
    "        hulu_data.loc[index,'rating'] = 'NaN'\n",
    "    if 'Seasons' in str(element):\n",
    "        hulu_data.loc[index,'duration'] = hulu_data.loc[index,'rating']\n",
    "        hulu_data.loc[index,'rating'] = 'NaN'\n",
    "    if 'Season' in str(element):\n",
    "        hulu_data.loc[index,'duration'] = hulu_data.loc[index,'rating']\n",
    "        hulu_data.loc[index,'rating'] = 'NaN'\n"
   ]
  },
  {
   "cell_type": "code",
   "execution_count": 4,
   "id": "d03df3f9",
   "metadata": {},
   "outputs": [],
   "source": [
    "# pull in the general streaming show data as dfs\n",
    "\n",
    "gen_path_one = \"/Users/emilyye/Downloads/tv_shows.csv\"\n",
    "\n",
    "gen_path_two = \"/Users/emilyye/Downloads/MoviesOnStreamingPlatforms_updated.csv\"\n",
    "\n",
    "gen_data_one = pd.read_csv(gen_path_one)\n",
    "gen_data_two = pd.read_csv(gen_path_two)\n"
   ]
  },
  {
   "cell_type": "code",
   "execution_count": 5,
   "id": "a45c5fd9",
   "metadata": {},
   "outputs": [],
   "source": [
    "#merge the three dataframes into one\n",
    "gen_master = pd.merge(gen_data_one, gen_data_two, on = \"Title\", how=\"outer\")\n",
    "\n",
    "hulu_data = hulu_data.rename(columns = {\"title\":\"Title\"})\n",
    "\n",
    "master_db = pd.merge(gen_master, hulu_data, on = \"Title\", how = \"outer\")\n",
    "\n",
    "# remove unnecessary columns (as agreed upon with project group)\n",
    "del master_db[\"Unnamed: 0_x\"]\n",
    "del master_db[\"ID_x\"]\n",
    "\n",
    "del master_db[\"Unnamed: 0_y\"]\n",
    "del master_db[\"show_id\"]\n",
    "del master_db[\"cast\"]\n",
    "\n",
    "\n",
    "# create a dataframe from the master that is exclusive to Hulu\n",
    "\n",
    "hulu_x = master_db.loc[master_db[\"Hulu_x\"] == 1.0]\n",
    "hulu_y = master_db.loc[master_db[\"Hulu_y\"] == 1.0]\n",
    "\n",
    "hulu_merge = pd.merge(hulu_x, hulu_y, on=\"Title\", how = \"outer\")\n",
    "\n",
    "# format so that all values are strings\n",
    "hulu_merge = hulu_merge.astype(\"string\")\n",
    "hulu_merge = hulu_merge.fillna(value=\"NaN\")"
   ]
  },
  {
   "cell_type": "code",
   "execution_count": 6,
   "id": "986d006f",
   "metadata": {},
   "outputs": [],
   "source": [
    "# create a helper function to merge columns\n",
    "\n",
    "def clean_columns(df, final_col, other_col):\n",
    "    '''\n",
    "    merge columns such that all possible non-null values across similar columns are consolidated into a single column\n",
    "        df is the dataframe being used\n",
    "        final_col is the main column\n",
    "        other_col are the other similar columns from which to pull viable values to replace nulls in the main\n",
    "    '''\n",
    "    \n",
    "    x = 0\n",
    "    \n",
    "    for x in range(len(df)):\n",
    "       \n",
    "        if df[final_col][x] == \"NaN\":\n",
    "            df[final_col][x] = df[other_col[0]][x]\n",
    "            try: \n",
    "                if df[other_col[0]][x] == \"NaN\":\n",
    "                    df[final_col][x] == df[other_col[1]][x]\n",
    "                    if (df[(other_col[1])][x] == \"NaN\"):\n",
    "                        df[final_col][x] == df[(other_col[2])][x]\n",
    "                        if (df[(other_col[2])][x] == \"NaN\"):\n",
    "                            try: \n",
    "                                df[final_col][x] = df[(other_col[3])][x]\n",
    "                                if (df[(other_col[3])][x] == \"NaN\"):\n",
    "                                    try: \n",
    "                                        df[final_col][x] = df[(other_col[4])][x]\n",
    "                                    except:\n",
    "                                        df[final_col][x] = df[(other_col[3])][x]\n",
    "                            except:\n",
    "                                df[final_col][x] == df[(other_col[2])][x]\n",
    "            except:\n",
    "                df[final_col][x] = df[other_col[0]][x]\n",
    "                        \n",
    "    return df[final_col]"
   ]
  },
  {
   "cell_type": "code",
   "execution_count": 7,
   "id": "8162a3d7",
   "metadata": {},
   "outputs": [],
   "source": [
    "# merge\n",
    "hulu_merge[\"Type (Clean)\"] = clean_columns(hulu_merge, \"type_x\", [\"type_y\",\"Type_y_x\",\"Type_x_x\",\"Type_y_x\"])\n",
    "\n",
    "hulu_merge[\"Director\"] = clean_columns(hulu_merge, \"Directors_x\",[\"director_x\",\"Directors_y\",\"director_y\"])\n",
    "\n",
    "hulu_merge[\"Country\"] = clean_columns(hulu_merge, \"Country_x\",[\"country_x\",\"country_y\",\"Country_y\"])\n",
    "\n",
    "hulu_merge[\"Rotten Tomatoes\"] = clean_columns(hulu_merge, \"Rotten Tomatoes_x_x\",[\"Rotten Tomatoes_x_y\",\"Rotten Tomatoes_y_x\",\"Rotten Tomatoes_y_y\"])\n",
    "\n",
    "hulu_merge[\"IMDB\"] = clean_columns(hulu_merge, \"IMDb_x_x\",[\"IMDb_y_x\",\"IMDb_x_y\",\"IMDb_y_y\"])\n",
    "\n",
    "hulu_merge[\"Age\"] = clean_columns(hulu_merge, \"Age_x_x\",[\"Age_x_y\",\"Age_y_y\",\"Age_y_x\"])\n",
    "\n",
    "hulu_merge[\"Netflix\"] = clean_columns(hulu_merge, \"Netflix_x_x\",[\"Netflix_x_y\",\"Netflix_y_x\",\"Netflix_y_y\"])\n",
    "\n",
    "hulu_merge[\"Hulu\"] = clean_columns(hulu_merge, \"Hulu_x_x\",[\"Hulu_x_y\",\"Hulu_y_y\",\"Hulu_y_x\"])\n",
    "\n",
    "hulu_merge[\"Prime Video\"] = clean_columns(hulu_merge, \"Prime Video_x_x\",[\"Prime Video_x_y\",\"Prime Video_y_y\",\"Prime Video_y_x\"])\n",
    "\n",
    "hulu_merge[\"Disney+\"] = clean_columns(hulu_merge, \"Disney+_x_x\",[\"Disney+_x_y\",\"Disney+_y_x\",\"Disney+_y_y\"])\n",
    "\n",
    "hulu_merge[\"Year\"] = clean_columns(hulu_merge, \"Year_x_x\",[\"Year_x_y\",\"Year_y_x\",\"Year_y_y\", \"release_year_x\", \"release_year_y\"])\n",
    "\n",
    "hulu_merge[\"Genre\"] = clean_columns(hulu_merge, \"Genres_y\",[\"listed_in_x\",\"listed_in_y\", \"Genres_x\"])\n",
    "\n",
    "hulu_merge[\"ID\"] = clean_columns(hulu_merge, \"ID_y_x\",[\"ID_y_y\"])\n",
    "\n",
    "hulu_merge[\"Language\"] = clean_columns(hulu_merge, \"Language_x\",[\"Language_y\"])\n",
    "\n",
    "hulu_merge[\"Runtime\"] = clean_columns(hulu_merge, \"Runtime_x\",[\"Runtime_y\",\"duration_x\",\"duration_y\"])\n",
    "\n",
    "hulu_merge[\"Date Added\"] = clean_columns(hulu_merge, \"date_added_x\",[\"date_added_y\"])\n",
    "\n",
    "hulu_merge[\"Description\"] = clean_columns(hulu_merge, \"description_x\",[\"description_y\"])\n",
    "\n",
    "hulu_merge[\"Rating\"] = clean_columns(hulu_merge, \"rating_x\", [\"rating_y\"])\n"
   ]
  },
  {
   "cell_type": "code",
   "execution_count": 8,
   "id": "a2d72eca",
   "metadata": {},
   "outputs": [],
   "source": [
    "# delete unneeded columns as agreed upon by group\n",
    "del hulu_merge[\"Directors_x\"]\n",
    "del hulu_merge[\"director_x\"]\n",
    "del hulu_merge[\"Directors_y\"]\n",
    "del hulu_merge[\"director_y\"]\n",
    "\n",
    "del hulu_merge[\"Rotten Tomatoes_x_x\"]\n",
    "del hulu_merge[\"Rotten Tomatoes_x_y\"]\n",
    "del hulu_merge[\"Rotten Tomatoes_y_x\"]\n",
    "del hulu_merge[\"Rotten Tomatoes_y_y\"]\n",
    "\n",
    "del hulu_merge[\"IMDb_x_x\"]\n",
    "del hulu_merge[\"IMDb_x_y\"]\n",
    "del hulu_merge[\"IMDb_y_x\"]\n",
    "del hulu_merge[\"IMDb_y_y\"]\n",
    "\n",
    "del hulu_merge[\"Age_x_x\"]\n",
    "del hulu_merge[\"Age_x_y\"]\n",
    "del hulu_merge[\"Age_y_x\"]\n",
    "del hulu_merge[\"Age_y_y\"]\n",
    "\n",
    "del hulu_merge[\"Netflix_x_x\"]\n",
    "del hulu_merge[\"Netflix_x_y\"]\n",
    "del hulu_merge[\"Netflix_y_x\"]\n",
    "del hulu_merge[\"Netflix_y_y\"]\n",
    "\n",
    "del hulu_merge[\"Hulu_x_x\"]\n",
    "del hulu_merge[\"Hulu_x_y\"]\n",
    "del hulu_merge[\"Hulu_y_x\"]\n",
    "del hulu_merge[\"Hulu_y_y\"]\n",
    "\n",
    "del hulu_merge[\"Prime Video_x_x\"]\n",
    "del hulu_merge[\"Prime Video_x_y\"]\n",
    "del hulu_merge[\"Prime Video_y_x\"]\n",
    "del hulu_merge[\"Prime Video_y_y\"]\n",
    "\n",
    "del hulu_merge[\"Disney+_x_x\"]\n",
    "del hulu_merge[\"Disney+_x_y\"]\n",
    "del hulu_merge[\"Disney+_y_x\"]\n",
    "del hulu_merge[\"Disney+_y_y\"]\n",
    "\n",
    "del hulu_merge[\"Year_x_x\"]\n",
    "del hulu_merge[\"Year_x_y\"]\n",
    "del hulu_merge[\"Year_y_x\"]\n",
    "del hulu_merge[\"Year_y_y\"]\n",
    "del hulu_merge[\"release_year_x\"]\n",
    "del hulu_merge[\"release_year_y\"]\n",
    "\n",
    "del hulu_merge[\"Genres_x\"]\n",
    "del hulu_merge[\"Genres_y\"]\n",
    "del hulu_merge[\"listed_in_y\"]\n",
    "del hulu_merge[\"listed_in_x\"]\n",
    "\n",
    "del hulu_merge[\"ID_y_x\"]\n",
    "del hulu_merge[\"ID_y_y\"]\n",
    "\n",
    "del hulu_merge[\"Country_x\"]\n",
    "del hulu_merge[\"country_x\"]\n",
    "del hulu_merge[\"Country_y\"]\n",
    "del hulu_merge[\"country_y\"]\n",
    "\n",
    "\n",
    "del hulu_merge[\"rating_x\"]\n",
    "del hulu_merge[\"rating_y\"]\n",
    "\n",
    "del hulu_merge[\"Language_x\"]\n",
    "del hulu_merge[\"Language_y\"]\n",
    "\n",
    "del hulu_merge[\"Runtime_x\"]\n",
    "del hulu_merge[\"duration_x\"]\n",
    "del hulu_merge[\"Runtime_y\"]\n",
    "del hulu_merge[\"duration_y\"]\n",
    "\n",
    "del hulu_merge[\"date_added_y\"]\n",
    "del hulu_merge[\"date_added_x\"]\n",
    "\n",
    "del hulu_merge[\"description_y\"]\n",
    "del hulu_merge[\"description_x\"]\n",
    "\n",
    "del hulu_merge[\"Type_x_y\"]\n",
    "del hulu_merge[\"Type_x_x\"]\n",
    "del hulu_merge[\"type_x\"]\n",
    "del hulu_merge[\"Type_y_y\"]\n",
    "del hulu_merge[\"type_y\"]\n",
    "del hulu_merge[\"Type_y_x\"]\n"
   ]
  },
  {
   "cell_type": "code",
   "execution_count": 9,
   "id": "13737ed7",
   "metadata": {},
   "outputs": [],
   "source": [
    "# drop entries that are null across all column values\n",
    "hulu_merge = hulu_merge.dropna(how=\"all\")\n"
   ]
  },
  {
   "cell_type": "code",
   "execution_count": 10,
   "id": "064ccec5",
   "metadata": {},
   "outputs": [],
   "source": [
    "# create a helper function to get rid of any NaNs later on\n",
    "def nan_remover(input_list):\n",
    "    '''\n",
    "    loop through a provided list to see if the list contains nans\n",
    "    if it does, nan_remover will remove the nans and return a new list\n",
    "    '''\n",
    "    # check for nulls or NaNs\n",
    "    nan_check = [x for x in input_list if np.isnan(x) == True]\n",
    "    \n",
    "    nan_removed = [] \n",
    "    \n",
    "    if len(nan_check) == 0:\n",
    "        return \"No nulls found\"\n",
    "    if len(nan_check) > 0:\n",
    "        for value in input_list:\n",
    "            if np.isnan(value) == False:\n",
    "                nan_removed.append(value)\n",
    "    return nan_removed"
   ]
  },
  {
   "cell_type": "code",
   "execution_count": 11,
   "id": "7f6846aa",
   "metadata": {},
   "outputs": [],
   "source": [
    "# rename columns\n",
    "hulu_merge = hulu_merge.rename(columns = {\n",
    "    \"Type (Clean)\": \"Type\",\n",
    "    \"Rotten Tomatoes\": \"Rotten Tomatoes Rating\",\n",
    "    \"IMDB\": \"IMDB Rating\",\n",
    "    \"Age\": \"Advisory Age\",\n",
    "    \"Rating\": \"Advisory Rating\"\n",
    "})"
   ]
  },
  {
   "cell_type": "markdown",
   "id": "013fc796",
   "metadata": {},
   "source": [
    "MOVIE STATISTICS AND ANALYSIS"
   ]
  },
  {
   "cell_type": "code",
   "execution_count": 12,
   "id": "327c06fa",
   "metadata": {},
   "outputs": [
    {
     "name": "stdout",
     "output_type": "stream",
     "text": [
      "TV Show    822\n",
      "Movie      684\n",
      "Name: Type, dtype: Int64\n"
     ]
    }
   ],
   "source": [
    "# Begin analyzing the cleaned data based on medium (movie or tv show)\n",
    "\n",
    "# check the values by which to bifurcate the data\n",
    "\n",
    "check = hulu_merge.loc[hulu_merge[\"Type\"] != \"NaN\"]\n",
    "print(check[\"Type\"].value_counts())"
   ]
  },
  {
   "cell_type": "code",
   "execution_count": 13,
   "id": "0044acf9",
   "metadata": {},
   "outputs": [
    {
     "name": "stdout",
     "output_type": "stream",
     "text": [
      "\n",
      "97.66398713826366\n",
      "5.0\n",
      "174.0\n",
      "\n",
      "{' Thriller': 5, 'Anime': 9, ' Lifestyle & Culture': 1, ' Reality': 1, 'Mystery': 69, ' Drama': 15, 'War': 16, 'History': 29, 'Romance': 125, 'Film-Noir': 1, 'Documentary': 104, 'Action': 105, 'Western': 12, ' History': 1, ' Horror': 3, ' Mystery': 1, 'Drama': 356, 'Adventure': 78, 'Music': 45, 'Fantasy': 55, ' Science Fiction': 1, ' Health & Wellness': 1, 'Animation': 31, 'Biography': 52, 'Crime': 89, 'Sports': 5, ' Anime': 2, ' International': 10, 'Musical': 9, 'Sci-Fi': 70, 'Sport': 21, 'Comedy': 194, 'Kids': 3, 'Horror': 111, ' LGBTQ+': 1, ' Kids': 2, 'Cooking & Food': 1, 'Thriller': 179, ' Sitcom': 4, ' Crime': 1, ' Comedy': 2, 'Family': 44, 'Reality': 3, 'Short': 8, ' Adventure': 8, 'News': 1, 'Documentaries': 3, ' Romance': 3}\n"
     ]
    }
   ],
   "source": [
    "# general data on Hulu movies\n",
    "movies = hulu_merge.loc[hulu_merge[\"Type\"] == \"Movie\"]\n",
    "movies = movies.reset_index()\n",
    "\n",
    "# total number of offerings\n",
    "total_offerings = len(movies)\n",
    "\n",
    "# duration - mean, min, max\n",
    "\n",
    "moviest = movies.loc[movies[\"Runtime\"] != \"NaN\"]\n",
    "\n",
    "mean_duration = moviest[\"Runtime\"].astype(float).mean()\n",
    "min_duration = moviest[\"Runtime\"].astype(float).min()\n",
    "max_duration = moviest[\"Runtime\"].astype(float).max()\n",
    "\n",
    "print(f'''\n",
    "{mean_duration}\n",
    "{min_duration}\n",
    "{max_duration}\n",
    "''')\n",
    "\n",
    "# breadth of offering? # of subcategories etc.\n",
    "\n",
    "    # pull out all values into a list\n",
    "draft_cat = []\n",
    "\n",
    "x=0\n",
    "for x in range(len(movies)):\n",
    "    draft_cat.append(movies[\"Genre\"][x])\n",
    "\n",
    "unique_cat = set(draft_cat)\n",
    "unique_cat = list(unique_cat)\n",
    "\n",
    "    # split the list values into individual sub categories\n",
    "split_cat = []\n",
    "\n",
    "for i in range(len(unique_cat)):\n",
    "    split_cat.append(unique_cat[i].split(\",\"))\n",
    "\n",
    "    # un-nest the list of lists into one list\n",
    "    \n",
    "final_cat = [val for cat in split_cat for val in cat]\n",
    "final_cat = set(final_cat)\n",
    "final_cat = list(final_cat)\n",
    "\n",
    "final_cat\n",
    "\n",
    "# map out which movies are in which categories\n",
    "\n",
    "cat_df = pd.DataFrame()\n",
    "\n",
    "for x in final_cat:\n",
    "    cat_df[x] = movies[\"Genre\"].str.contains(x)\n",
    "\n",
    "# count the number of movies Hulu has in every category\n",
    "\n",
    "count = 0\n",
    "cat_count = {}\n",
    "\n",
    "for col in cat_df:\n",
    "    for x in cat_df[col]:\n",
    "        if x == True:\n",
    "            count+=1\n",
    "    cat_count[col] = count\n",
    "    count = 0\n",
    "\n",
    "print(cat_count)\n"
   ]
  },
  {
   "cell_type": "code",
   "execution_count": 14,
   "id": "157e0835",
   "metadata": {},
   "outputs": [],
   "source": [
    "# critical reception\n",
    "\n",
    "    #rotten tomatoes and imdb values as lists\n",
    "rt = [rating for rating in movies['Rotten Tomatoes Rating']]\n",
    "imdb = [score for score in movies['IMDB Rating']]\n",
    "\n",
    "    # RT - pull out the numerator for aggregation/analysis later on\n",
    "rt_split = []\n",
    "for num in rt:\n",
    "    rt_split.append(num.split('/'))\n",
    "\n",
    "final_rt = [float(val[0]) for val in rt_split]\n",
    "\n",
    "rt_nn = nan_remover(final_rt)\n",
    "\n",
    "    #IMDB - pull out the num for aggregation/analysis later on\n",
    "\n",
    "imdb_split = []\n",
    "for num in imdb:\n",
    "    imdb_split.append(num.split('/'))\n",
    "\n",
    "final_imdb = [float(imdb[0]) for imdb in imdb_split]\n",
    "\n",
    "imdb_nn = nan_remover(final_imdb)\n",
    "\n",
    "    # mean, median, mode for imdb and rt scores for hulu movies overall\n",
    "imdb_mean = mean(imdb_nn)\n",
    "imdb_median = median(imdb_nn)\n",
    "imdb_mode = mode(imdb_nn)\n",
    "\n",
    "rt_mean = mean(rt_nn)\n",
    "rt_median = median(rt_nn)\n",
    "rt_mode = mode(rt_nn)\n"
   ]
  },
  {
   "cell_type": "code",
   "execution_count": 15,
   "id": "5c6c2de1",
   "metadata": {},
   "outputs": [
    {
     "name": "stdout",
     "output_type": "stream",
     "text": [
      "\n",
      "\n",
      "TOTAL NUMBER OF OFFERINGS\n",
      "\n",
      "684\n",
      "\n",
      "DURATION\n",
      "\n",
      "Mean: 97.66398713826366 Min: 5.0 Max: 174.0\n",
      "\n",
      "BREADTH OF GENRES\n",
      "\n",
      "{' Thriller': 5, 'Anime': 9, ' Lifestyle & Culture': 1, ' Reality': 1, 'Mystery': 69, ' Drama': 15, 'War': 16, 'History': 29, 'Romance': 125, 'Film-Noir': 1, 'Documentary': 104, 'Action': 105, 'Western': 12, ' History': 1, ' Horror': 3, ' Mystery': 1, 'Drama': 356, 'Adventure': 78, 'Music': 45, 'Fantasy': 55, ' Science Fiction': 1, ' Health & Wellness': 1, 'Animation': 31, 'Biography': 52, 'Crime': 89, 'Sports': 5, ' Anime': 2, ' International': 10, 'Musical': 9, 'Sci-Fi': 70, 'Sport': 21, 'Comedy': 194, 'Kids': 3, 'Horror': 111, ' LGBTQ+': 1, ' Kids': 2, 'Cooking & Food': 1, 'Thriller': 179, ' Sitcom': 4, ' Crime': 1, ' Comedy': 2, 'Family': 44, 'Reality': 3, 'Short': 8, ' Adventure': 8, 'News': 1, 'Documentaries': 3, ' Romance': 3}\n",
      "\n",
      "CRITICAL RECEPTION\n",
      "\n",
      "IMDB -- Mean: 7.211320754716981 Median: 7.4 Mode: 7.8\n",
      "\n",
      "Rotten Tomatoes -- Mean: 54.56140350877193 Median: 54.0 Mode: 51.0 \n",
      "\n",
      "\n"
     ]
    }
   ],
   "source": [
    "# print out the summary statistics for movies overall\n",
    "\n",
    "print(f'''\n",
    "\n",
    "TOTAL NUMBER OF OFFERINGS\n",
    "\n",
    "{total_offerings}\n",
    "\n",
    "DURATION\n",
    "\n",
    "Mean: {mean_duration} Min: {min_duration} Max: {max_duration}\n",
    "\n",
    "BREADTH OF GENRES\n",
    "\n",
    "{cat_count}\n",
    "\n",
    "CRITICAL RECEPTION\n",
    "\n",
    "IMDB -- Mean: {imdb_mean} Median: {imdb_median} Mode: {imdb_mode}\n",
    "\n",
    "Rotten Tomatoes -- Mean: {rt_mean} Median: {rt_median} Mode: {rt_mode} \n",
    "\n",
    "''')"
   ]
  },
  {
   "cell_type": "code",
   "execution_count": 16,
   "id": "4477e586",
   "metadata": {},
   "outputs": [],
   "source": [
    "# delete more columns based on group agreement\n",
    "del hulu_merge[\"Description\"]\n",
    "del hulu_merge[\"Prime Video\"]\n",
    "del hulu_merge[\"ID\"]"
   ]
  },
  {
   "cell_type": "markdown",
   "id": "649f2476",
   "metadata": {},
   "source": [
    "TV SHOW STATISTICS AND ANALYSIS"
   ]
  },
  {
   "cell_type": "code",
   "execution_count": 17,
   "id": "17d3d46c",
   "metadata": {},
   "outputs": [
    {
     "name": "stdout",
     "output_type": "stream",
     "text": [
      "{' Thriller': 17, 'Anime': 127, ' Lifestyle & Culture': 42, ' Reality': 97, 'Mystery': 30, ' Drama': 166, 'War': 0, 'History': 19, 'Romance': 33, 'Film-Noir': 0, 'Documentary': 0, 'Action': 148, 'Western': 0, ' History': 19, ' Horror': 31, ' Mystery': 30, 'Drama': 274, 'Adventure': 154, 'Music': 15, 'Fantasy': 0, ' Science Fiction': 35, ' Health & Wellness': 3, 'Animation': 25, 'Biography': 0, 'Crime': 85, 'Sports': 11, ' Anime': 79, ' International': 83, 'Musical': 0, 'Sci-Fi': 0, 'Sport': 11, 'Comedy': 220, 'Kids': 38, 'Horror': 33, ' LGBTQ+': 8, ' Kids': 33, 'Cooking & Food': 28, 'Thriller': 17, ' Sitcom': 93, ' Crime': 20, ' Comedy': 84, 'Family': 83, 'Reality': 133, 'Short': 0, ' Adventure': 127, 'News': 10, 'Documentaries': 90, ' Romance': 32}\n"
     ]
    }
   ],
   "source": [
    "tv_show = hulu_merge.loc[hulu_merge[\"Type\"] == \"TV Show\"]\n",
    "\n",
    "# total number of offerings\n",
    "\n",
    "tv_offerings = len(tv_show)\n",
    "\n",
    "# duration - mean, min, max\n",
    "\n",
    "tv_showd = tv_show.loc[tv_show[\"Runtime\"] != \"NaN\"]\n",
    "\n",
    "mean_duration_tvd = tv_show[\"Runtime\"].astype(float).mean()\n",
    "min_duration_tvd = tv_show[\"Runtime\"].astype(float).min()\n",
    "max_duration_tvd = tv_show[\"Runtime\"].astype(float).max()\n",
    "\n",
    "\n",
    "# breadth of offering # of subcategories etc.\n",
    "\n",
    "tv_showg = tv_show.loc[tv_show[\"Genre\"]!=\"NaN\"]\n",
    "\n",
    "    # pull out all values into a list\n",
    "draft_cat_tv = []\n",
    "\n",
    "tv_showg[\"Genre\"][8]\n",
    "\n",
    "for genre in tv_showg[\"Genre\"]:\n",
    "    draft_cat_tv.append(genre)\n",
    "\n",
    "unique_cat_tv = set(draft_cat_tv)\n",
    "unique_cat_tv = list(unique_cat_tv)\n",
    "\n",
    "     # split the list values into individual sub categories\n",
    "split_cat_tv = []\n",
    "\n",
    "for genre in unique_cat_tv:\n",
    "    split_cat_tv.append(genre.split(\",\"))\n",
    "\n",
    "     # un-nest the list of lists into one list\n",
    "    \n",
    "final_cat_tv = [val for cat in split_cat for val in cat]\n",
    "final_cat_tv = set(final_cat_tv)\n",
    "final_cat_tv = list(final_cat_tv)\n",
    "\n",
    "final_cat_tv\n",
    "\n",
    "# # map out which movies are in which categories\n",
    "\n",
    "cat_df_tv = pd.DataFrame()\n",
    "\n",
    "for x in final_cat_tv:\n",
    "    cat_df_tv[x] = tv_show[\"Genre\"].str.contains(x)\n",
    "\n",
    "cat_df_tv\n",
    "# # count the number of movies Hulu has in every category\n",
    "\n",
    "count_tv = 0\n",
    "cat_count_tv = {}\n",
    "\n",
    "for col in cat_df_tv:\n",
    "    for x in cat_df_tv[col]:\n",
    "        if x == True:\n",
    "            count_tv+=1\n",
    "    cat_count_tv[col] = count_tv\n",
    "    count_tv = 0\n",
    "\n",
    "print(cat_count_tv)\n"
   ]
  },
  {
   "cell_type": "code",
   "execution_count": 18,
   "id": "6f19e379",
   "metadata": {},
   "outputs": [],
   "source": [
    "# critical reception\n",
    "\n",
    "    #rotten tomatoes and imdb values as lists\n",
    "rt_tv = [rating for rating in tv_show['Rotten Tomatoes Rating']]\n",
    "imdb_tv = [score for score in tv_show['IMDB Rating']]\n",
    "\n",
    "    # RT - pull out the numerator for aggregation/analysis later on\n",
    "rt_split_tv = []\n",
    "for num in rt_tv:\n",
    "    rt_split_tv.append(num.split('/'))\n",
    "\n",
    "final_rt_tv = [float(val[0]) for val in rt_split_tv]\n",
    "\n",
    "rttv_nn = nan_remover(final_rt_tv)\n",
    "\n",
    "    #IMDB - pull out the num for aggregation/analysis later on\n",
    "\n",
    "imdb_split_tv = []\n",
    "for num in imdb_tv:\n",
    "    imdb_split_tv.append(num.split('/'))\n",
    "\n",
    "final_imdb_tv = [float(imdb[0]) for imdb in imdb_split_tv]\n",
    "\n",
    "imdbtv_nn = nan_remover(final_imdb_tv)\n",
    "\n",
    "    # mean, median, mode for imdb and rt scores for hulu movies overall\n",
    "imdb_mean_tv = mean(imdbtv_nn)\n",
    "imdb_median_tv = median(imdbtv_nn)\n",
    "imdb_mode_tv = mode(imdbtv_nn)\n",
    "\n",
    "rt_mean_tv = np.mean(rttv_nn)\n",
    "rt_median_tv = median(rttv_nn)\n",
    "rt_mode_tv = mode(rttv_nn)"
   ]
  },
  {
   "cell_type": "code",
   "execution_count": 19,
   "id": "3c477bad",
   "metadata": {},
   "outputs": [
    {
     "name": "stdout",
     "output_type": "stream",
     "text": [
      "\n",
      "\n",
      "TOTAL NUMBER OF OFFERINGS\n",
      "\n",
      "822\n",
      "\n",
      "DURATION\n",
      "\n",
      "Mean: 22.0 Min: 22.0 Max: 22.0\n",
      "\n",
      "BREADTH OF GENRES\n",
      "\n",
      "{' Thriller': 17, 'Anime': 127, ' Lifestyle & Culture': 42, ' Reality': 97, 'Mystery': 30, ' Drama': 166, 'War': 0, 'History': 19, 'Romance': 33, 'Film-Noir': 0, 'Documentary': 0, 'Action': 148, 'Western': 0, ' History': 19, ' Horror': 31, ' Mystery': 30, 'Drama': 274, 'Adventure': 154, 'Music': 15, 'Fantasy': 0, ' Science Fiction': 35, ' Health & Wellness': 3, 'Animation': 25, 'Biography': 0, 'Crime': 85, 'Sports': 11, ' Anime': 79, ' International': 83, 'Musical': 0, 'Sci-Fi': 0, 'Sport': 11, 'Comedy': 220, 'Kids': 38, 'Horror': 33, ' LGBTQ+': 8, ' Kids': 33, 'Cooking & Food': 28, 'Thriller': 17, ' Sitcom': 93, ' Crime': 20, ' Comedy': 84, 'Family': 83, 'Reality': 133, 'Short': 0, ' Adventure': 127, 'News': 10, 'Documentaries': 90, ' Romance': 32}\n",
      "\n",
      "CRITICAL RECEPTION\n",
      "\n",
      "IMDB -- Mean: 7.195316455696203 Median: 7.4 Mode: 7.8\n",
      "\n",
      "Rotten Tomatoes -- Mean: 60.31219512195122 Median: 61.0 Mode: 59.0 \n",
      "\n",
      "\n"
     ]
    }
   ],
   "source": [
    "# print the summ stats for tv shows\n",
    "\n",
    "print(f'''\n",
    "\n",
    "TOTAL NUMBER OF OFFERINGS\n",
    "\n",
    "{tv_offerings}\n",
    "\n",
    "DURATION\n",
    "\n",
    "Mean: {mean_duration_tvd} Min: {min_duration_tvd} Max: {max_duration_tvd}\n",
    "\n",
    "BREADTH OF GENRES\n",
    "\n",
    "{cat_count_tv}\n",
    "\n",
    "CRITICAL RECEPTION\n",
    "\n",
    "IMDB -- Mean: {imdb_mean_tv} Median: {imdb_median_tv} Mode: {imdb_mode_tv}\n",
    "\n",
    "Rotten Tomatoes -- Mean: {rt_mean_tv} Median: {rt_median_tv} Mode: {rt_mode_tv} \n",
    "\n",
    "''')"
   ]
  },
  {
   "cell_type": "markdown",
   "id": "f682a346",
   "metadata": {},
   "source": [
    "PLOTS"
   ]
  },
  {
   "cell_type": "code",
   "execution_count": 20,
   "id": "a9f6fb39",
   "metadata": {},
   "outputs": [
    {
     "data": {
      "image/png": "[encoded data removed]",
      "text/plain": [
       "<Figure size 360x360 with 1 Axes>"
      ]
     },
     "metadata": {
      "needs_background": "light"
     },
     "output_type": "display_data"
    }
   ],
   "source": [
    "# most frequent advisory ratings (top 5 + other)\n",
    "\n",
    "# by movie\n",
    "adRatings = movies[\"Advisory Rating\"].value_counts()\n",
    "y_axis = [198,70,48,34,25,sum(adRatings[5:])]\n",
    "x_axis = ['R','PG-13','TV-MA','PG','TV-14','Other']\n",
    "\n",
    "\n",
    "plt.figure(figsize = (5,5))\n",
    "\n",
    "plt.bar(x_axis, y_axis, color = 'navy')\n",
    "plt.xlabel(\"Rating\")\n",
    "plt.ylabel(\"Count\")\n",
    "plt.title(\"Top 5 Hulu Advisory Ratings\")\n",
    "\n",
    "plt.savefig('adv_ratings_movies.png')"
   ]
  },
  {
   "cell_type": "code",
   "execution_count": 21,
   "id": "adb3993a",
   "metadata": {},
   "outputs": [
    {
     "data": {
      "image/png": "[encoded data removed]",
      "text/plain": [
       "<Figure size 360x720 with 2 Axes>"
      ]
     },
     "metadata": {
      "needs_background": "light"
     },
     "output_type": "display_data"
    }
   ],
   "source": [
    "# by movie and show on one figure\n",
    "\n",
    "adRatings = movies[\"Advisory Rating\"].value_counts()\n",
    "\n",
    "y_axis = [198,70,48,34,25,sum(adRatings[5:])]\n",
    "x_axis = ['R','PG-13','TV-MA','PG','TV-14','Other']\n",
    "\n",
    "adRat_tv = tv_show[\"Advisory Rating\"].value_counts()\n",
    "\n",
    "adratTV_y = [374, 171, 168, 43, 30, 36]\n",
    "adratTV_x = ['TV-14','TV-PG','TV-MA','TV-G','TV-Y7','Other']\n",
    "\n",
    "fig, axs = plt.subplots(2,figsize=(5,10))\n",
    "axs[0].bar(x_axis, y_axis, color = 'navy')\n",
    "axs[1].bar(adratTV_x, adratTV_y, color = 'green')\n",
    "\n",
    "axs[0].set_title(\"Hulu Top 5 Movie Ratings\")\n",
    "axs[1].set_title(\"Hulu Top 5 TV Show Ratings\")\n",
    "\n",
    "fig.tight_layout(pad = 3)\n",
    "\n",
    "fig\n",
    "\n",
    "plt.savefig('adv_ratings_tv.png')"
   ]
  },
  {
   "cell_type": "code",
   "execution_count": 22,
   "id": "5ebcd32c",
   "metadata": {},
   "outputs": [
    {
     "data": {
      "image/png": "[encoded data removed]",
      "text/plain": [
       "<Figure size 864x432 with 2 Axes>"
      ]
     },
     "metadata": {
      "needs_background": "light"
     },
     "output_type": "display_data"
    }
   ],
   "source": [
    "# double-bar chart by country and language\n",
    "\n",
    "# by movie\n",
    "ct_mov = movies[\"Country\"].value_counts()\n",
    "lang_mov = movies[\"Language\"].value_counts()\n",
    "\n",
    "ctmov_y = [12, 11, 9, 1, 1, sum(ct_mov[6:])]\n",
    "ctmov_x = ['United Kingdom','United States','Japan','Joint UK-US','Joint Germany-Czech R.','Other']\n",
    "\n",
    "langmov_y = [443,19,15,4,4,4]\n",
    "langmov_x = ['English','English-Spanish','English-French','English-Russian','English-Italian','English-German']\n",
    "\n",
    "\n",
    "fig, axs = plt.subplots(2,figsize=(12,6))\n",
    "axs[0].bar(ctmov_x, ctmov_y)\n",
    "axs[1].bar(langmov_x, langmov_y)\n",
    "\n",
    "axs[0].set_title(\"Most Frequent Origin of Hulu Movies\")\n",
    "axs[1].set_title(\"Most Frequent Language in Hulu Movies\")\n",
    "\n",
    "fig.tight_layout(pad = 3)"
   ]
  },
  {
   "cell_type": "code",
   "execution_count": 23,
   "id": "da786423",
   "metadata": {},
   "outputs": [],
   "source": [
    "# PIVOT - group decided not to graph these. \n",
    "\n",
    "# repeat the above for tv shows\n",
    "# ct_tv = tv_show[\"Country\"].value_counts()\n",
    "# lang_tv = tv_show[\"Language\"].value_counts()\n",
    "\n",
    "# cttv_y = [446, 111, 49, 13, 9, sum(ct_mov[6:])]\n",
    "# cttv_x = ['United States','Japan','United Kingdom','Canada','Joint US-Canada','Other']\n",
    "\n",
    "# fig, axs = plt.subplots(2,figsize=(12,6))\n",
    "# axs[0].bar(ctmov_x, ctmov_y)\n",
    "# axs[1].bar(langmov_x, langmov_y)\n",
    "\n",
    "# axs[0].set_title(\"Most Frequent Origin of Hulu Movies\")\n",
    "# axs[1].set_title(\"Most Frequent Language in Hulu Movies\")\n",
    "\n",
    "# fig.tight_layout(pad = 3)\n",
    "\n",
    "# lang_tv"
   ]
  },
  {
   "cell_type": "code",
   "execution_count": 24,
   "id": "143139ff",
   "metadata": {},
   "outputs": [
    {
     "name": "stderr",
     "output_type": "stream",
     "text": [
      "/var/folders/21/c38b7fjj2vd3z7p6w475vgz80000gn/T/ipykernel_99933/4199262552.py:13: UserWarning: Tight layout not applied. The bottom and top margins cannot be made large enough to accommodate all axes decorations. \n",
      "  fig.tight_layout(pad = 20)\n"
     ]
    },
    {
     "data": {
      "image/png": "[encoded data removed]",
      "text/plain": [
       "<Figure size 432x288 with 1 Axes>"
      ]
     },
     "metadata": {},
     "output_type": "display_data"
    }
   ],
   "source": [
    "# genre niche of movies \n",
    "gen_mov_val = []\n",
    "genmov_lab = []\n",
    "\n",
    "sorted_cat_mov = sorted(cat_count.items())\n",
    "\n",
    "for element in sorted_cat_mov[0:10]:\n",
    "    gen_mov_val.append(element[1])\n",
    "    genmov_lab.append(element[0])\n",
    "\n",
    "plt.pie(gen_mov_val, labels = genmov_lab, autopct = \"%1.1f%%\", radius = 2.5)\n",
    "\n",
    "fig.tight_layout(pad = 20)\n",
    "\n",
    "plt.title('Hulu Top 10 Movie Genres', pad = 170)\n",
    "\n",
    "plt.savefig('pc_hulu_mov.png')"
   ]
  },
  {
   "cell_type": "code",
   "execution_count": 25,
   "id": "c5752187",
   "metadata": {},
   "outputs": [
    {
     "data": {
      "image/png": "[encoded data removed]",
      "text/plain": [
       "<Figure size 432x288 with 1 Axes>"
      ]
     },
     "metadata": {},
     "output_type": "display_data"
    }
   ],
   "source": [
    "# genre niche of tv shows\n",
    "gen_tv_val = []\n",
    "gentv_lab = []\n",
    "\n",
    "sorted_cat_tv = sorted(cat_count_tv.items())\n",
    "\n",
    "for element in sorted_cat_tv[0:10]:\n",
    "    gen_tv_val.append(element[1])\n",
    "    gentv_lab.append(element[0])\n",
    "\n",
    "plt.pie(gen_tv_val, labels = gentv_lab, autopct = \"%1.1f%%\", radius = 2.5)\n",
    "\n",
    "plt.title('Hulu Top 10 TV Genres', pad = 170)\n",
    "\n",
    "plt.savefig('pc_hulu.png')"
   ]
  },
  {
   "cell_type": "code",
   "execution_count": 26,
   "id": "0ff967e2",
   "metadata": {},
   "outputs": [
    {
     "data": {
      "text/plain": [
       "Text(0.5, 1.0, 'Most Common Advisory Age Ratings for Hulu Movies')"
      ]
     },
     "execution_count": 26,
     "metadata": {},
     "output_type": "execute_result"
    },
    {
     "data": {
      "image/png": "[encoded data removed]",
      "text/plain": [
       "<Figure size 432x288 with 1 Axes>"
      ]
     },
     "metadata": {},
     "output_type": "display_data"
    }
   ],
   "source": [
    "# count % of age advisory rating for movies and tv shows\n",
    "ratage_mov = movies[\"Advisory Age\"].value_counts()\n",
    "\n",
    "ratage_count = [16, 12, 4, 3]\n",
    "ratage_lab = ['16+','18+','7+','all']\n",
    "\n",
    "plt.pie(ratage_count, labels = ratage_lab, autopct = \"%1.1f%%\", radius = 1)\n",
    "\n",
    "plt.title('Most Common Advisory Age Ratings for Hulu Movies')"
   ]
  },
  {
   "cell_type": "code",
   "execution_count": 27,
   "id": "19f7fce1",
   "metadata": {},
   "outputs": [
    {
     "data": {
      "text/plain": [
       "Text(0.5, 1.0, 'Most Common Advisory Age Ratings for Hulu TV Shows')"
      ]
     },
     "execution_count": 27,
     "metadata": {},
     "output_type": "execute_result"
    },
    {
     "data": {
      "image/png": "[encoded data removed]",
      "text/plain": [
       "<Figure size 432x288 with 1 Axes>"
      ]
     },
     "metadata": {},
     "output_type": "display_data"
    }
   ],
   "source": [
    "ratage_tv = tv_show[\"Advisory Age\"].value_counts()\n",
    "ratage_tv\n",
    "\n",
    "ratage_count_tv = [318, 196, 159, 50, 4]\n",
    "ratage_lab_tv = ['16+','7+','18+','all','13+']\n",
    "\n",
    "plt.pie(ratage_count_tv, labels = ratage_lab_tv, autopct = \"%1.1f%%\", radius = 1)\n",
    "\n",
    "plt.title('Most Common Advisory Age Ratings for Hulu TV Shows')"
   ]
  },
  {
   "cell_type": "code",
   "execution_count": 28,
   "id": "63d92f7b",
   "metadata": {},
   "outputs": [
    {
     "data": {
      "image/png": "[encoded data removed]",
      "text/plain": [
       "<Figure size 576x720 with 2 Axes>"
      ]
     },
     "metadata": {
      "needs_background": "light"
     },
     "output_type": "display_data"
    }
   ],
   "source": [
    "# box plt for critical reception (unused)\n",
    "\n",
    "# for tv shows\n",
    "\n",
    "fig, axs = plt.subplots(2,figsize=(8,10))\n",
    "axs[0].boxplot(rttv_nn)\n",
    "axs[1].boxplot(imdbtv_nn)\n",
    "\n",
    "axs[0].set_title(\"Spread of Rotten Tomato Scores for Hulu TV Shows\")\n",
    "axs[1].set_title(\"Spread of IMDB Scores for Hulu TV Shows\")\n",
    "\n",
    "fig.tight_layout(pad = 3)\n",
    "\n",
    "axs[0].set_ylabel('Score (of 100)')\n",
    "axs[1].set_ylabel('Score (of 10)')\n",
    "\n",
    "fig.savefig('RT and IMDB Scores for Hulu')"
   ]
  },
  {
   "cell_type": "code",
   "execution_count": 29,
   "id": "ca4ed677",
   "metadata": {},
   "outputs": [
    {
     "data": {
      "image/png": "[encoded data removed]",
      "text/plain": [
       "<Figure size 360x720 with 2 Axes>"
      ]
     },
     "metadata": {
      "needs_background": "light"
     },
     "output_type": "display_data"
    }
   ],
   "source": [
    "# plotting both movies and tv shows\n",
    "\n",
    "# adjust so that imdb and rt scores are on the same scale\n",
    "rt_nn = [x/10 for x in rt_nn]\n",
    "\n",
    "rttv_nn = [x/10 for x in rttv_nn]\n",
    "\n",
    "fig, axs = plt.subplots(2,figsize=(5,10))\n",
    "axs[0].boxplot([imdbtv_nn, rttv_nn])\n",
    "axs[1].boxplot([imdb_nn, rt_nn])\n",
    "\n",
    "axs[0].set_title(\"Hulu Movie Ratings\")\n",
    "axs[1].set_title(\"Hulu TV Ratings\")\n",
    "axs[0].set_xticklabels(['Rotten Tomatoes','IMDB'])\n",
    "axs[1].set_xticklabels(['Rotten Tomatoes','IMDB'])\n",
    "\n",
    "fig.tight_layout(pad = 3)\n",
    "\n",
    "axs[0].set_ylabel('Score (of 10)')\n",
    "axs[1].set_ylabel('Score (of 10)')\n",
    "\n",
    "fig.savefig('RT AND IMDB Scores FOR HULU')\n"
   ]
  },
  {
   "cell_type": "code",
   "execution_count": 30,
   "id": "f49d2521",
   "metadata": {},
   "outputs": [
    {
     "data": {
      "text/plain": [
       "Text(0, 0.5, 'Count')"
      ]
     },
     "execution_count": 30,
     "metadata": {},
     "output_type": "execute_result"
    },
    {
     "data": {
      "image/png": "[encoded data removed]",
      "text/plain": [
       "<Figure size 432x288 with 1 Axes>"
      ]
     },
     "metadata": {
      "needs_background": "light"
     },
     "output_type": "display_data"
    }
   ],
   "source": [
    "# graphing the date added and release year of movies\n",
    "# (date added later cut from group analysis. chart later chanegd from bar to histogram, making variables with _keys and _count suffixes unused)\n",
    "\n",
    "date_add = [x for x in movies['Date Added']]\n",
    "date_add = set(date_add)\n",
    "date_add = list(date_add)\n",
    "\n",
    "split_date = []\n",
    "for date in date_add:\n",
    "    split_date.append(date.split(','))\n",
    "    \n",
    "year_added = [int(date[1]) for date in split_date]\n",
    "year_added_occ = collections.Counter(year_added)\n",
    "year_added_count = [float(x) for x in year_added_occ.values()]\n",
    "year_added_keys = [x for x in year_added_occ.keys()]\n",
    "\n",
    "year_rel = [float(x) for x in movies['Year'] if x != \"NaN\"]\n",
    "year_rel_occ = collections.Counter(year_rel)\n",
    "yr_rel_occ = sorted(year_rel_occ.items(), key=lambda pair: pair[0], reverse=False)\n",
    "\n",
    "year_rel_count = [float(x[1]) for x in yr_rel_occ]\n",
    "year_rel_keys = [x[0] for x in yr_rel_occ]\n",
    "year_rel_keys = [float(x) for x in year_rel_keys]\n",
    "\n",
    "plt.hist(year_rel)\n",
    "plt.ylim(0,40)\n",
    "\n",
    "plt.title('Distribution of Hulu Movie Release Years')\n",
    "plt.xlabel('Years')\n",
    "plt.ylabel('Count')"
   ]
  },
  {
   "cell_type": "code",
   "execution_count": 31,
   "id": "eade324b",
   "metadata": {},
   "outputs": [
    {
     "data": {
      "image/png": "[encoded data removed]",
      "text/plain": [
       "<Figure size 360x720 with 2 Axes>"
      ]
     },
     "metadata": {
      "needs_background": "light"
     },
     "output_type": "display_data"
    }
   ],
   "source": [
    "# date_add_tv = [x for x in tv_show['Date Added']]\n",
    "# date_add_tv = set(date_add_tv)\n",
    "# date_add_tv = list(date_add_tv)\n",
    "\n",
    "# split_date_tv = []\n",
    "# for date in date_add_tv:\n",
    "#     if str(date) != 'NaN':\n",
    "#         date.strip()\n",
    "#         split_date_tv.append(str(date.split(',')))\n",
    "\n",
    "# year_added = [date[1] for date in split_date]\n",
    "# year_added_occ_tv = collections.Counter(year_added_tv)\n",
    "# yr_added_occ = sorted(year_added_occ.items(), key=lambda pair: pair[0], reverse=False)\n",
    "# year_added_count = [float(x) for x in year_added_occ.values()]\n",
    "# year_added_keys = [float(x) for x in year_added_occ.keys()]\n",
    "\n",
    "# the release year for tv show entries\n",
    "year_rel_tv = [float(x) for x in tv_show['Year'] if x != \"NaN\"]\n",
    "year_rel_occ_tv = collections.Counter(year_rel_tv)\n",
    "yr_rel_occ_tv = sorted(year_rel_occ_tv.items(), key=lambda pair: pair[0], reverse=False)\n",
    "\n",
    "year_rel_counttv = [x[1] for x in yr_rel_occ_tv]\n",
    "year_rel_keystv = [x[0] for x in yr_rel_occ_tv]\n",
    "\n",
    "\n",
    "# graphing the release years of movies and tv shows together on one figure\n",
    "\n",
    "fig, axs = plt.subplots(2,figsize=(5,10))\n",
    "axs[0].hist(year_rel, color = 'navy', label = 'Release Year')\n",
    "axs[1].hist(year_rel_tv, color = 'green', label = 'Release Year')\n",
    "\n",
    "axs[0].set_title(\"Frequency of Movie Release Years\")\n",
    "axs[1].set_title(\"Frequency of TV Release Years\")\n",
    "\n",
    "axs[0].set_ylabel('Count')\n",
    "axs[1].set_ylabel('Count')\n",
    "\n",
    "\n",
    "axs[0].set_xlabel('Year')\n",
    "axs[1].set_xlabel('Year')\n",
    "\n",
    "axs[0].legend(loc = 'best')\n",
    "axs[1].legend(loc = 'best')\n",
    "\n",
    "plt.savefig('HULU RELEASE SCHEDULE')\n"
   ]
  },
  {
   "cell_type": "code",
   "execution_count": 32,
   "id": "9015af11",
   "metadata": {},
   "outputs": [
    {
     "data": {
      "image/png": "[encoded data removed]",
      "text/plain": [
       "<Figure size 864x288 with 1 Axes>"
      ]
     },
     "metadata": {
      "needs_background": "light"
     },
     "output_type": "display_data"
    }
   ],
   "source": [
    "date_add = [x for x in movies['Date Added']]\n",
    "date_add = set(date_add)\n",
    "date_add = list(date_add)\n",
    "\n",
    "\n",
    "split_date = []\n",
    "for date in date_add:\n",
    "    split_date.append(date.split(','))\n",
    "  \n",
    "split_date_2 = []\n",
    "for date in date_add:\n",
    "    split_date_2.append(date.split(' '))\n",
    "\n",
    "month_added = [date[0] for date in split_date_2 if str(date) != \"NaN\"]\n",
    "month_added_occ = collections.Counter(month_added)\n",
    "\n",
    "months = ['January','February','March','April','May','June','July','August','September','October','November','December']\n",
    "\n",
    "count = []\n",
    "for month in months:\n",
    "    count.append(month_added_occ.get(month))\n",
    "\n",
    "plt.figure(figsize=(12,4))\n",
    "plt.plot(months, count, color = 'green')\n",
    "\n",
    "plt.title(\"When Movies are Released in Hulu (by Month)\")\n",
    "plt.xlabel(\"Month\")\n",
    "plt.ylabel(\"Number of Movies\")\n",
    "\n",
    "plt.savefig('Month_Rel_Count.png')\n"
   ]
  },
  {
   "cell_type": "code",
   "execution_count": 33,
   "id": "2a347506",
   "metadata": {},
   "outputs": [
    {
     "data": {
      "image/png": "[encoded data removed]",
      "text/plain": [
       "<Figure size 360x720 with 2 Axes>"
      ]
     },
     "metadata": {
      "needs_background": "light"
     },
     "output_type": "display_data"
    }
   ],
   "source": [
    "date_add = [x for x in tv_show['Date Added']]\n",
    "date_add = set(date_add)\n",
    "date_add = list(date_add)\n",
    "\n",
    "split_date = []\n",
    "for date in date_add:\n",
    "    split_date.append(date.split(','))\n",
    "  \n",
    "split_date_2 = []\n",
    "for date in date_add:\n",
    "    split_date_2.append(date.split(' '))\n",
    "\n",
    "month_added = [date[0] for date in split_date_2 if str(date) != \"NaN\"]\n",
    "month_added_occ = collections.Counter(month_added)\n",
    "\n",
    "months = ['January','February','March','April','May','June','July','August','September','October','November','December']\n",
    "\n",
    "count_tv = []\n",
    "for month in months:\n",
    "    count_tv.append(month_added_occ.get(month))\n",
    "\n",
    "###\n",
    "date_add = [x for x in movies['Date Added']]\n",
    "date_add = set(date_add)\n",
    "date_add = list(date_add)\n",
    "\n",
    "\n",
    "split_date = []\n",
    "for date in date_add:\n",
    "    split_date.append(date.split(','))\n",
    "  \n",
    "split_date_2 = []\n",
    "for date in date_add:\n",
    "    split_date_2.append(date.split(' '))\n",
    "\n",
    "month_added = [date[0] for date in split_date_2 if str(date) != \"NaN\"]\n",
    "month_added_occ = collections.Counter(month_added)\n",
    "\n",
    "months = ['January','February','March','April','May','June','July','August','September','October','November','December']\n",
    "\n",
    "count = []\n",
    "for month in months:\n",
    "    count.append(month_added_occ.get(month))\n",
    "\n",
    "###\n",
    "\n",
    "fig, axs = plt.subplots(2,figsize=(5,10))\n",
    "axs[0].plot(months, count, color = 'navy', label = \"Movie Month\")\n",
    "axs[1].plot(months,count_tv, color = 'green', label = 'TV Month')\n",
    "\n",
    "axs[0].set_title(\"Frequency of Movie Release Years\")\n",
    "axs[1].set_title(\"Frequency of TV Release Years\")\n",
    "\n",
    "fig.tight_layout(pad = 3)\n",
    "\n",
    "axs[0].set_ylabel('Count')\n",
    "axs[1].set_ylabel('Count')\n",
    "\n",
    "plt.setp(axs[0].xaxis.get_majorticklabels(), rotation=30)\n",
    "plt.setp(axs[1].xaxis.get_majorticklabels(), rotation=30)\n",
    "\n",
    "axs[0].legend(loc = 'best')\n",
    "axs[1].legend(loc = 'best')\n",
    "\n",
    "plt.savefig('HULU RELEASE SCHEDULE')\n",
    "\n"
   ]
  },
  {
   "cell_type": "markdown",
   "id": "65148aa8",
   "metadata": {},
   "source": [
    "# Disney+ Data and Analysis"
   ]
  },
  {
   "cell_type": "markdown",
   "id": "7bf28013",
   "metadata": {},
   "source": [
    "MERGING AND DATA CLEANING"
   ]
  },
  {
   "cell_type": "code",
   "execution_count": 36,
   "id": "c086e7c4",
   "metadata": {},
   "outputs": [],
   "source": [
    "#variables for forloop\n",
    "import_filenames = ['disney_plus_content_1.csv', 'disney_plus_content_2.csv', 'movies_per_streaming.csv', 'shows_per_streaming.csv']\n",
    "\n",
    "#variable to store all df data\n",
    "df_list = []\n",
    "\n",
    "#importing data\n",
    "for path in import_filenames:\n",
    "    df_list.append(pd.read_csv(f\"Resources/{path}\"))"
   ]
  },
  {
   "cell_type": "code",
   "execution_count": null,
   "id": "c740614b",
   "metadata": {},
   "outputs": [],
   "source": [
    "#defining function for dropping columns\n",
    "def dropper(df, drop_columns):\n",
    "    df = df.drop(drop_columns, axis = 1)\n",
    "    return df"
   ]
  },
  {
   "cell_type": "code",
   "execution_count": null,
   "id": "28a00e30",
   "metadata": {},
   "outputs": [],
   "source": [
    "#variable for loop\n",
    "df_column_list = [\n",
    "    ['Imdb_Id', 'Plot', 'Released_At', 'Writer'],\n",
    "    ['Show_Id', 'Description'],\n",
    "    ['Unnamed: 0', 'Id', 'Netflix', 'Hulu', 'Prime Video'],\n",
    "    ['Unnamed: 0', 'Id', 'Netflix', 'Hulu', 'Prime Video']\n",
    "]"
   ]
  },
  {
   "cell_type": "code",
   "execution_count": null,
   "id": "d8c5cbb2",
   "metadata": {},
   "outputs": [],
   "source": [
    "#capitalizing and then dropping unnecessary columns\n",
    "for i in range(len(df_list)):\n",
    "    df_list[i].columns = map(str.title, df_list[i].columns)\n",
    "    df_list[i] = dropper(df_list[i], df_column_list[i])"
   ]
  },
  {
   "cell_type": "code",
   "execution_count": null,
   "id": "4a8638ef",
   "metadata": {},
   "outputs": [],
   "source": [
    "#manually slicing of df2,3\n",
    "for i in range(2,4):\n",
    "    df_list[i] = df_list[i].loc[df_list[i]['Disney+'] == 1]\n",
    "    df_list[i] = dropper(df_list[i], ['Disney+'])"
   ]
  },
  {
   "cell_type": "code",
   "execution_count": null,
   "id": "25a76463",
   "metadata": {},
   "outputs": [],
   "source": [
    "#merging all dfs\n",
    "merged_df_01 = pd.merge(df_list[0], df_list[1], on = 'Title', how = 'outer')\n",
    "merged_df_34 = pd.merge(df_list[2], df_list[3], on = 'Title', how = 'outer')\n",
    "merged_df = pd.merge(merged_df_01, merged_df_34, on = 'Title', how = 'outer')\n",
    "merged_df.head()"
   ]
  },
  {
   "cell_type": "code",
   "execution_count": null,
   "id": "93c07f4c",
   "metadata": {},
   "outputs": [],
   "source": [
    "#saving file for manual check\n",
    "merged_df.to_csv('Resources/raw_merge_df.csv')"
   ]
  },
  {
   "cell_type": "code",
   "execution_count": null,
   "id": "3652fd7a",
   "metadata": {},
   "outputs": [],
   "source": [
    "#checking columns\n",
    "print(merged_df.columns)"
   ]
  },
  {
   "cell_type": "code",
   "execution_count": null,
   "id": "6dda206a",
   "metadata": {},
   "outputs": [],
   "source": [
    "#writing a function that cleanly combines 2 columns\n",
    "def combined_2_columns(df, anchor_column, anchor_column_new_name, collapse_column, dropped_list, drop):\n",
    "    '''\n",
    "    anchor_column is the column series that you want everything to be compared to \n",
    "    anchor_column_new_name is the new name of that column\n",
    "    collapse_column is the list of columns to combine\n",
    "    dropped_list is an empty list that will track which values have NaN, used for debugging\n",
    "    drop whether or not to drop the values\n",
    "    '''\n",
    "    # populate relevant column, and if no values then drop\n",
    "    for i in range(len(df[anchor_column])):\n",
    "        if (pd.isnull(df[anchor_column][i])):\n",
    "            if (pd.isnull(df[collapse_column][i])):\n",
    "                dropped_list.append(i)\n",
    "                if (drop == True):\n",
    "                    df = df.drop(i, axis = 0)\n",
    "            else:\n",
    "                df.loc[i, anchor_column] = df.loc[i, collapse_column]\n",
    "\n",
    "    # fixing columns\n",
    "    df.reset_index(inplace = True)\n",
    "    df.drop([collapse_column, 'index'], axis = 1, inplace = True)\n",
    "    df.rename(columns = {anchor_column : anchor_column_new_name}, inplace = True)\n",
    "    if (drop == True):\n",
    "        return print(f\"Cleaning {anchor_column_new_name}, dropped {len(dropped_list)}.\")\n",
    "    else:\n",
    "        return print(f\"Cleaning {anchor_column_new_name}, has {len(dropped_list)} NaN's.\")"
   ]
  },
  {
   "cell_type": "code",
   "execution_count": null,
   "id": "141cda3e",
   "metadata": {},
   "outputs": [],
   "source": [
    "#writing functions for 3 columns\n",
    "def combined_3_columns(df, anchor_column, anchor_column_new_name, collapse_column, dropped_list, drop):\n",
    "    '''\n",
    "    anchor_column is the column series that you want everything to be compared to \n",
    "    anchor_column_new_name is the new name of that column\n",
    "    collapse_column is the list of columns to combine\n",
    "    dropped_list is an empty list that will track which values have NaN, used for debugging\n",
    "    drop whether or not to drop the values\n",
    "    '''\n",
    "    # populate relevant column, and if no values then drop\n",
    "    for i in range(len(df[anchor_column])):\n",
    "        if (pd.isnull(df[anchor_column][i])):\n",
    "            if (pd.isnull(df[collapse_column[0]][i])):\n",
    "                if (pd.isnull(df[collapse_column[1]][i])):\n",
    "                    dropped_list.append(i)\n",
    "                    if (drop == True):\n",
    "                        df = df.drop(i, axis = 0)\n",
    "                else:\n",
    "                    df.loc[i, anchor_column] = df.loc[i, collapse_column[1]]\n",
    "            else:\n",
    "                df.loc[i, anchor_column] = df.loc[i, collapse_column[0]]\n",
    "\n",
    "    # fixing columns\n",
    "    df.reset_index(inplace = True)\n",
    "    collapse_column.append('index')\n",
    "    df.drop(collapse_column, axis = 1, inplace = True)\n",
    "    df.rename(columns = {anchor_column : anchor_column_new_name}, inplace = True)\n",
    "    if (drop == True):\n",
    "        return print(f\"Cleaning {anchor_column_new_name}, dropped {len(dropped_list)}.\")\n",
    "    else:\n",
    "        return print(f\"Cleaning {anchor_column_new_name}, has {len(dropped_list)} NaN's.\")"
   ]
  },
  {
   "cell_type": "code",
   "execution_count": null,
   "id": "ddd2275e",
   "metadata": {},
   "outputs": [],
   "source": [
    "#writing functions for 4 columns\n",
    "def combined_4_columns(df, anchor_column, anchor_column_new_name, collapse_column, dropped_list, drop):\n",
    "    '''\n",
    "    anchor_column is the column series that you want everything to be compared to \n",
    "    anchor_column_new_name is the new name of that column\n",
    "    collapse_column is the list of columns to combine\n",
    "    dropped_list is an empty list that will track which values have NaN, used for debugging\n",
    "    drop whether or not to drop the values\n",
    "    '''\n",
    "    # populate relevant column, and if no values then drop\n",
    "    for i in range(len(df[anchor_column])):\n",
    "        if (pd.isnull(df[anchor_column][i])):\n",
    "            if (pd.isnull(df[collapse_column[0]][i])):\n",
    "                if (pd.isnull(df[collapse_column[1]][i])):\n",
    "                    if (pd.isnull(df[collapse_column[2]][i])):\n",
    "                        dropped_list.append(i)\n",
    "                        if (drop == True):\n",
    "                            df = df.drop(i, axis = 0)\n",
    "                    else:\n",
    "                        df.loc[i, anchor_column] = df.loc[i, collapse_column[2]]\n",
    "                else:\n",
    "                    df.loc[i, anchor_column] = df.loc[i, collapse_column[1]]\n",
    "            else:\n",
    "                df.loc[i, anchor_column] = df.loc[i, collapse_column[0]]\n",
    "\n",
    "    # fixing columns\n",
    "    df.reset_index(inplace = True)\n",
    "    collapse_column.append('index')\n",
    "    df.drop(collapse_column, axis = 1, inplace = True)\n",
    "    df.rename(columns = {anchor_column : anchor_column_new_name}, inplace = True)\n",
    "    if (drop == True):\n",
    "        return print(f\"Cleaning {anchor_column_new_name}, dropped {len(dropped_list)}.\")\n",
    "    else:\n",
    "        return print(f\"Cleaning {anchor_column_new_name}, has {len(dropped_list)} NaN's.\")"
   ]
  },
  {
   "cell_type": "code",
   "execution_count": null,
   "id": "e570f839",
   "metadata": {},
   "outputs": [],
   "source": [
    "#writing function to chop off unnecessary strings\n",
    "def str_fix(df, column_name, delimiter, output_type):\n",
    "    '''\n",
    "    df = the dataframe youre working in\n",
    "    column_name = the column that you want to clean\n",
    "    delimiter = the separator in the text\n",
    "    output_type = str if string, float if float, no value if just want default type\n",
    "    '''\n",
    "    #variable\n",
    "    str_values = []\n",
    "    corrected_values = []\n",
    "    typed_values = []\n",
    "    \n",
    "    #splitting\n",
    "    str_values = df[column_name].values.astype(str).tolist()\n",
    "    corrected_values = [value.split(delimiter, 1)[0] for value in str_values]\n",
    "\n",
    "    #fixing the nans\n",
    "    for i in range(len(corrected_values)):\n",
    "        if (corrected_values[i] == 'nan'):\n",
    "            corrected_values[i] = ''\n",
    "            \n",
    "    #assigning back\n",
    "    df[column_name] = corrected_values\n",
    "    if (output_type == 'str'):\n",
    "        df[column_name] = df[column_name].astype(str)\n",
    "    elif (output_type == 'float'):\n",
    "        df[column_name] = pd.to_numeric(df[column_name], errors = 'coerce')\n",
    "    else:\n",
    "        df[column_name] = corrected_values\n",
    "    \n",
    "    #return\n",
    "    return None"
   ]
  },
  {
   "cell_type": "code",
   "execution_count": null,
   "id": "3800d4eb",
   "metadata": {},
   "outputs": [],
   "source": [
    "#variables for for loop\n",
    "anchor_ls = ['Age_x', 'Rated', 'Added_At', 'Rotten Tomatoes_x', 'Actors', 'Language_x', 'Runtime_x']\n",
    "anchor_name_ls = ['Age Advisory Rating', 'Advisory Rating', 'Available to Public on', 'Rotten Tomatoes Score', 'Cast', 'Available Languages', 'Runtime']\n",
    "column_ls = ['Age_y', 'Rating', 'Date_Added', 'Rotten Tomatoes_y', 'Cast', 'Language_y', 'Runtime_y']\n",
    "boolean_ls = [False, False, False, False, False, False, False]"
   ]
  },
  {
   "cell_type": "code",
   "execution_count": null,
   "id": "14d95e91",
   "metadata": {},
   "outputs": [],
   "source": [
    "#Age, Rating, Date Added, Rotten, IMDB, Cast, Languages\n",
    "for i in range(len(anchor_ls)):\n",
    "    dropped_list = [] #reseting for every df\n",
    "    combined_2_columns(merged_df, anchor_ls[i], anchor_name_ls[i], column_ls[i], dropped_list, boolean_ls[i])"
   ]
  },
  {
   "cell_type": "code",
   "execution_count": null,
   "id": "bf931d16",
   "metadata": {},
   "outputs": [],
   "source": [
    "print(merged_df.columns)"
   ]
  },
  {
   "cell_type": "code",
   "execution_count": null,
   "id": "a54fc271",
   "metadata": {},
   "outputs": [],
   "source": [
    "#variables for for loop\n",
    "anchor_ls = ['Genre', 'Director_x', 'Country_x', 'Imdb_Rating']\n",
    "anchor_name_ls = ['Genre', 'Director', 'Country', 'IMDB Score']\n",
    "column_ls = [['Listed_In', 'Genres'], ['Director_y', 'Directors'], ['Country_y', 'Country'], ['Imdb_x', 'Imdb_y']]\n",
    "boolean_ls = [True, False, False, False]"
   ]
  },
  {
   "cell_type": "code",
   "execution_count": null,
   "id": "6c977c8c",
   "metadata": {},
   "outputs": [],
   "source": [
    "#Runtime, Genre, Director, Country\n",
    "for i in range(len(anchor_ls)):\n",
    "    dropped_list = [] #reseting for every df\n",
    "    combined_3_columns(merged_df, anchor_ls[i], anchor_name_ls[i], column_ls[i], dropped_list, boolean_ls[i])"
   ]
  },
  {
   "cell_type": "code",
   "execution_count": null,
   "id": "39e98f19",
   "metadata": {},
   "outputs": [],
   "source": [
    "print(merged_df.columns)"
   ]
  },
  {
   "cell_type": "code",
   "execution_count": null,
   "id": "5f0ad6d9",
   "metadata": {},
   "outputs": [],
   "source": [
    "#finding unique categorical values for Type\n",
    "print(f\"Unique categorical values are {merged_df['Type_x_x'].append(merged_df['Type_y_x']).append(merged_df['Type_x_y']).append(merged_df['Type_y_y']).unique()}\")\n",
    "\n",
    "#standardizing values\n",
    "merged_df['Type_x_x'] = merged_df['Type_x_x'].str.title()\n",
    "merged_df['Type_x_y'].replace(0, 'Movie', inplace = True)\n",
    "merged_df['Type_y_y'].replace(1, 'TV Show', inplace = True)\n",
    "merged_df['Type_x_x'].replace(['Series', 'Episode'], ['TV Show','TV Show'], inplace = True)"
   ]
  },
  {
   "cell_type": "code",
   "execution_count": null,
   "id": "6cc2ed5e",
   "metadata": {},
   "outputs": [],
   "source": [
    "#variables for for loop\n",
    "anchor_ls = ['Type_x_x', 'Year']\n",
    "anchor_name_ls = ['Offering Type', 'Year Released']\n",
    "column_ls = [['Type_y_x', 'Type_x_y', 'Type_y_y'], ['Release_Year', 'Year_x', 'Year_y']]\n",
    "boolean_ls = [True, False]"
   ]
  },
  {
   "cell_type": "code",
   "execution_count": null,
   "id": "c52370a1",
   "metadata": {},
   "outputs": [],
   "source": [
    "#Type and Release Year\n",
    "for i in range(len(anchor_ls)):\n",
    "    dropped_list = [] #reseting for every df\n",
    "    combined_4_columns(merged_df, anchor_ls[i], anchor_name_ls[i], column_ls[i], dropped_list, boolean_ls[i])"
   ]
  },
  {
   "cell_type": "code",
   "execution_count": null,
   "id": "53f51e4f",
   "metadata": {},
   "outputs": [],
   "source": [
    "print(merged_df.columns)"
   ]
  },
  {
   "cell_type": "code",
   "execution_count": null,
   "id": "4204c7a1",
   "metadata": {},
   "outputs": [],
   "source": [
    "#after manually reviewing file, still some cleaning to do\n",
    "merged_df.dtypes"
   ]
  },
  {
   "cell_type": "code",
   "execution_count": null,
   "id": "f3a010f3",
   "metadata": {},
   "outputs": [],
   "source": [
    "#manual adjustment\n",
    "merged_df.drop(['Type_y_x', 'Listed_In', 'Type_x_y', 'Genres', 'Type_y_y'], axis = 1, inplace = True)\n",
    "merged_df.rename(columns = {'Type_x_x' : 'Offering Medium', 'Imdb_Votes' : 'IMDB Votes'}, inplace = True)"
   ]
  },
  {
   "cell_type": "code",
   "execution_count": null,
   "id": "28ec7bce",
   "metadata": {},
   "outputs": [],
   "source": [
    "#dropping the NaNs that didn't get picked up\n",
    "for i in range(len(merged_df['Title'])):\n",
    "    if (pd.isnull(merged_df.loc[i, 'Title']) | pd.isnull(merged_df.loc[i, 'Genre'])):\n",
    "        merged_df.drop(i, axis = 0, inplace = True)"
   ]
  },
  {
   "cell_type": "code",
   "execution_count": null,
   "id": "386aaaf9",
   "metadata": {},
   "outputs": [],
   "source": [
    "#resetting index after drops\n",
    "merged_df.reset_index(inplace = True)\n",
    "merged_df.drop('index', axis = 1, inplace = True)"
   ]
  },
  {
   "cell_type": "code",
   "execution_count": null,
   "id": "1cb682a2",
   "metadata": {},
   "outputs": [],
   "source": [
    "merged_df['Duration'] = merged_df['Duration'].astype(str)\n",
    "for i in range(len(merged_df['Duration'])):\n",
    "    if ('Season' not in merged_df['Duration'][i]):\n",
    "        merged_df.loc[i,'Duration'] = np.NaN"
   ]
  },
  {
   "cell_type": "code",
   "execution_count": null,
   "id": "88ef3496",
   "metadata": {},
   "outputs": [],
   "source": [
    "#saving file for manual check\n",
    "merged_df.to_csv('clean_merge_df.csv')"
   ]
  },
  {
   "cell_type": "code",
   "execution_count": null,
   "id": "39b6255a",
   "metadata": {},
   "outputs": [],
   "source": [
    "#all floats\n",
    "float_list = ['Runtime', 'IMDB Score', 'IMDB Votes', 'Duration', 'Rotten Tomatoes Score', 'Year Released']\n",
    "delimiter_list = [' ', ' ', ' ', ' ', '/', '–']\n",
    "type_list = ['float', 'float', 'float', 'float', 'float', 'str']\n",
    "for i in range(len(float_list)):\n",
    "    str_fix(merged_df, float_list[i], delimiter_list[i], type_list[i])"
   ]
  },
  {
   "cell_type": "code",
   "execution_count": null,
   "id": "51f11a53",
   "metadata": {},
   "outputs": [],
   "source": [
    "#after group meeting, changed the column headers\n",
    "merged_df = merged_df.rename(columns = {'Offering Medium' : 'Type',\n",
    "                                        'Rotten Tomatoes Score' : 'Rotten Tomatoes Rating',\n",
    "                                        'Year Released' : 'Year',\n",
    "                                        'Available Languages' : 'Language',\n",
    "                                        'Age Advisory Rating' : 'Advisory Age',\n",
    "                                        'Available to Public on' : 'Date Added',\n",
    "                                        'IMDB Score' : 'IMDB Rating',\n",
    "                                       })"
   ]
  },
  {
   "cell_type": "code",
   "execution_count": null,
   "id": "a81f4c41",
   "metadata": {},
   "outputs": [],
   "source": [
    "#reroganizing column headers\n",
    "print(merged_df.columns)\n",
    "merged_df = merged_df[['Title', 'Type', 'Genre',\n",
    "                       'Year', 'Date Added',\n",
    "                       'Director', \n",
    "                       'Runtime', 'Duration',\n",
    "                       'Country', 'Language',\n",
    "                       'Rotten Tomatoes Rating', 'IMDB Rating',\n",
    "                       'Advisory Rating', 'Advisory Age']]"
   ]
  },
  {
   "cell_type": "code",
   "execution_count": null,
   "id": "fab4156a",
   "metadata": {},
   "outputs": [],
   "source": [
    "#prepping for mass merge\n",
    "merged_df['Disney+'] = 1"
   ]
  },
  {
   "cell_type": "code",
   "execution_count": null,
   "id": "66f09172",
   "metadata": {},
   "outputs": [],
   "source": [
    "#minor cleaning\n",
    "merged_df.loc[:,'Advisory Rating'].replace(['APPROVED','Not Rated', 'UNRATED', 'NOT RATED', 'PASSED'], ['Approved', 'Unrated', 'Unrated', 'Unrated', 'Passed'], inplace = True)\n",
    "merged_df['Advisory Rating'].unique()"
   ]
  },
  {
   "cell_type": "code",
   "execution_count": null,
   "id": "fa0f7d05",
   "metadata": {},
   "outputs": [],
   "source": [
    "#saving file for manual check\n",
    "merged_df.to_csv('Resources/clean_merge_df.csv', index = False)"
   ]
  },
  {
   "cell_type": "markdown",
   "id": "f7801ab3",
   "metadata": {},
   "source": [
    "DISNEY+ ANALYSIS"
   ]
  },
  {
   "cell_type": "code",
   "execution_count": null,
   "id": "40029f24",
   "metadata": {},
   "outputs": [],
   "source": [
    "df = pd.read_csv('Resources/clean_merge_df.csv')\n",
    "print(df.columns)\n",
    "df.head()"
   ]
  },
  {
   "cell_type": "code",
   "execution_count": null,
   "id": "2eb0acf3",
   "metadata": {},
   "outputs": [],
   "source": [
    "#manual cleaning for analyses\n",
    "df['Month Added'] = df.loc[:,'Date Added'].str.split(' ', expand = True)[0]\n",
    "df['Year Added'] = df.loc[:,'Date Added'].str.split(' ', expand = True)[2].str.strip()\n",
    "df.head()"
   ]
  },
  {
   "cell_type": "code",
   "execution_count": null,
   "id": "db6d94fd",
   "metadata": {},
   "outputs": [],
   "source": [
    "#separating movies and tv shows\n",
    "movie_df = df.loc[df['Type'] == 'Movie']\n",
    "tv_df = df.loc[df['Type'] == 'TV Show']"
   ]
  },
  {
   "cell_type": "code",
   "execution_count": null,
   "id": "f8b4997e",
   "metadata": {},
   "outputs": [],
   "source": [
    "#extract function to pull out categorical data\n",
    "def extract(df, input_column):\n",
    "    return df.loc[:, input_column].dropna(axis = 0).str.split(',', expand = False).tolist()"
   ]
  },
  {
   "cell_type": "code",
   "execution_count": null,
   "id": "5fbe045e",
   "metadata": {},
   "outputs": [],
   "source": [
    "#flattening functions to allow for counting\n",
    "def flatten(df, input_column):\n",
    "    input_list = extract(df, input_column)\n",
    "    return_list = []\n",
    "    \n",
    "    for i in range(len(input_list)):\n",
    "        for j in range(len(input_list[i])):\n",
    "            return_list.append(input_list[i][j].strip())\n",
    "    return return_list"
   ]
  },
  {
   "cell_type": "code",
   "execution_count": null,
   "id": "7873a8c3",
   "metadata": {},
   "outputs": [],
   "source": [
    "#frequency counter function to count categorical data\n",
    "def frequency(df, input_column):\n",
    "    input_list = flatten(df, input_column)\n",
    "    return_dict = {}\n",
    "    \n",
    "    for element in input_list:\n",
    "        if (element in return_dict):\n",
    "            return_dict[element] += 1\n",
    "        else:\n",
    "            return_dict[element] = 1\n",
    "    return pd.Series(return_dict).sort_values(ascending = False)"
   ]
  },
  {
   "cell_type": "code",
   "execution_count": null,
   "id": "c36bdef4",
   "metadata": {},
   "outputs": [],
   "source": [
    "#keeps top five results of a frequency \n",
    "def top_five(df, input_column):\n",
    "    input_series = frequency(df, input_column)\n",
    "    \n",
    "    input_series_x = input_series.index.tolist()[0:5]\n",
    "    input_series_x.append('Other')\n",
    "    \n",
    "    input_series_y = input_series.values.tolist()\n",
    "    other_sum = sum(input_series_y[5:-1])\n",
    "    input_series_y = input_series_y[0:5]\n",
    "    input_series_y.append(other_sum)\n",
    "\n",
    "    return pd.Series(input_series_y, index = input_series_x)"
   ]
  },
  {
   "cell_type": "code",
   "execution_count": null,
   "id": "339ef09d",
   "metadata": {},
   "outputs": [],
   "source": [
    "#keeps top five results of a frequency \n",
    "def top_ten(df, input_column):\n",
    "    input_series = frequency(df, input_column)\n",
    "    \n",
    "    input_series_x = input_series.index.tolist()[0:10]\n",
    "    input_series_x.append('Other')\n",
    "    \n",
    "    input_series_y = input_series.values.tolist()\n",
    "    other_sum = sum(input_series_y[10:-1])\n",
    "    input_series_y = input_series_y[0:10]\n",
    "    input_series_y.append(other_sum)\n",
    "\n",
    "    return pd.Series(input_series_y, index = input_series_x)"
   ]
  },
  {
   "cell_type": "code",
   "execution_count": null,
   "id": "7229dc73",
   "metadata": {},
   "outputs": [],
   "source": [
    "#advisory ratings raw\n",
    "advisory_rating_mov = top_five(movie_df, 'Advisory Rating')\n",
    "advisory_rating_tv = top_five(tv_df, 'Advisory Rating')"
   ]
  },
  {
   "cell_type": "code",
   "execution_count": null,
   "id": "157fecea",
   "metadata": {},
   "outputs": [],
   "source": [
    "#plotting\n",
    "fig, (gr0, gr1) = plt.subplots(2, 1, figsize = (5,10), sharey = True)\n",
    "\n",
    "# fig.supxlabel(\"Most Frequent Adivsory Ratings on Disney+\")\n",
    "# fig.supylabel(\"Counts\")\n",
    "advisory_rating_mov.plot(kind = 'bar', ax = gr0, color = 'navy', label = 'Movie Counts')\n",
    "advisory_rating_tv.plot(kind = 'bar', ax = gr1, color = 'green', label = 'TV Counts')\n",
    "gr0.set_title(\"Disney+ Top 5 Movie Ratings\")\n",
    "gr1.set_title(\"Disney+ Top 5 TV Ratings\")\n",
    "plt.setp(gr0.xaxis.get_majorticklabels(), rotation=0)\n",
    "plt.setp(gr1.xaxis.get_majorticklabels(), rotation=0)\n",
    "gr0.legend(loc = 'best')\n",
    "gr1.legend(loc = 'best')\n",
    "plt.tight_layout()\n",
    "plt.savefig(\"Images/Ratings.png\")"
   ]
  },
  {
   "cell_type": "code",
   "execution_count": null,
   "id": "201fff69",
   "metadata": {},
   "outputs": [],
   "source": [
    "#advisory ratings raw\n",
    "country_mov = top_five(movie_df, 'Country')\n",
    "country_tv = top_five(tv_df, 'Country')\n",
    "language_mov = top_five(movie_df, 'Language')\n",
    "language_tv = top_five(tv_df, 'Language')"
   ]
  },
  {
   "cell_type": "code",
   "execution_count": null,
   "id": "78cbf0a7",
   "metadata": {},
   "outputs": [],
   "source": [
    "#plotting\n",
    "fig, ((gr0, gr1), (gr2, gr3)) = plt.subplots(2, 2, figsize = (10,10), sharey = True)\n",
    "fig.suptitle(\"Disney+ Top 5 Country and Language Frequencies\")\n",
    "fig.supxlabel(\"Age Advisory Ratings\")\n",
    "fig.supylabel(\"Counts\")\n",
    "country_mov.plot(kind = 'bar', ax = gr0, color = 'navy', label = 'Movie Counts of Countries')\n",
    "country_tv.plot(kind = 'bar', ax = gr1, color = 'green', label = 'TV Counts of Countries')\n",
    "language_mov.plot(kind = 'bar', ax = gr2, color = 'blue', label = 'Movie Counts of Languages')\n",
    "language_tv.plot(kind = 'bar', ax = gr3, color = 'teal', label = 'TV Counts of Languages')\n",
    "gr0.legend(loc = 'best')\n",
    "gr1.legend(loc = 'best')\n",
    "gr2.legend(loc = 'best')\n",
    "gr3.legend(loc = 'best')\n",
    "plt.tight_layout()\n",
    "plt.savefig(\"Images/Country_Ratings.png\")"
   ]
  },
  {
   "cell_type": "code",
   "execution_count": null,
   "id": "54799c7f",
   "metadata": {},
   "outputs": [],
   "source": [
    "#getting values\n",
    "genre_mov = top_ten(movie_df, 'Genre')\n",
    "genre_tv = top_ten(tv_df, 'Genre')"
   ]
  },
  {
   "cell_type": "code",
   "execution_count": null,
   "id": "8c3bdda9",
   "metadata": {},
   "outputs": [],
   "source": [
    "#variables\n",
    "explosion_values = [0.1,0,0,0,0,0,0,0,0,0,0]\n",
    "color_values = ['white', 'crimson', 'orange', 'yellow', 'lawngreen', 'turquoise', 'deepskyblue', 'navy', 'darkviolet', 'deeppink', 'gray']\n",
    "\n",
    "#plotting\n",
    "plt.figure(figsize = (7,7))\n",
    "plt.title(\"Disney+ Top 10 Movie Genres\")\n",
    "# plt.xlabel(\"Movies\")\n",
    "plt.pie(genre_mov.values.tolist(), labels = genre_mov.index.tolist(), explode = explosion_values, autopct = '%1.1f%%', shadow = True)\n",
    "plt.tight_layout()\n",
    "plt.savefig(\"Images/Genres1.png\")"
   ]
  },
  {
   "cell_type": "code",
   "execution_count": null,
   "id": "5ccd21f5",
   "metadata": {},
   "outputs": [],
   "source": [
    "#variables\n",
    "explosion_values = [0.1,0,0,0,0,0,0,0,0,0,0]\n",
    "\n",
    "#plotting\n",
    "plt.figure(figsize = (7,7))\n",
    "plt.title(\"Disney+ Top 10 TV Genres\")\n",
    "# plt.xlabel(\"TV Shows\")\n",
    "plt.pie(genre_tv.values.tolist(), labels = genre_tv.index.tolist(), explode = explosion_values, autopct = '%1.1f%%', shadow = True)\n",
    "plt.tight_layout()\n",
    "plt.savefig(\"Images/Genres2.png\")"
   ]
  },
  {
   "cell_type": "code",
   "execution_count": null,
   "id": "b0e45f08",
   "metadata": {},
   "outputs": [],
   "source": [
    "#extracting information\n",
    "age_mov = top_five(movie_df, 'Advisory Age')\n",
    "age_tv = top_five(tv_df, 'Advisory Age')"
   ]
  },
  {
   "cell_type": "code",
   "execution_count": null,
   "id": "92bf78ca",
   "metadata": {},
   "outputs": [],
   "source": [
    "#variables\n",
    "explosion_values = [0.1,0,0,0,0,0]\n",
    "color_values = ['white', 'crimson', 'yellow', 'lawngreen', 'deepskyblue']\n",
    "\n",
    "#plotting\n",
    "plt.figure(figsize = (7,7))\n",
    "plt.title(\"Disney+ Top 10 Age Groups\")\n",
    "plt.xlabel(\"Age Groups\")\n",
    "plt.pie(age_mov.values.tolist(), labels = age_mov.index.tolist(), explode = explosion_values, colors = color_values, autopct = '%1.1f%%', shadow = True)\n",
    "plt.tight_layout()\n",
    "plt.savefig(\"Images/Age1.png\")"
   ]
  },
  {
   "cell_type": "code",
   "execution_count": null,
   "id": "6fc5bebe",
   "metadata": {},
   "outputs": [],
   "source": [
    "#variables\n",
    "explosion_values = [0.1,0,0,0,0]\n",
    "color_values = ['white', 'crimson', 'yellow', 'lawngreen', 'deepskyblue']\n",
    "\n",
    "#plotting\n",
    "plt.figure(figsize = (7,7))\n",
    "plt.title(\"Disney+ Top 10 Age Groups\")\n",
    "plt.xlabel(\"Age Groups\")\n",
    "plt.pie(age_tv.values.tolist(), labels = age_tv.index.tolist(), explode = explosion_values, colors = color_values, autopct = '%1.1f%%', shadow = True)\n",
    "plt.tight_layout()\n",
    "plt.savefig(\"Images/Age2.png\")"
   ]
  },
  {
   "cell_type": "code",
   "execution_count": null,
   "id": "40ca04ff",
   "metadata": {},
   "outputs": [],
   "source": [
    "#plotting\n",
    "fig, (gr0, gr1) = plt.subplots(2, 1, figsize = (5, 10))\n",
    "# fig.suptitle(\"Disney+ Ratings\")\n",
    "fig.supxlabel(\"Ratings\")\n",
    "fig.supylabel(\"Score\")\n",
    "mov_data = [movie_df['IMDB Rating'].dropna(), movie_df['Rotten Tomatoes Rating'].dropna()/10]\n",
    "tv_data = [tv_df['IMDB Rating'].dropna(), tv_df['Rotten Tomatoes Rating'].dropna()/10]\n",
    "\n",
    "gr0.boxplot(mov_data, labels = ['IMDB', 'Rotten Tomatoes'])\n",
    "gr0.set_title('Disney+ Movie Ratings')\n",
    "gr1.boxplot(tv_data, labels = ['IMDB', 'Rotten Tomatoes'])\n",
    "gr1.set_title('Disney+ TV Ratings')\n",
    "\n",
    "plt.tight_layout()\n",
    "plt.savefig(\"Images/BoxRatings.png\")"
   ]
  },
  {
   "cell_type": "code",
   "execution_count": null,
   "id": "34879dec",
   "metadata": {},
   "outputs": [],
   "source": [
    "#plotting\n",
    "fig, (gr0, gr1) = plt.subplots(2, 1, sharex = True, sharey = True, figsize = (5,10))\n",
    "# # fig.suptitle(\"Disney+ Release Frequency by Year\")\n",
    "# fig.supxlabel(\"Year\")\n",
    "# fig.supylabel(\"Count\")\n",
    "\n",
    "mov_release_x = movie_df['Year'].value_counts().sort_index().index.astype(int).tolist()\n",
    "mov_release_y = movie_df['Year'].value_counts().sort_index().values.astype(int).tolist()\n",
    "mov_added_x = movie_df['Year Added'].value_counts().sort_index().index.astype(int).tolist()\n",
    "mov_added_y = movie_df['Year Added'].value_counts().sort_index().values.astype(int).tolist()\n",
    "\n",
    "tv_release_x = tv_df['Year'].value_counts().sort_index().index.astype(int).tolist()\n",
    "tv_release_y = tv_df['Year'].value_counts().sort_index().values.astype(int).tolist()\n",
    "tv_added_x = tv_df['Year Added'].value_counts().sort_index().index.astype(int).tolist()\n",
    "tv_added_y = tv_df['Year Added'].value_counts().sort_index().values.astype(int).tolist()\n",
    "\n",
    "gr0.hist(movie_df['Year'], bins = 5, color = 'navy', label = 'Release Year')\n",
    "gr0.set_title(\"Disney+ Frequency of Movie Release Years\")\n",
    "gr1.set_title(\"Disney+ Frequency of TV Release Years\")\n",
    "gr1.hist(tv_df['Year'], bins = 5, color = 'green', label = 'Release Year')\n",
    "\n",
    "gr0.legend(loc = 'upper left')\n",
    "gr1.legend(loc = 'upper left')\n",
    "plt.tight_layout\n",
    "plt.savefig(\"Images/YearsReleaseAdded.png\")"
   ]
  },
  {
   "cell_type": "code",
   "execution_count": null,
   "id": "f4d33b3f",
   "metadata": {},
   "outputs": [],
   "source": [
    "#plotting\n",
    "fig, (gr0, gr1) = plt.subplots(2, 1, figsize = (5,10), sharey = True)\n",
    "# fig.suptitle(\"Disney+ Update Schedule\")\n",
    "# fig.supxlabel(\"Time\")\n",
    "# fig.supylabel(\"Counts\")\n",
    "\n",
    "months_labels = ['January', 'February', 'March', 'April', 'May', 'June', 'July', 'August', 'September', 'October', 'November', 'December']\n",
    "months_xticks = [1,2,3,4,5,6,7,8,9,10,11,12]\n",
    "\n",
    "avail_mov_mon_y = movie_df['Month Added'].value_counts().tolist()\n",
    "avail_mov_mon_x = movie_df['Month Added'].value_counts().index.tolist()\n",
    "complete_mov_mon_x = avail_mov_mon_x\n",
    "mapper_list = [months_labels.index(element) for element in complete_mov_mon_x]\n",
    "\n",
    "complete_mov_mon_y = []\n",
    "for i in range(len(months_labels)):\n",
    "    if i in mapper_list:\n",
    "        complete_mov_mon_y.append(avail_mov_mon_y[mapper_list.index(i)])\n",
    "    else:\n",
    "        complete_mov_mon_y.append(0)\n",
    "    \n",
    "\n",
    "gr0.plot(months_labels, complete_mov_mon_y, color = 'navy', label = 'Movie Month')\n",
    "plt.setp(gr0.xaxis.get_majorticklabels(), rotation=30)\n",
    "\n",
    "avail_tv_mon_y = tv_df['Month Added'].value_counts().tolist()\n",
    "avail_tv_mon_x = tv_df['Month Added'].value_counts().index.tolist()\n",
    "complete_tv_mon_x = avail_tv_mon_x\n",
    "mapper_list = [months_labels.index(element) for element in complete_tv_mon_x]\n",
    "\n",
    "complete_tv_mon_y = []\n",
    "for i in range(len(months_labels)):\n",
    "    if i in mapper_list:\n",
    "        complete_tv_mon_y.append(avail_tv_mon_y[mapper_list.index(i)])\n",
    "    else:\n",
    "        complete_tv_mon_y.append(0)\n",
    "\n",
    "gr1.plot(months_labels, complete_tv_mon_y, color = 'green', label = 'TV Month')\n",
    "plt.setp(gr1.xaxis.get_majorticklabels(), rotation=30)\n",
    "\n",
    "gr0.set_title(\"Disney+ Movie Update Schedule\")\n",
    "gr1.set_title(\"Disney+ TV Update Schedule\")\n",
    "\n",
    "gr0.legend(loc = 'best')\n",
    "gr1.legend(loc = 'upper left')\n",
    "plt.tight_layout()\n",
    "plt.savefig(\"Images/MonthsReleaseAdded.png\")"
   ]
  },
  {
   "cell_type": "markdown",
   "id": "4e16680c",
   "metadata": {},
   "source": [
    "# NETFLIX DATA AND ANALYSIS"
   ]
  },
  {
   "cell_type": "markdown",
   "id": "d194e755",
   "metadata": {},
   "source": [
    "MERGING AND DATA CLEANING"
   ]
  },
  {
   "cell_type": "code",
   "execution_count": null,
   "id": "5ad08c6f",
   "metadata": {},
   "outputs": [],
   "source": [
    "#load data into DataFrame (https://www.kaggle.com/ruchi798/movies-on-netflix-prime-video-hulu-and-disney)\n",
    "movie_streaming_df = pd.read_csv(\"MoviesOnStreamingPlatforms_updated.csv\")\n",
    "movie_streaming_df['type'] = 'Movie'\n",
    "\n",
    "#clean unnecessary columns\n",
    "movie_streaming_df.drop(['Unnamed: 0', 'ID', 'Prime Video', 'Type'], axis = 1, inplace = True)\n",
    "\n",
    "movie_streaming_df.rename(columns={'type': 'Type'}, inplace = True)\n",
    "\n",
    "#filter dataframe to just movies on netflix\n",
    "movie_netflix_filtered_df = movie_streaming_df.loc[(movie_streaming_df['Netflix'] == 1) &\n",
    "                                                        (movie_streaming_df['Hulu'] == 0) &\n",
    "                                                        (movie_streaming_df['Disney+'] == 0)]\n",
    "\n",
    "movie_netflix_filtered_df.reset_index(inplace = True)\n",
    "movie_netflix_filtered_df.columns"
   ]
  },
  {
   "cell_type": "code",
   "execution_count": null,
   "id": "6d39769f",
   "metadata": {},
   "outputs": [],
   "source": [
    "#load data into DataFrame (https://www.kaggle.com/ruchi798/tv-shows-on-netflix-prime-video-hulu-and-disney)\n",
    "tv_shows_streaming_df = pd.read_csv(\"tv_shows.csv\")\n",
    "tv_shows_streaming_df['type'] = 'TV Show'\n",
    "\n",
    "del tv_shows_streaming_df['Type']\n",
    "\n",
    "tv_shows_streaming_df.rename(columns={'type': 'Type'}, inplace = True)\n",
    "\n",
    "#clean unnecessary columns\n",
    "tv_shows_streaming_df.drop(['Unnamed: 0', 'ID', 'Prime Video'], axis = 1, inplace = True)\n",
    "\n",
    "#filter dataframe to just tv_shows on netflix\n",
    "tv_show_netflix_filtered_df = tv_shows_streaming_df.loc[(tv_shows_streaming_df['Netflix'] == 1) &\n",
    "                                                        (tv_shows_streaming_df['Hulu'] == 0) &\n",
    "                                                        ((tv_shows_streaming_df['Disney+'] == 0))]\n",
    "\n",
    "tv_show_netflix_filtered_df.reset_index(inplace = True)\n",
    "del tv_show_netflix_filtered_df['index']\n",
    "\n",
    "tv_show_netflix_filtered_df"
   ]
  },
  {
   "cell_type": "code",
   "execution_count": null,
   "id": "6dbf69c0",
   "metadata": {},
   "outputs": [],
   "source": [
    "#load netflix data into a DataFrame (https://www.kaggle.com/shivamb/netflix-shows)\n",
    "netflix_df = pd.read_csv('netflix_titles.csv')\n",
    "\n",
    "#Clean unnecessary columns\n",
    "del netflix_df['show_id'], netflix_df['description'], netflix_df['cast']\n",
    "\n",
    "netflix_df.rename(columns = {\"title\": \"Title\"}, inplace = True)\n",
    "\n",
    "#separate into tv and movie dataframes\n",
    "movie_netflix_df = netflix_df.loc[netflix_df['type'] == 'Movie']\n",
    "tv_show_netflix_df = netflix_df.loc[netflix_df['type'] == 'TV Show']\n",
    "\n",
    "#rename column to merge later\n",
    "movie_netflix_df = movie_netflix_df.rename(columns = {\"title\": \"Title\"})\n",
    "\n",
    "#movie_netflix_df.columns\n",
    "netflix_df.columns"
   ]
  },
  {
   "cell_type": "code",
   "execution_count": null,
   "id": "19e852e0",
   "metadata": {},
   "outputs": [],
   "source": [
    "#load netflix data into a DataFrame (https://www.kaggle.com/swapnilbhange/netflix-original-movies)\n",
    "\n",
    "original_movies_netflix_df = pd.read_csv('netflix_original_movie_data.csv')\n",
    "original_movies_netflix_df.columns\n",
    "\n",
    "#clean unnecessary columns\n",
    "original_movies_netflix_df.drop(['Unnamed: 0', 'Produced by', 'Screenplay by',\n",
    "       'Based on', 'Music by', 'Cinematography', 'Edited by',\n",
    "       'Production companies', 'Distributed by', 'Written by', 'Production company',\n",
    "        'Starring', 'Budget', 'Box office', 'Budget.1', 'Box Office', 'metascore',\n",
    "       'Story by', 'Narrated by', 'French', 'Spanish', 'Italian', 'Portuguese',\n",
    "       'Animation by', 'Hangul', 'Revised Romanization', 'Japanese',\n",
    "       'Literally', 'Turkish', 'Indonesian', 'German', 'Norwegian', 'Polish',\n",
    "       'Music', 'Lyrics', 'Book', 'Basis', 'Productions'], axis=1, inplace=True)\n",
    "\n",
    "original_movies_netflix_df['type'] = 'Movie'\n",
    "original_movies_netflix_df.columns"
   ]
  },
  {
   "cell_type": "code",
   "execution_count": null,
   "id": "29834fb7",
   "metadata": {},
   "outputs": [],
   "source": [
    "#Merging the dataframes (movie_netflix_df and netflix_filtered_df)\n",
    "movie_merged_one_netflix_df = movie_netflix_df.merge(movie_netflix_filtered_df, how = 'outer', on = \"Title\")\n",
    "\n",
    "#Merging the dataframes (merged_netflix_df and original_movies_netflix_df)\n",
    "movie_merged_two_netflix_df = movie_merged_one_netflix_df.merge(original_movies_netflix_df, how = 'outer', on = 'Title')\n",
    "\n",
    "#joining the show dataframes\n",
    "tv_show_merged_netflix_df = tv_show_netflix_filtered_df.merge(tv_show_netflix_df, how = 'outer', on ='Title')\n",
    "\n",
    "# final_merged_netflix_df = movie_merged_two_netflix_df.merge(tv_show_merged_netflix_df, how = 'outer', on = 'Title')\n",
    "\n",
    "# final_merged_netflix_df = final_merged_netflix_df.reset_index()\n",
    "\n",
    "# del final_merged_netflix_df['index'], final_merged_netflix_df['level_0']\n",
    "\n",
    "# final_merged_netflix_df\n",
    "movie_merged_two_netflix_df.head()"
   ]
  },
  {
   "cell_type": "code",
   "execution_count": null,
   "id": "c4f75412",
   "metadata": {},
   "outputs": [],
   "source": [
    "movie_merged_two_netflix_df.columns"
   ]
  },
  {
   "cell_type": "code",
   "execution_count": null,
   "id": "c36813b7",
   "metadata": {},
   "outputs": [],
   "source": [
    "#defining functions to clean data\n",
    "\"\"\"\n",
    "These functions check for NaN values in columns of the same category. If all columns are NaN, it clears the entire row\n",
    "from the dataset. It will search through the relevant columns and pull the first value and set it as\n",
    "the new collapsed column value \n",
    "\"\"\"\n",
    "\n",
    "def three_column_cleaner(dataframe, column_1, column_2, column_3, new_column):\n",
    "    for index, row in dataframe.iterrows():\n",
    "        if pd.isnull(row[column_1]):\n",
    "            if pd.isnull(row[column_2]):\n",
    "                if pd.isnull(row[column_3]):\n",
    "                    dataframe.drop(index, axis = 0, inplace = True)\n",
    "                else:\n",
    "                    dataframe.at[index, new_column] = row[column_3]\n",
    "            else:\n",
    "                dataframe.at[index, new_column] = row[column_2]\n",
    "        else:\n",
    "            dataframe.at[index, new_column] = row[column_1]\n",
    "    del dataframe[column_1], dataframe[column_2], dataframe[column_3]\n",
    "    dataframe.reset_index(inplace = True)\n",
    "    del dataframe['index']    \n",
    "            \n",
    "def two_column_cleaner(dataframe, column_1, column_2, new_column):\n",
    "    for index, row in dataframe.iterrows():\n",
    "        if pd.isnull(row[column_1]):\n",
    "            if pd.isnull(row[column_2]):\n",
    "                dataframe.drop(index, axis = 0, inplace = True)\n",
    "            else:\n",
    "                dataframe.at[index, new_column] = row[column_2]\n",
    "        else:\n",
    "            dataframe.at[index, new_column] = row[column_1]\n",
    "    del dataframe[column_1], dataframe[column_2]\n",
    "    dataframe.reset_index(inplace = True)\n",
    "    del dataframe['index']"
   ]
  },
  {
   "cell_type": "code",
   "execution_count": null,
   "id": "00d81dd7",
   "metadata": {},
   "outputs": [],
   "source": [
    "#Make a copy to clean the merged_df and work with\n",
    "cleaned_movie_netflix_df = movie_merged_two_netflix_df.copy(deep = True)\n",
    "\n",
    "#manually set the column value to 1.0, indicating that it is on netflix\n",
    "cleaned_movie_netflix_df['Netflix'] = 1.0"
   ]
  },
  {
   "cell_type": "code",
   "execution_count": null,
   "id": "dfbee9fd",
   "metadata": {},
   "outputs": [],
   "source": [
    "cleaned_movie_netflix_df.columns"
   ]
  },
  {
   "cell_type": "code",
   "execution_count": null,
   "id": "5289d83d",
   "metadata": {},
   "outputs": [],
   "source": [
    "#clean director columns\n",
    "three_column_cleaner(cleaned_movie_netflix_df, 'director', 'Directors', 'Directed by', 'Director')\n",
    "print(len(cleaned_movie_netflix_df))\n",
    "\n",
    "#clean country columns\n",
    "three_column_cleaner(cleaned_movie_netflix_df, 'country', 'Country_x', 'Country_y', 'Country')\n",
    "print(len(cleaned_movie_netflix_df))\n",
    "\n",
    "#clean IMDB columns\n",
    "two_column_cleaner(cleaned_movie_netflix_df, 'IMDb', 'imdb', 'IMDB Rating')\n",
    "print(len(cleaned_movie_netflix_df))\n",
    "\n",
    "#clean Rotten Tomatoes columns\n",
    "two_column_cleaner(cleaned_movie_netflix_df, 'Rotten Tomatoes', 'rotten_tomatoes', 'Rotten Tomatoes Rating')\n",
    "print(len(cleaned_movie_netflix_df))\n",
    "\n",
    "#clean language columns\n",
    "two_column_cleaner(cleaned_movie_netflix_df, 'Language_x', 'Language_y', 'Language')\n",
    "print(len(cleaned_movie_netflix_df))\n",
    "\n",
    "#clean genre columns\n",
    "two_column_cleaner(cleaned_movie_netflix_df, 'Genres', 'listed_in', 'Genre')\n",
    "print(len(cleaned_movie_netflix_df))\n",
    "\n",
    "#clean type column\n",
    "three_column_cleaner(cleaned_movie_netflix_df, 'type_x', 'type_y', 'Type', 'Typef')\n",
    "print(len(cleaned_movie_netflix_df))\n",
    "\n",
    "#clean runtime\n",
    "del cleaned_movie_netflix_df['Running time']\n",
    "for index, dura in enumerate(cleaned_movie_netflix_df['duration']):\n",
    "    if pd.isnull(dura):\n",
    "        pass\n",
    "    elif ' ' in dura:\n",
    "        dura_string = dura.split(' ')\n",
    "        duration = dura_string[0]\n",
    "        cleaned_movie_netflix_df.loc[index, 'duration'] = duration\n",
    "three_column_cleaner(cleaned_movie_netflix_df, 'duration', 'Runtime', 'Running Time', 'Runtimef')\n",
    "\n",
    "#clean Release date.1\n",
    "del cleaned_movie_netflix_df['Release date']\n",
    "for index, date in enumerate(cleaned_movie_netflix_df['Release date.1']):\n",
    "    if pd.isnull(date):\n",
    "        pass\n",
    "    elif '-' in date:\n",
    "        date_string = date.split('-')\n",
    "        year = '20' + date_string[2]\n",
    "        cleaned_movie_netflix_df.loc[index, 'Release date.1'] = year\n",
    "\n",
    "#clean release year\n",
    "three_column_cleaner(cleaned_movie_netflix_df, 'release_year', 'Year', 'Release date.1', 'Yearf')\n",
    "print(len(cleaned_movie_netflix_df))\n",
    "\n",
    "\n",
    "#Rename columns\n",
    "cleaned_movie_netflix_df.rename(columns={'Age': 'Advisory Age',\n",
    "                                         'date_added': 'Date Added',\n",
    "                                         'rating': 'Advisory Rating',\n",
    "                                         'Typef': 'Type',\n",
    "                                         'Runtimef': 'Runtime',\n",
    "                                         'Yearf': 'Year'}, inplace = True)\n",
    "\n",
    "del cleaned_movie_netflix_df['level_0']"
   ]
  },
  {
   "cell_type": "code",
   "execution_count": null,
   "id": "ee29bcec",
   "metadata": {},
   "outputs": [],
   "source": [
    "cleaned_movie_netflix_df.head()"
   ]
  },
  {
   "cell_type": "code",
   "execution_count": null,
   "id": "10b770be",
   "metadata": {},
   "outputs": [],
   "source": [
    "cleaned_tv_show_netflix_df = tv_show_merged_netflix_df.copy(deep=True)"
   ]
  },
  {
   "cell_type": "code",
   "execution_count": null,
   "id": "1ab9a9da",
   "metadata": {},
   "outputs": [],
   "source": [
    "cleaned_tv_show_netflix_df.columns"
   ]
  },
  {
   "cell_type": "code",
   "execution_count": null,
   "id": "d7692708",
   "metadata": {},
   "outputs": [],
   "source": [
    "cleaned_tv_show_netflix_df.columns"
   ]
  },
  {
   "cell_type": "code",
   "execution_count": null,
   "id": "2e741fdc",
   "metadata": {},
   "outputs": [],
   "source": [
    "#output dataframes to a csv file\n",
    "cleaned_tv_show_netflix_df.to_csv('cleaned_tv_show_netflix.csv')\n",
    "cleaned_movie_netflix_df.to_csv('cleaned_movie_netflix.csv')"
   ]
  },
  {
   "cell_type": "code",
   "execution_count": null,
   "id": "bdd16606",
   "metadata": {},
   "outputs": [],
   "source": [
    "#Analysis for Genre\n",
    "movie_list_of_genres = []\n",
    "for genre in cleaned_movie_netflix_df['Genre']:\n",
    "    if ',' not in genre:\n",
    "        movie_list_of_genres.append(genre.strip())\n",
    "    elif ',' in genre:\n",
    "        genres = genre.split(',')\n",
    "        genres = [genre.strip() for genre in genres]\n",
    "        for genre in genres:\n",
    "            movie_list_of_genres.append(genre)\n",
    "            \n",
    "movie_genres_count = collections.Counter(movie_list_of_genres)\n",
    "movie_genres_count = dict(movie_genres_count)\n",
    "movie_genres_count = pd.DataFrame(movie_genres_count, index = ['Count'])\n",
    "movie_genres_count = movie_genres_count.T\n",
    "movie_genres_count.sort_values('Count', ascending = False, inplace = True)\n",
    "movie_top_10_genres = movie_genres_count.head(10).index\n",
    "movie_top_10_genres\n",
    "\n",
    "for index, genre in enumerate(movie_list_of_genres):\n",
    "    if genre not in movie_top_10_genres:\n",
    "        movie_list_of_genres[index] = 'Other'\n",
    "\n",
    "movie_list_of_genres\n",
    "movie_genres_count = collections.Counter(movie_list_of_genres)\n",
    "movie_genres_count = dict(movie_genres_count)\n",
    "movie_genres_count = pd.DataFrame(movie_genres_count, index = ['Count'])\n",
    "movie_genres_count = movie_genres_count.T\n",
    "movie_genres_count.sort_values('Count', ascending = False, inplace = True)\n",
    "movie_genres_counts = []\n",
    "movie_genres = []\n",
    "for key, count in movie_genres_count.iterrows():\n",
    "    movie_genres_counts.append(count[0])\n",
    "    movie_genres.append(key)"
   ]
  },
  {
   "cell_type": "code",
   "execution_count": null,
   "id": "ae42fe04",
   "metadata": {},
   "outputs": [],
   "source": [
    "#plot pie chart for movie genres\n",
    "plt.pie(movie_genres_counts, explode = [0, .10 ,0, 0, 0, 0, 0, 0, 0, 0, 0], labels = movie_genres, autopct = \"%1.1f%%\", startangle = 300, radius = 1.2)   \n",
    "plt.title('Netflix Top 10 Movie Genres')"
   ]
  },
  {
   "cell_type": "code",
   "execution_count": null,
   "id": "898e5bde",
   "metadata": {},
   "outputs": [],
   "source": [
    "#Analysis for country\n",
    "list_of_countries = []\n",
    "for country in cleaned_movie_netflix_df['Country']:\n",
    "    if ',' not in country:\n",
    "        list_of_countries.append(country.strip())\n",
    "    elif ',' in country:\n",
    "        countries = country.split(',')\n",
    "        countries = [countrie.strip() for countrie in countries]\n",
    "        for countri in countries:\n",
    "            list_of_countries.append(countri)\n",
    "\n",
    "countries_count = collections.Counter(list_of_countries)\n",
    "countries_count = pd.DataFrame(countries_count, index = [0])\n",
    "len(countries_count.keys())\n",
    "\n",
    "# country_counts = cleaned_movie_netflix_df['Country'].value_counts()\n",
    "# country_counts\n",
    "# country_bar.plot(kind = 'bar', color = 'navy')"
   ]
  },
  {
   "cell_type": "code",
   "execution_count": null,
   "id": "48c335d1",
   "metadata": {},
   "outputs": [],
   "source": [
    "# #Analysis for language\n",
    "# language_counts = cleaned_movie_netflix_df['Language'].value_counts()\n",
    "list_of_languages = []\n",
    "for language in cleaned_movie_netflix_df['Language']:\n",
    "    if ',' not in language:\n",
    "        list_of_languages.append(language.strip())\n",
    "    elif ',' in language:\n",
    "        languages = language.split(',')\n",
    "        languages = [langue.strip() for langue in languages]\n",
    "        for languag in languages:\n",
    "            list_of_languages.append(languag)\n",
    "            \n",
    "languages_count = collections.Counter(list_of_languages)\n",
    "language_df = pd.DataFrame(languages_count, index = [0])\n",
    "language_df.value_counts()\n",
    "len(language_df.keys())"
   ]
  },
  {
   "cell_type": "code",
   "execution_count": null,
   "id": "f2b5ef3a",
   "metadata": {},
   "outputs": [],
   "source": [
    "#Analysis for Genre\n",
    "tv_list_of_genres = []\n",
    "for genre in cleaned_tv_show_netflix_df['Genre']:\n",
    "    if pd.isnull(genre):\n",
    "        pass\n",
    "    elif ',' not in genre:\n",
    "        tv_list_of_genres.append(genre.strip())\n",
    "    elif ',' in genre:\n",
    "        genres = genre.split(',')\n",
    "        genres = [genre.strip() for genre in genres]\n",
    "        for genre in genres:\n",
    "            tv_list_of_genres.append(genre)\n",
    "            \n",
    "tv_genres_count = collections.Counter(tv_list_of_genres)\n",
    "tv_genres_count = dict(tv_genres_count)\n",
    "tv_genres_count = pd.DataFrame(tv_genres_count, index = ['Count'])\n",
    "tv_genres_count = tv_genres_count.T\n",
    "tv_genres_count.sort_values('Count', ascending = False, inplace = True)\n",
    "tv_top_10_genres = tv_genres_count.head(10).index\n",
    "tv_top_10_genres\n",
    "\n",
    "for index, genre in enumerate(tv_list_of_genres):\n",
    "    if genre not in tv_top_10_genres:\n",
    "        tv_list_of_genres[index] = 'Other'\n",
    "\n",
    "tv_list_of_genres\n",
    "tv_genres_count = collections.Counter(tv_list_of_genres)\n",
    "tv_genres_count = dict(tv_genres_count)\n",
    "tv_genres_count = pd.DataFrame(tv_genres_count, index = ['Count'])\n",
    "tv_genres_count = tv_genres_count.T\n",
    "tv_genres_count.sort_values('Count', ascending = False, inplace = True)\n",
    "\n",
    "tv_genres_counts = []\n",
    "tv_genres = []\n",
    "for key, count in tv_genres_count.iterrows():\n",
    "    tv_genres_counts.append(count[0])\n",
    "    tv_genres.append(key)"
   ]
  },
  {
   "cell_type": "code",
   "execution_count": null,
   "id": "c2109c98",
   "metadata": {},
   "outputs": [],
   "source": [
    "#plot pie chart for tv genres\n",
    "plt.pie(tv_genres_counts, explode = [.10, 0, 0, 0, 0, 0, 0, 0, 0, 0, 0], labels = tv_genres, autopct = \"%1.1f%%\")\n",
    "plt.title('Netflix Top 10 TV Genres')"
   ]
  },
  {
   "cell_type": "code",
   "execution_count": null,
   "id": "905bdb58",
   "metadata": {},
   "outputs": [],
   "source": [
    "#Analysis for country\n",
    "list_of_countries = []\n",
    "for country in cleaned_tv_show_netflix_df['Country']:\n",
    "    if pd.isnull(country):\n",
    "        pass\n",
    "    elif ',' not in country:\n",
    "        list_of_countries.append(country.strip())\n",
    "    elif ',' in country:\n",
    "        countries = country.split(',')\n",
    "        countries = [countrie.strip() for countrie in countries]\n",
    "        for countri in countries:\n",
    "            list_of_countries.append(countri)\n",
    "\n",
    "countries_count = collections.Counter(list_of_countries)\n",
    "countries_count = pd.DataFrame(countries_count, index = [0])\n",
    "len(countries_count.keys())\n",
    "\n",
    "# country_counts = cleaned_tv_show_netflix_df['Country'].value_counts()\n",
    "# country_counts\n",
    "# country_bar.plot(kind = 'bar', color = 'navy')"
   ]
  },
  {
   "cell_type": "code",
   "execution_count": null,
   "id": "f3dcf824",
   "metadata": {},
   "outputs": [],
   "source": [
    "# #Analysis for language\n",
    "# language_counts = cleaned_tv_show_netflix_df['Language'].value_counts()\n",
    "# list_of_languages = []\n",
    "# for language in cleaned_tv_show_netflix_df['Language']:\n",
    "#     if pd.isnull(language):\n",
    "#         pass\n",
    "#     if ',' not in language:\n",
    "#         list_of_languages.append(language.strip())\n",
    "#     elif ',' in language:\n",
    "#         languages = language.split(',')\n",
    "#         languages = [langue.strip() for langue in languages]\n",
    "#         for languag in languages:\n",
    "#             list_of_languages.append(languag)\n",
    "            \n",
    "# languages_count = collections.Counter(list_of_languages)\n",
    "# language_df = pd.DataFrame(languages_count, index = [0])\n",
    "# language_df.value_counts()\n",
    "# len(language_df.keys())"
   ]
  },
  {
   "cell_type": "code",
   "execution_count": null,
   "id": "c686941d",
   "metadata": {},
   "outputs": [],
   "source": [
    "#Clean up date_added column\n",
    "cleaned_movie_netflix_df['Date Added']\n",
    "\n",
    "months = [\"January\", \"February\", \"March\", \"April\", \"May\", \"June\", \n",
    "          \"July\", \"August\", \"September\", \"October\", \"November\", \"December\"]\n",
    "\n",
    "movie_months_added = []\n",
    "for index, date in enumerate(cleaned_movie_netflix_df['Date Added']):\n",
    "    if pd.isnull(cleaned_movie_netflix_df['Date Added'][index]):\n",
    "        pass\n",
    "    elif ',' in date:\n",
    "        date_string = date.split(',')\n",
    "        month = date_string[0].split(' ')[0]\n",
    "        movie_months_added.append(month)\n",
    "        \n",
    "movie_months_added_collec = collections.Counter(movie_months_added)\n",
    "\n",
    "movie_count = []\n",
    "for month in months:\n",
    "    movie_count.append(movie_months_added_collec.get(month))\n",
    "\n",
    "#cleaned_tv_show_netflix_df['Date Added']\n",
    "tv_months_added = []\n",
    "for index, date in enumerate(cleaned_tv_show_netflix_df['Date Added']):\n",
    "    if pd.isnull(cleaned_tv_show_netflix_df['Date Added'][index]):\n",
    "        pass\n",
    "    elif ',' in date:\n",
    "        date_string = date.split(',')\n",
    "        month = date_string[0].split(' ')[0]\n",
    "        tv_months_added.append(month)\n",
    "        \n",
    "tv_months_added_collec = collections.Counter(tv_months_added)\n",
    "\n",
    "tv_count = []\n",
    "for month in months:\n",
    "    tv_count.append(tv_months_added_collec.get(month))\n",
    "tv_months_added_collec"
   ]
  },
  {
   "cell_type": "code",
   "execution_count": null,
   "id": "6c21ef10",
   "metadata": {},
   "outputs": [],
   "source": [
    "#plot line charts\n",
    "fig, (ax1, ax2) = plt.subplots(2,1, figsize = (5, 10))\n",
    "ax1.plot(months, movie_count, color = 'navy', label = 'Movie Month')\n",
    "ax2.plot(months, tv_count, color = 'green', label = 'TV Month')\n",
    "plt.setp(ax1.xaxis.get_majorticklabels(), rotation=30)\n",
    "plt.setp(ax2.xaxis.get_majorticklabels(), rotation=30)\n",
    "ax1.set_title('Netflix Movie Update Schedule')\n",
    "ax2.set_title('Netflix TV Update Schedule')\n",
    "ax1.legend(loc = 'best')\n",
    "ax2.legend(loc = 'upper left')\n",
    "fig.tight_layout(pad = 3)"
   ]
  },
  {
   "cell_type": "code",
   "execution_count": null,
   "id": "0531c343",
   "metadata": {},
   "outputs": [],
   "source": [
    "#Analysis for release year (Movie)\n",
    "movie_release_year_counts = cleaned_movie_netflix_df['Year'].value_counts(ascending = True)\n",
    "cleaned_movie_netflix_df['Year'] = cleaned_movie_netflix_df['Year'].astype(int)\n",
    "movie_earliest_year = cleaned_movie_netflix_df['Year'].min()\n",
    "movie_latest_year = cleaned_movie_netflix_df['Year'].max()\n",
    "\n",
    "#Analysis for release year (TV Show)\n",
    "\n",
    "tv_release_year_counts = cleaned_tv_show_netflix_df['Year'].value_counts(ascending = True)\n",
    "cleaned_tv_show_netflix_df['Year'] = cleaned_tv_show_netflix_df['Year'].astype(int)\n",
    "tv_earliest_year = cleaned_tv_show_netflix_df['Year'].min()\n",
    "tv_latest_year = cleaned_tv_show_netflix_df['Year'].max()"
   ]
  },
  {
   "cell_type": "code",
   "execution_count": null,
   "id": "540d6d5e",
   "metadata": {},
   "outputs": [],
   "source": [
    "#plot histograms\n",
    "fig, (ax1, ax2) = plt.subplots(2,1, figsize = (5, 10))\n",
    "ax1.hist(cleaned_movie_netflix_df['Year'], bins = (movie_latest_year - movie_earliest_year)//5 + 1, color = 'navy', label = 'Movie Release Year Counts')\n",
    "ax2.hist(cleaned_tv_show_netflix_df['Year'], bins = (tv_latest_year - tv_earliest_year)//5 + 1, color = 'green', label = 'TV Release Year Counts')\n",
    "ax1.set_title('Netflix Frequency of Movie Release Years')\n",
    "ax2.set_title('Netflix Frequency of TV Release Years')\n",
    "ax1.legend(loc='best')\n",
    "ax2.legend(loc='best')"
   ]
  },
  {
   "cell_type": "code",
   "execution_count": null,
   "id": "d1ba5899",
   "metadata": {},
   "outputs": [],
   "source": [
    "#Analysis for advisory rating\n",
    "\n",
    "advisory_rating_movie = cleaned_movie_netflix_df['Advisory Rating'].copy()\n",
    "advisory_rating_movie.rename('Movie Counts for Advisory Rating', inplace = True)\n",
    "\n",
    "advisory_rating_movie_counts = advisory_rating_movie.value_counts()\n",
    "top_5_ratings_movie = advisory_rating_movie_counts.head(5).keys()\n",
    "\n",
    "for index, rating in enumerate(advisory_rating_movie):\n",
    "    if rating not in top_5_ratings_movie:\n",
    "        advisory_rating_movie.loc[index] = 'Other'\n",
    "\n",
    "advisory_rating_movie_counts = advisory_rating_movie.value_counts()\n",
    "# advisory_rating_movie_counts.plot(kind = 'bar', color = 'navy')\n",
    "\n",
    "#Analysis for advisory rating (TV Show)\n",
    "advisory_rating_tv = cleaned_tv_show_netflix_df['Advisory Rating'].copy()\n",
    "advisory_rating_tv.rename('TV Show Counts for Advisory Rating', inplace = True)\n",
    "advisory_rating_tv_counts = advisory_rating_tv.value_counts()\n",
    "top_5_ratings_tv = advisory_rating_tv_counts.head(5).keys()\n",
    "print(top_5_ratings_tv)\n",
    "\n",
    "for index, rating in enumerate(advisory_rating_tv):\n",
    "    if rating not in top_5_ratings_tv:\n",
    "        advisory_rating_tv.loc[index] = 'Other'\n",
    "\n",
    "advisory_rating_tv_counts = advisory_rating_tv.value_counts()\n",
    "# advisory_rating_tv_counts.plot(kind = 'bar', color = 'green')"
   ]
  },
  {
   "cell_type": "code",
   "execution_count": null,
   "id": "7bead9b9",
   "metadata": {},
   "outputs": [],
   "source": [
    "#plot barplots\n",
    "fig, (ax1, ax2) = plt.subplots(2,1, figsize = (5, 10))\n",
    "ax1.bar(advisory_rating_movie_counts.keys(), advisory_rating_movie_counts, color = 'navy', label = 'Movie Advisory Rating Counts')\n",
    "ax2.bar(advisory_rating_tv_counts.keys(), advisory_rating_tv_counts, color = 'green', label = 'TV Advisory Rating Counts')\n",
    "ax1.set_title('Netflix Top 5 Movie Ratings')\n",
    "ax2.set_title('Netflix Top 5 TV Show Ratings')\n",
    "ax1.legend(loc='best')\n",
    "ax2.legend(loc='best')"
   ]
  },
  {
   "cell_type": "code",
   "execution_count": null,
   "id": "6816bd59",
   "metadata": {},
   "outputs": [],
   "source": [
    "cleaned_movie_netflix_df['IMDB Rating']\n",
    "movie_imdb_ratings = []\n",
    "for c_rating in cleaned_movie_netflix_df['IMDB Rating']:\n",
    "    rating = float(c_rating.split('/')[0])\n",
    "    movie_imdb_ratings.append(rating)\n",
    "    \n",
    "movie_imdb_ratings\n",
    "\n",
    "cleaned_movie_netflix_df['Rotten Tomatoes Rating']\n",
    "movie_rotten_tomato_ratings = []\n",
    "for c_rating in cleaned_movie_netflix_df['Rotten Tomatoes Rating']:\n",
    "    rating = float(c_rating.split('/')[0])\n",
    "    movie_rotten_tomato_ratings.append(rating)\n",
    "    \n",
    "movie_rotten_tomato_ratings = [float(rating)/10 for rating in movie_rotten_tomato_ratings]\n",
    "movie_rotten_tomato_ratings\n",
    "\n",
    "movie_ratings_data = [movie_imdb_ratings, movie_rotten_tomato_ratings]\n",
    "\n",
    "#TV Show\n",
    "cleaned_tv_show_netflix_df['IMDB Rating']\n",
    "tv_imdb_ratings = []\n",
    "for c_rating in cleaned_tv_show_netflix_df['IMDB Rating']:\n",
    "    if pd.isnull(c_rating):\n",
    "        pass\n",
    "    else:\n",
    "        rating = float(c_rating.split('/')[0])\n",
    "        tv_imdb_ratings.append(rating)\n",
    "\n",
    "cleaned_tv_show_netflix_df['Rotten Tomatoes Rating']\n",
    "tv_rotten_tomato_ratings = []\n",
    "for c_rating in cleaned_tv_show_netflix_df['Rotten Tomatoes Rating']:\n",
    "    if pd.isnull(c_rating):\n",
    "        pass\n",
    "    else:\n",
    "        rating = float(c_rating.split('/')[0])\n",
    "        tv_rotten_tomato_ratings.append(rating)\n",
    "    \n",
    "tv_rotten_tomato_ratings = [float(rating)/10 for rating in tv_rotten_tomato_ratings]\n",
    "\n",
    "tv_ratings_data = [tv_imdb_ratings, tv_rotten_tomato_ratings]"
   ]
  },
  {
   "cell_type": "code",
   "execution_count": null,
   "id": "a657e6c0",
   "metadata": {},
   "outputs": [],
   "source": [
    "#plot boxplots\n",
    "fig, (ax1, ax2) = plt.subplots(2,1, figsize = (5, 10))\n",
    "ax1.boxplot(movie_ratings_data)\n",
    "ax2.boxplot(tv_ratings_data)\n",
    "#adjust x-axis\n",
    "critics = ['IMDB', 'Rotten Tomatoes']\n",
    "x_axis = [x for x in range(len(movie_ratings_data))]\n",
    "tick_locations = [value+1 for value in x_axis]\n",
    "ax1.set_xticklabels(critics)\n",
    "ax2.set_xticklabels(critics)\n",
    "plt.title('TV Shows on Netflix Critical Reception')\n",
    "ax1.set_title('Netflix Movie Ratings')\n",
    "ax2.set_title('Netflix TV Show Ratings')"
   ]
  },
  {
   "cell_type": "code",
   "execution_count": null,
   "id": "f91d9d5e",
   "metadata": {},
   "outputs": [],
   "source": []
  }
 ],
 "metadata": {
  "kernelspec": {
   "display_name": "Python 3.8.11 64-bit ('PythonData': conda)",
   "language": "python",
   "name": "python3811jvsc74a57bd0728b04c98466aa82948ab53e051679ddba7efd5cd254f67ce973a00128db32fe"
  },
  "language_info": {
   "codemirror_mode": {
    "name": "ipython",
    "version": 3
   },
   "file_extension": ".py",
   "mimetype": "text/x-python",
   "name": "python",
   "nbconvert_exporter": "python",
   "pygments_lexer": "ipython3",
   "version": "3.8.11"
  }
 },
 "nbformat": 4,
 "nbformat_minor": 5
}
