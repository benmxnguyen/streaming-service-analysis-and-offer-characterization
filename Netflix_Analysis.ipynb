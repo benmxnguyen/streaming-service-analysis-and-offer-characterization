{
 "cells": [
  {
   "cell_type": "markdown",
   "id": "2804367d",
   "metadata": {},
   "source": [
    "# Netflix Analysis"
   ]
  },
  {
   "cell_type": "code",
   "execution_count": 1,
   "id": "3ea4efc0",
   "metadata": {},
   "outputs": [],
   "source": [
    "#import dependencies\n",
    "import pandas as pd\n",
    "import matplotlib.pyplot as plt\n",
    "import numpy as np\n",
    "import collections\n"
   ]
  },
  {
   "cell_type": "markdown",
   "id": "d71983d0",
   "metadata": {},
   "source": [
    "## Loading in the datasets and standardizing them"
   ]
  },
  {
   "cell_type": "code",
   "execution_count": 2,
   "id": "47396045",
   "metadata": {},
   "outputs": [
    {
     "data": {
      "text/plain": [
       "Index(['index', 'Title', 'Year', 'Age', 'IMDb', 'Rotten Tomatoes', 'Netflix',\n",
       "       'Hulu', 'Disney+', 'Directors', 'Genres', 'Country', 'Language',\n",
       "       'Runtime', 'Type'],\n",
       "      dtype='object')"
      ]
     },
     "execution_count": 2,
     "metadata": {},
     "output_type": "execute_result"
    }
   ],
   "source": [
    "#load data into DataFrame (https://www.kaggle.com/ruchi798/movies-on-netflix-prime-video-hulu-and-disney)\n",
    "movie_streaming_df = pd.read_csv(\"MoviesOnStreamingPlatforms_updated.csv\")\n",
    "movie_streaming_df['type'] = 'Movie'\n",
    "\n",
    "#clean unnecessary columns\n",
    "movie_streaming_df.drop(['Unnamed: 0', 'ID', 'Prime Video', 'Type'], axis = 1, inplace = True)\n",
    "\n",
    "movie_streaming_df.rename(columns={'type': 'Type'}, inplace = True)\n",
    "\n",
    "#filter dataframe to just movies on netflix\n",
    "movie_netflix_filtered_df = movie_streaming_df.loc[(movie_streaming_df['Netflix'] == 1) &\n",
    "                                                        (movie_streaming_df['Hulu'] == 0) &\n",
    "                                                        (movie_streaming_df['Disney+'] == 0)]\n",
    "\n",
    "movie_netflix_filtered_df.reset_index(inplace = True)\n",
    "movie_netflix_filtered_df.columns"
   ]
  },
  {
   "cell_type": "code",
   "execution_count": 3,
   "id": "0e1aa79a",
   "metadata": {},
   "outputs": [
    {
     "data": {
      "text/html": [
       "<div>\n",
       "<style scoped>\n",
       "    .dataframe tbody tr th:only-of-type {\n",
       "        vertical-align: middle;\n",
       "    }\n",
       "\n",
       "    .dataframe tbody tr th {\n",
       "        vertical-align: top;\n",
       "    }\n",
       "\n",
       "    .dataframe thead th {\n",
       "        text-align: right;\n",
       "    }\n",
       "</style>\n",
       "<table border=\"1\" class=\"dataframe\">\n",
       "  <thead>\n",
       "    <tr style=\"text-align: right;\">\n",
       "      <th></th>\n",
       "      <th>Title</th>\n",
       "      <th>Year</th>\n",
       "      <th>Age</th>\n",
       "      <th>IMDb</th>\n",
       "      <th>Rotten Tomatoes</th>\n",
       "      <th>Netflix</th>\n",
       "      <th>Hulu</th>\n",
       "      <th>Disney+</th>\n",
       "      <th>Type</th>\n",
       "    </tr>\n",
       "  </thead>\n",
       "  <tbody>\n",
       "    <tr>\n",
       "      <th>0</th>\n",
       "      <td>Breaking Bad</td>\n",
       "      <td>2008</td>\n",
       "      <td>18+</td>\n",
       "      <td>9.4/10</td>\n",
       "      <td>100/100</td>\n",
       "      <td>1</td>\n",
       "      <td>0</td>\n",
       "      <td>0</td>\n",
       "      <td>TV Show</td>\n",
       "    </tr>\n",
       "    <tr>\n",
       "      <th>1</th>\n",
       "      <td>Stranger Things</td>\n",
       "      <td>2016</td>\n",
       "      <td>16+</td>\n",
       "      <td>8.7/10</td>\n",
       "      <td>96/100</td>\n",
       "      <td>1</td>\n",
       "      <td>0</td>\n",
       "      <td>0</td>\n",
       "      <td>TV Show</td>\n",
       "    </tr>\n",
       "    <tr>\n",
       "      <th>2</th>\n",
       "      <td>Better Call Saul</td>\n",
       "      <td>2015</td>\n",
       "      <td>18+</td>\n",
       "      <td>8.8/10</td>\n",
       "      <td>94/100</td>\n",
       "      <td>1</td>\n",
       "      <td>0</td>\n",
       "      <td>0</td>\n",
       "      <td>TV Show</td>\n",
       "    </tr>\n",
       "    <tr>\n",
       "      <th>3</th>\n",
       "      <td>Dark</td>\n",
       "      <td>2017</td>\n",
       "      <td>16+</td>\n",
       "      <td>8.8/10</td>\n",
       "      <td>93/100</td>\n",
       "      <td>1</td>\n",
       "      <td>0</td>\n",
       "      <td>0</td>\n",
       "      <td>TV Show</td>\n",
       "    </tr>\n",
       "    <tr>\n",
       "      <th>4</th>\n",
       "      <td>Avatar: The Last Airbender</td>\n",
       "      <td>2005</td>\n",
       "      <td>7+</td>\n",
       "      <td>9.3/10</td>\n",
       "      <td>93/100</td>\n",
       "      <td>1</td>\n",
       "      <td>0</td>\n",
       "      <td>0</td>\n",
       "      <td>TV Show</td>\n",
       "    </tr>\n",
       "    <tr>\n",
       "      <th>...</th>\n",
       "      <td>...</td>\n",
       "      <td>...</td>\n",
       "      <td>...</td>\n",
       "      <td>...</td>\n",
       "      <td>...</td>\n",
       "      <td>...</td>\n",
       "      <td>...</td>\n",
       "      <td>...</td>\n",
       "      <td>...</td>\n",
       "    </tr>\n",
       "    <tr>\n",
       "      <th>1829</th>\n",
       "      <td>Pandora</td>\n",
       "      <td>2019</td>\n",
       "      <td>7+</td>\n",
       "      <td>4.2/10</td>\n",
       "      <td>52/100</td>\n",
       "      <td>1</td>\n",
       "      <td>0</td>\n",
       "      <td>0</td>\n",
       "      <td>TV Show</td>\n",
       "    </tr>\n",
       "    <tr>\n",
       "      <th>1830</th>\n",
       "      <td>Hole in the Wall</td>\n",
       "      <td>2008</td>\n",
       "      <td>all</td>\n",
       "      <td>3.2/10</td>\n",
       "      <td>51/100</td>\n",
       "      <td>1</td>\n",
       "      <td>0</td>\n",
       "      <td>0</td>\n",
       "      <td>TV Show</td>\n",
       "    </tr>\n",
       "    <tr>\n",
       "      <th>1831</th>\n",
       "      <td>Charlie's Angels</td>\n",
       "      <td>2011</td>\n",
       "      <td>16+</td>\n",
       "      <td>4.4/10</td>\n",
       "      <td>44/100</td>\n",
       "      <td>1</td>\n",
       "      <td>0</td>\n",
       "      <td>0</td>\n",
       "      <td>TV Show</td>\n",
       "    </tr>\n",
       "    <tr>\n",
       "      <th>1832</th>\n",
       "      <td>Into the Wild</td>\n",
       "      <td>2014</td>\n",
       "      <td>NaN</td>\n",
       "      <td>8.5/10</td>\n",
       "      <td>41/100</td>\n",
       "      <td>1</td>\n",
       "      <td>0</td>\n",
       "      <td>0</td>\n",
       "      <td>TV Show</td>\n",
       "    </tr>\n",
       "    <tr>\n",
       "      <th>1833</th>\n",
       "      <td>Human Nature</td>\n",
       "      <td>2013</td>\n",
       "      <td>NaN</td>\n",
       "      <td>NaN</td>\n",
       "      <td>13/100</td>\n",
       "      <td>1</td>\n",
       "      <td>0</td>\n",
       "      <td>0</td>\n",
       "      <td>TV Show</td>\n",
       "    </tr>\n",
       "  </tbody>\n",
       "</table>\n",
       "<p>1834 rows × 9 columns</p>\n",
       "</div>"
      ],
      "text/plain": [
       "                           Title  Year  Age    IMDb Rotten Tomatoes  Netflix  \\\n",
       "0                   Breaking Bad  2008  18+  9.4/10         100/100        1   \n",
       "1                Stranger Things  2016  16+  8.7/10          96/100        1   \n",
       "2               Better Call Saul  2015  18+  8.8/10          94/100        1   \n",
       "3                           Dark  2017  16+  8.8/10          93/100        1   \n",
       "4     Avatar: The Last Airbender  2005   7+  9.3/10          93/100        1   \n",
       "...                          ...   ...  ...     ...             ...      ...   \n",
       "1829                     Pandora  2019   7+  4.2/10          52/100        1   \n",
       "1830            Hole in the Wall  2008  all  3.2/10          51/100        1   \n",
       "1831            Charlie's Angels  2011  16+  4.4/10          44/100        1   \n",
       "1832               Into the Wild  2014  NaN  8.5/10          41/100        1   \n",
       "1833                Human Nature  2013  NaN     NaN          13/100        1   \n",
       "\n",
       "      Hulu  Disney+     Type  \n",
       "0        0        0  TV Show  \n",
       "1        0        0  TV Show  \n",
       "2        0        0  TV Show  \n",
       "3        0        0  TV Show  \n",
       "4        0        0  TV Show  \n",
       "...    ...      ...      ...  \n",
       "1829     0        0  TV Show  \n",
       "1830     0        0  TV Show  \n",
       "1831     0        0  TV Show  \n",
       "1832     0        0  TV Show  \n",
       "1833     0        0  TV Show  \n",
       "\n",
       "[1834 rows x 9 columns]"
      ]
     },
     "execution_count": 3,
     "metadata": {},
     "output_type": "execute_result"
    }
   ],
   "source": [
    "#load data into DataFrame (https://www.kaggle.com/ruchi798/tv-shows-on-netflix-prime-video-hulu-and-disney)\n",
    "tv_shows_streaming_df = pd.read_csv(\"tv_shows.csv\")\n",
    "tv_shows_streaming_df['type'] = 'TV Show'\n",
    "\n",
    "del tv_shows_streaming_df['Type']\n",
    "\n",
    "tv_shows_streaming_df.rename(columns={'type': 'Type'}, inplace = True)\n",
    "\n",
    "#clean unnecessary columns\n",
    "tv_shows_streaming_df.drop(['Unnamed: 0', 'ID', 'Prime Video'], axis = 1, inplace = True)\n",
    "\n",
    "#filter dataframe to just tv_shows on netflix\n",
    "tv_show_netflix_filtered_df = tv_shows_streaming_df.loc[(tv_shows_streaming_df['Netflix'] == 1) &\n",
    "                                                        (tv_shows_streaming_df['Hulu'] == 0) &\n",
    "                                                        ((tv_shows_streaming_df['Disney+'] == 0))]\n",
    "\n",
    "tv_show_netflix_filtered_df.reset_index(inplace = True)\n",
    "del tv_show_netflix_filtered_df['index']\n",
    "\n",
    "tv_show_netflix_filtered_df"
   ]
  },
  {
   "cell_type": "code",
   "execution_count": 4,
   "id": "4b7de387",
   "metadata": {},
   "outputs": [
    {
     "data": {
      "text/plain": [
       "Index(['type', 'Title', 'director', 'country', 'date_added', 'release_year',\n",
       "       'rating', 'duration', 'listed_in'],\n",
       "      dtype='object')"
      ]
     },
     "execution_count": 4,
     "metadata": {},
     "output_type": "execute_result"
    }
   ],
   "source": [
    "#load netflix data into a DataFrame (https://www.kaggle.com/shivamb/netflix-shows)\n",
    "netflix_df = pd.read_csv('netflix_titles.csv')\n",
    "\n",
    "#Clean unnecessary columns\n",
    "del netflix_df['show_id'], netflix_df['description'], netflix_df['cast']\n",
    "\n",
    "netflix_df.rename(columns = {\"title\": \"Title\"}, inplace = True)\n",
    "\n",
    "#separate into tv and movie dataframes\n",
    "movie_netflix_df = netflix_df.loc[netflix_df['type'] == 'Movie']\n",
    "tv_show_netflix_df = netflix_df.loc[netflix_df['type'] == 'TV Show']\n",
    "\n",
    "#rename column to merge later\n",
    "movie_netflix_df = movie_netflix_df.rename(columns = {\"title\": \"Title\"})\n",
    "\n",
    "#movie_netflix_df.columns\n",
    "netflix_df.columns"
   ]
  },
  {
   "cell_type": "code",
   "execution_count": 5,
   "id": "47bc0e4d",
   "metadata": {},
   "outputs": [
    {
     "data": {
      "text/plain": [
       "Index(['Title', 'Directed by', 'Release date', 'Running time', 'Country',\n",
       "       'Language', 'Running Time', 'Release date.1', 'imdb', 'rotten_tomatoes',\n",
       "       'type'],\n",
       "      dtype='object')"
      ]
     },
     "execution_count": 5,
     "metadata": {},
     "output_type": "execute_result"
    }
   ],
   "source": [
    "#load netflix data into a DataFrame (https://www.kaggle.com/swapnilbhange/netflix-original-movies)\n",
    "\n",
    "original_movies_netflix_df = pd.read_csv('netflix_original_movie_data.csv')\n",
    "original_movies_netflix_df.columns\n",
    "\n",
    "#clean unnecessary columns\n",
    "original_movies_netflix_df.drop(['Unnamed: 0', 'Produced by', 'Screenplay by',\n",
    "       'Based on', 'Music by', 'Cinematography', 'Edited by',\n",
    "       'Production companies', 'Distributed by', 'Written by', 'Production company',\n",
    "        'Starring', 'Budget', 'Box office', 'Budget.1', 'Box Office', 'metascore',\n",
    "       'Story by', 'Narrated by', 'French', 'Spanish', 'Italian', 'Portuguese',\n",
    "       'Animation by', 'Hangul', 'Revised Romanization', 'Japanese',\n",
    "       'Literally', 'Turkish', 'Indonesian', 'German', 'Norwegian', 'Polish',\n",
    "       'Music', 'Lyrics', 'Book', 'Basis', 'Productions'], axis=1, inplace=True)\n",
    "\n",
    "original_movies_netflix_df['type'] = 'Movie'\n",
    "original_movies_netflix_df.columns"
   ]
  },
  {
   "cell_type": "markdown",
   "id": "a3bcda10",
   "metadata": {},
   "source": [
    "## Merging Dataframes"
   ]
  },
  {
   "cell_type": "code",
   "execution_count": 6,
   "id": "98a612b1",
   "metadata": {},
   "outputs": [
    {
     "data": {
      "text/html": [
       "<div>\n",
       "<style scoped>\n",
       "    .dataframe tbody tr th:only-of-type {\n",
       "        vertical-align: middle;\n",
       "    }\n",
       "\n",
       "    .dataframe tbody tr th {\n",
       "        vertical-align: top;\n",
       "    }\n",
       "\n",
       "    .dataframe thead th {\n",
       "        text-align: right;\n",
       "    }\n",
       "</style>\n",
       "<table border=\"1\" class=\"dataframe\">\n",
       "  <thead>\n",
       "    <tr style=\"text-align: right;\">\n",
       "      <th></th>\n",
       "      <th>type_x</th>\n",
       "      <th>Title</th>\n",
       "      <th>director</th>\n",
       "      <th>country</th>\n",
       "      <th>date_added</th>\n",
       "      <th>release_year</th>\n",
       "      <th>rating</th>\n",
       "      <th>duration</th>\n",
       "      <th>listed_in</th>\n",
       "      <th>index</th>\n",
       "      <th>...</th>\n",
       "      <th>Directed by</th>\n",
       "      <th>Release date</th>\n",
       "      <th>Running time</th>\n",
       "      <th>Country_y</th>\n",
       "      <th>Language_y</th>\n",
       "      <th>Running Time</th>\n",
       "      <th>Release date.1</th>\n",
       "      <th>imdb</th>\n",
       "      <th>rotten_tomatoes</th>\n",
       "      <th>type_y</th>\n",
       "    </tr>\n",
       "  </thead>\n",
       "  <tbody>\n",
       "    <tr>\n",
       "      <th>0</th>\n",
       "      <td>Movie</td>\n",
       "      <td>Dick Johnson Is Dead</td>\n",
       "      <td>Kirsten Johnson</td>\n",
       "      <td>United States</td>\n",
       "      <td>September 25, 2021</td>\n",
       "      <td>2020.0</td>\n",
       "      <td>PG-13</td>\n",
       "      <td>90 min</td>\n",
       "      <td>Documentaries</td>\n",
       "      <td>874.0</td>\n",
       "      <td>...</td>\n",
       "      <td>Kirsten Johnson</td>\n",
       "      <td>January 25, 2020 ( Sundance ) October 2, 2020 ...</td>\n",
       "      <td>89 minutes</td>\n",
       "      <td>United States</td>\n",
       "      <td>English</td>\n",
       "      <td>89.0</td>\n",
       "      <td>25-01-20</td>\n",
       "      <td>NaN</td>\n",
       "      <td>NaN</td>\n",
       "      <td>Movie</td>\n",
       "    </tr>\n",
       "    <tr>\n",
       "      <th>1</th>\n",
       "      <td>Movie</td>\n",
       "      <td>My Little Pony: A New Generation</td>\n",
       "      <td>Robert Cullen, José Luis Ucha</td>\n",
       "      <td>NaN</td>\n",
       "      <td>September 24, 2021</td>\n",
       "      <td>2021.0</td>\n",
       "      <td>PG</td>\n",
       "      <td>91 min</td>\n",
       "      <td>Children &amp; Family Movies</td>\n",
       "      <td>NaN</td>\n",
       "      <td>...</td>\n",
       "      <td>NaN</td>\n",
       "      <td>NaN</td>\n",
       "      <td>NaN</td>\n",
       "      <td>NaN</td>\n",
       "      <td>NaN</td>\n",
       "      <td>NaN</td>\n",
       "      <td>NaN</td>\n",
       "      <td>NaN</td>\n",
       "      <td>NaN</td>\n",
       "      <td>NaN</td>\n",
       "    </tr>\n",
       "    <tr>\n",
       "      <th>2</th>\n",
       "      <td>Movie</td>\n",
       "      <td>Sankofa</td>\n",
       "      <td>Haile Gerima</td>\n",
       "      <td>United States, Ghana, Burkina Faso, United Kin...</td>\n",
       "      <td>September 24, 2021</td>\n",
       "      <td>1993.0</td>\n",
       "      <td>TV-MA</td>\n",
       "      <td>125 min</td>\n",
       "      <td>Dramas, Independent Movies, International Movies</td>\n",
       "      <td>NaN</td>\n",
       "      <td>...</td>\n",
       "      <td>NaN</td>\n",
       "      <td>NaN</td>\n",
       "      <td>NaN</td>\n",
       "      <td>NaN</td>\n",
       "      <td>NaN</td>\n",
       "      <td>NaN</td>\n",
       "      <td>NaN</td>\n",
       "      <td>NaN</td>\n",
       "      <td>NaN</td>\n",
       "      <td>NaN</td>\n",
       "    </tr>\n",
       "    <tr>\n",
       "      <th>3</th>\n",
       "      <td>Movie</td>\n",
       "      <td>The Starling</td>\n",
       "      <td>Theodore Melfi</td>\n",
       "      <td>United States</td>\n",
       "      <td>September 24, 2021</td>\n",
       "      <td>2021.0</td>\n",
       "      <td>PG-13</td>\n",
       "      <td>104 min</td>\n",
       "      <td>Comedies, Dramas</td>\n",
       "      <td>NaN</td>\n",
       "      <td>...</td>\n",
       "      <td>Theodore Melfi</td>\n",
       "      <td>NaN</td>\n",
       "      <td>NaN</td>\n",
       "      <td>United States</td>\n",
       "      <td>English</td>\n",
       "      <td>NaN</td>\n",
       "      <td>NaN</td>\n",
       "      <td>NaN</td>\n",
       "      <td>NaN</td>\n",
       "      <td>Movie</td>\n",
       "    </tr>\n",
       "    <tr>\n",
       "      <th>4</th>\n",
       "      <td>Movie</td>\n",
       "      <td>Je Suis Karl</td>\n",
       "      <td>Christian Schwochow</td>\n",
       "      <td>Germany, Czech Republic</td>\n",
       "      <td>September 23, 2021</td>\n",
       "      <td>2021.0</td>\n",
       "      <td>TV-MA</td>\n",
       "      <td>127 min</td>\n",
       "      <td>Dramas, International Movies</td>\n",
       "      <td>NaN</td>\n",
       "      <td>...</td>\n",
       "      <td>NaN</td>\n",
       "      <td>NaN</td>\n",
       "      <td>NaN</td>\n",
       "      <td>NaN</td>\n",
       "      <td>NaN</td>\n",
       "      <td>NaN</td>\n",
       "      <td>NaN</td>\n",
       "      <td>NaN</td>\n",
       "      <td>NaN</td>\n",
       "      <td>NaN</td>\n",
       "    </tr>\n",
       "  </tbody>\n",
       "</table>\n",
       "<p>5 rows × 33 columns</p>\n",
       "</div>"
      ],
      "text/plain": [
       "  type_x                             Title                       director  \\\n",
       "0  Movie              Dick Johnson Is Dead                Kirsten Johnson   \n",
       "1  Movie  My Little Pony: A New Generation  Robert Cullen, José Luis Ucha   \n",
       "2  Movie                           Sankofa                   Haile Gerima   \n",
       "3  Movie                      The Starling                 Theodore Melfi   \n",
       "4  Movie                      Je Suis Karl            Christian Schwochow   \n",
       "\n",
       "                                             country          date_added  \\\n",
       "0                                      United States  September 25, 2021   \n",
       "1                                                NaN  September 24, 2021   \n",
       "2  United States, Ghana, Burkina Faso, United Kin...  September 24, 2021   \n",
       "3                                      United States  September 24, 2021   \n",
       "4                            Germany, Czech Republic  September 23, 2021   \n",
       "\n",
       "   release_year rating duration  \\\n",
       "0        2020.0  PG-13   90 min   \n",
       "1        2021.0     PG   91 min   \n",
       "2        1993.0  TV-MA  125 min   \n",
       "3        2021.0  PG-13  104 min   \n",
       "4        2021.0  TV-MA  127 min   \n",
       "\n",
       "                                          listed_in  index  ...  \\\n",
       "0                                     Documentaries  874.0  ...   \n",
       "1                          Children & Family Movies    NaN  ...   \n",
       "2  Dramas, Independent Movies, International Movies    NaN  ...   \n",
       "3                                  Comedies, Dramas    NaN  ...   \n",
       "4                      Dramas, International Movies    NaN  ...   \n",
       "\n",
       "       Directed by                                       Release date  \\\n",
       "0  Kirsten Johnson  January 25, 2020 ( Sundance ) October 2, 2020 ...   \n",
       "1              NaN                                                NaN   \n",
       "2              NaN                                                NaN   \n",
       "3   Theodore Melfi                                                NaN   \n",
       "4              NaN                                                NaN   \n",
       "\n",
       "  Running time      Country_y  Language_y  Running Time  Release date.1 imdb  \\\n",
       "0   89 minutes  United States     English          89.0        25-01-20  NaN   \n",
       "1          NaN            NaN         NaN           NaN             NaN  NaN   \n",
       "2          NaN            NaN         NaN           NaN             NaN  NaN   \n",
       "3          NaN  United States     English           NaN             NaN  NaN   \n",
       "4          NaN            NaN         NaN           NaN             NaN  NaN   \n",
       "\n",
       "  rotten_tomatoes type_y  \n",
       "0             NaN  Movie  \n",
       "1             NaN    NaN  \n",
       "2             NaN    NaN  \n",
       "3             NaN  Movie  \n",
       "4             NaN    NaN  \n",
       "\n",
       "[5 rows x 33 columns]"
      ]
     },
     "execution_count": 6,
     "metadata": {},
     "output_type": "execute_result"
    }
   ],
   "source": [
    "#Merging the dataframes (movie_netflix_df and netflix_filtered_df)\n",
    "movie_merged_one_netflix_df = movie_netflix_df.merge(movie_netflix_filtered_df, how = 'outer', on = \"Title\")\n",
    "\n",
    "#Merging the dataframes (merged_netflix_df and original_movies_netflix_df)\n",
    "movie_merged_two_netflix_df = movie_merged_one_netflix_df.merge(original_movies_netflix_df, how = 'outer', on = 'Title')\n",
    "\n",
    "#joining the show dataframes\n",
    "tv_show_merged_netflix_df = tv_show_netflix_filtered_df.merge(tv_show_netflix_df, how = 'outer', on ='Title')\n",
    "\n",
    "# final_merged_netflix_df = movie_merged_two_netflix_df.merge(tv_show_merged_netflix_df, how = 'outer', on = 'Title')\n",
    "\n",
    "# final_merged_netflix_df = final_merged_netflix_df.reset_index()\n",
    "\n",
    "# del final_merged_netflix_df['index'], final_merged_netflix_df['level_0']\n",
    "\n",
    "# final_merged_netflix_df\n",
    "movie_merged_two_netflix_df.head()"
   ]
  },
  {
   "cell_type": "code",
   "execution_count": 7,
   "id": "c31db9cb",
   "metadata": {
    "scrolled": true
   },
   "outputs": [
    {
     "data": {
      "text/plain": [
       "Index(['type_x', 'Title', 'director', 'country', 'date_added', 'release_year',\n",
       "       'rating', 'duration', 'listed_in', 'index', 'Year', 'Age', 'IMDb',\n",
       "       'Rotten Tomatoes', 'Netflix', 'Hulu', 'Disney+', 'Directors', 'Genres',\n",
       "       'Country_x', 'Language_x', 'Runtime', 'Type', 'Directed by',\n",
       "       'Release date', 'Running time', 'Country_y', 'Language_y',\n",
       "       'Running Time', 'Release date.1', 'imdb', 'rotten_tomatoes', 'type_y'],\n",
       "      dtype='object')"
      ]
     },
     "execution_count": 7,
     "metadata": {},
     "output_type": "execute_result"
    }
   ],
   "source": [
    "movie_merged_two_netflix_df.columns"
   ]
  },
  {
   "cell_type": "markdown",
   "id": "560acfe2",
   "metadata": {},
   "source": [
    "###### columns to clean:\n",
    "director, Directed by, Directors \n",
    "duration, Running time, Running Time \n",
    "country, Country_x, Country_y\n",
    "IMDb, imdb\n",
    "Rotten Tomatoes, rotten_tomatoes\n",
    "Language_x, Language_y\n",
    "Genres, listed_in\n",
    "release_year, Year\n",
    "Release date, Release date.1\n",
    "Age, Rating"
   ]
  },
  {
   "cell_type": "markdown",
   "id": "ee1ffd45",
   "metadata": {},
   "source": [
    "# Cleaning the data"
   ]
  },
  {
   "cell_type": "markdown",
   "id": "0ed0d515",
   "metadata": {},
   "source": [
    "## Creating functions to clean data"
   ]
  },
  {
   "cell_type": "code",
   "execution_count": 8,
   "id": "c7f98313",
   "metadata": {},
   "outputs": [],
   "source": [
    "#defining functions to clean data\n",
    "\n",
    "def three_column_cleaner(dataframe, column_1, column_2, column_3, new_column):\n",
    "    for index, row in dataframe.iterrows():\n",
    "        if pd.isnull(row[column_1]):\n",
    "            if pd.isnull(row[column_2]):\n",
    "                if pd.isnull(row[column_3]):\n",
    "                    dataframe.drop(index, axis = 0, inplace = True)\n",
    "                else:\n",
    "                    dataframe.at[index, new_column] = row[column_3]\n",
    "            else:\n",
    "                dataframe.at[index, new_column] = row[column_2]\n",
    "        else:\n",
    "            dataframe.at[index, new_column] = row[column_1]\n",
    "    del dataframe[column_1], dataframe[column_2], dataframe[column_3]\n",
    "    dataframe.reset_index(inplace = True)\n",
    "    del dataframe['index']    \n",
    "            \n",
    "def two_column_cleaner(dataframe, column_1, column_2, new_column):\n",
    "    for index, row in dataframe.iterrows():\n",
    "        if pd.isnull(row[column_1]):\n",
    "            if pd.isnull(row[column_2]):\n",
    "                dataframe.drop(index, axis = 0, inplace = True)\n",
    "            else:\n",
    "                dataframe.at[index, new_column] = row[column_2]\n",
    "        else:\n",
    "            dataframe.at[index, new_column] = row[column_1]\n",
    "    del dataframe[column_1], dataframe[column_2]\n",
    "    dataframe.reset_index(inplace = True)\n",
    "    del dataframe['index']\n",
    "        "
   ]
  },
  {
   "cell_type": "code",
   "execution_count": 9,
   "id": "fe5a6748",
   "metadata": {
    "scrolled": true
   },
   "outputs": [],
   "source": [
    "#Make a copy to clean the merged_df and work with\n",
    "cleaned_movie_netflix_df = movie_merged_two_netflix_df.copy(deep = True)\n",
    "\n",
    "#manually set the column value to 1.0, indicating that it is on netflix\n",
    "cleaned_movie_netflix_df['Netflix'] = 1.0"
   ]
  },
  {
   "cell_type": "code",
   "execution_count": 10,
   "id": "7fea9651",
   "metadata": {
    "scrolled": false
   },
   "outputs": [
    {
     "data": {
      "text/plain": [
       "Index(['type_x', 'Title', 'director', 'country', 'date_added', 'release_year',\n",
       "       'rating', 'duration', 'listed_in', 'index', 'Year', 'Age', 'IMDb',\n",
       "       'Rotten Tomatoes', 'Netflix', 'Hulu', 'Disney+', 'Directors', 'Genres',\n",
       "       'Country_x', 'Language_x', 'Runtime', 'Type', 'Directed by',\n",
       "       'Release date', 'Running time', 'Country_y', 'Language_y',\n",
       "       'Running Time', 'Release date.1', 'imdb', 'rotten_tomatoes', 'type_y'],\n",
       "      dtype='object')"
      ]
     },
     "execution_count": 10,
     "metadata": {},
     "output_type": "execute_result"
    }
   ],
   "source": [
    "cleaned_movie_netflix_df.columns"
   ]
  },
  {
   "cell_type": "markdown",
   "id": "0d8b124d",
   "metadata": {},
   "source": [
    "### Cleaning Columns for Movies"
   ]
  },
  {
   "cell_type": "code",
   "execution_count": 11,
   "id": "01661885",
   "metadata": {},
   "outputs": [
    {
     "name": "stdout",
     "output_type": "stream",
     "text": [
      "6661\n",
      "6366\n",
      "3451\n",
      "3451\n",
      "3403\n",
      "3403\n",
      "3403\n",
      "3385\n"
     ]
    }
   ],
   "source": [
    "#clean director columns\n",
    "three_column_cleaner(cleaned_movie_netflix_df, 'director', 'Directors', 'Directed by', 'Director')\n",
    "print(len(cleaned_movie_netflix_df))\n",
    "\n",
    "#clean country columns\n",
    "three_column_cleaner(cleaned_movie_netflix_df, 'country', 'Country_x', 'Country_y', 'Country')\n",
    "print(len(cleaned_movie_netflix_df))\n",
    "\n",
    "#clean IMDB columns\n",
    "two_column_cleaner(cleaned_movie_netflix_df, 'IMDb', 'imdb', 'IMDB Rating')\n",
    "print(len(cleaned_movie_netflix_df))\n",
    "\n",
    "#clean Rotten Tomatoes columns\n",
    "two_column_cleaner(cleaned_movie_netflix_df, 'Rotten Tomatoes', 'rotten_tomatoes', 'Rotten Tomatoes Rating')\n",
    "print(len(cleaned_movie_netflix_df))\n",
    "\n",
    "#clean language columns\n",
    "two_column_cleaner(cleaned_movie_netflix_df, 'Language_x', 'Language_y', 'Language')\n",
    "print(len(cleaned_movie_netflix_df))\n",
    "\n",
    "#clean genre columns\n",
    "two_column_cleaner(cleaned_movie_netflix_df, 'Genres', 'listed_in', 'Genre')\n",
    "print(len(cleaned_movie_netflix_df))\n",
    "\n",
    "#clean type column\n",
    "three_column_cleaner(cleaned_movie_netflix_df, 'type_x', 'type_y', 'Type', 'Typef')\n",
    "print(len(cleaned_movie_netflix_df))\n",
    "\n",
    "#clean runtime\n",
    "del cleaned_movie_netflix_df['Running time']\n",
    "for index, dura in enumerate(cleaned_movie_netflix_df['duration']):\n",
    "    if pd.isnull(dura):\n",
    "        pass\n",
    "    elif ' ' in dura:\n",
    "        dura_string = dura.split(' ')\n",
    "        duration = dura_string[0]\n",
    "        cleaned_movie_netflix_df.loc[index, 'duration'] = duration\n",
    "three_column_cleaner(cleaned_movie_netflix_df, 'duration', 'Runtime', 'Running Time', 'Runtimef')\n",
    "\n",
    "#clean Release date.1\n",
    "del cleaned_movie_netflix_df['Release date']\n",
    "for index, date in enumerate(cleaned_movie_netflix_df['Release date.1']):\n",
    "    if pd.isnull(date):\n",
    "        pass\n",
    "    elif '-' in date:\n",
    "        date_string = date.split('-')\n",
    "        year = '20' + date_string[2]\n",
    "        cleaned_movie_netflix_df.loc[index, 'Release date.1'] = year\n",
    "\n",
    "#clean release year\n",
    "three_column_cleaner(cleaned_movie_netflix_df, 'release_year', 'Year', 'Release date.1', 'Yearf')\n",
    "print(len(cleaned_movie_netflix_df))\n",
    "\n",
    "\n",
    "#Rename columns\n",
    "cleaned_movie_netflix_df.rename(columns={'Age': 'Advisory Age',\n",
    "                                         'date_added': 'Date Added',\n",
    "                                         'rating': 'Advisory Rating',\n",
    "                                         'Typef': 'Type',\n",
    "                                         'Runtimef': 'Runtime',\n",
    "                                         'Yearf': 'Year'}, inplace = True)\n",
    "\n",
    "del cleaned_movie_netflix_df['level_0']"
   ]
  },
  {
   "cell_type": "code",
   "execution_count": 12,
   "id": "13a54c82",
   "metadata": {
    "scrolled": false
   },
   "outputs": [
    {
     "data": {
      "text/html": [
       "<div>\n",
       "<style scoped>\n",
       "    .dataframe tbody tr th:only-of-type {\n",
       "        vertical-align: middle;\n",
       "    }\n",
       "\n",
       "    .dataframe tbody tr th {\n",
       "        vertical-align: top;\n",
       "    }\n",
       "\n",
       "    .dataframe thead th {\n",
       "        text-align: right;\n",
       "    }\n",
       "</style>\n",
       "<table border=\"1\" class=\"dataframe\">\n",
       "  <thead>\n",
       "    <tr style=\"text-align: right;\">\n",
       "      <th></th>\n",
       "      <th>Title</th>\n",
       "      <th>Date Added</th>\n",
       "      <th>Advisory Rating</th>\n",
       "      <th>Advisory Age</th>\n",
       "      <th>Netflix</th>\n",
       "      <th>Hulu</th>\n",
       "      <th>Disney+</th>\n",
       "      <th>Director</th>\n",
       "      <th>Country</th>\n",
       "      <th>IMDB Rating</th>\n",
       "      <th>Rotten Tomatoes Rating</th>\n",
       "      <th>Language</th>\n",
       "      <th>Genre</th>\n",
       "      <th>Type</th>\n",
       "      <th>Runtime</th>\n",
       "      <th>Year</th>\n",
       "    </tr>\n",
       "  </thead>\n",
       "  <tbody>\n",
       "    <tr>\n",
       "      <th>0</th>\n",
       "      <td>Dick Johnson Is Dead</td>\n",
       "      <td>September 25, 2021</td>\n",
       "      <td>PG-13</td>\n",
       "      <td>13+</td>\n",
       "      <td>1.0</td>\n",
       "      <td>0.0</td>\n",
       "      <td>0.0</td>\n",
       "      <td>Kirsten Johnson</td>\n",
       "      <td>United States</td>\n",
       "      <td>7.5/10</td>\n",
       "      <td>64/100</td>\n",
       "      <td>English</td>\n",
       "      <td>Documentary,Drama</td>\n",
       "      <td>Movie</td>\n",
       "      <td>90</td>\n",
       "      <td>2020.0</td>\n",
       "    </tr>\n",
       "    <tr>\n",
       "      <th>1</th>\n",
       "      <td>Dark Skies</td>\n",
       "      <td>September 19, 2021</td>\n",
       "      <td>PG-13</td>\n",
       "      <td>16+</td>\n",
       "      <td>1.0</td>\n",
       "      <td>0.0</td>\n",
       "      <td>0.0</td>\n",
       "      <td>Scott Stewart</td>\n",
       "      <td>United States</td>\n",
       "      <td>6.3/10</td>\n",
       "      <td>72/100</td>\n",
       "      <td>English</td>\n",
       "      <td>Action,Adventure,Comedy,Horror,Sci-Fi,Thriller</td>\n",
       "      <td>Movie</td>\n",
       "      <td>97</td>\n",
       "      <td>2013.0</td>\n",
       "    </tr>\n",
       "    <tr>\n",
       "      <th>2</th>\n",
       "      <td>Naruto Shippuden the Movie: Blood Prison</td>\n",
       "      <td>September 15, 2021</td>\n",
       "      <td>TV-14</td>\n",
       "      <td>13+</td>\n",
       "      <td>1.0</td>\n",
       "      <td>0.0</td>\n",
       "      <td>0.0</td>\n",
       "      <td>Masahiko Murata</td>\n",
       "      <td>Japan</td>\n",
       "      <td>7.3/10</td>\n",
       "      <td>63/100</td>\n",
       "      <td>Japanese</td>\n",
       "      <td>Animation,Action,Mystery,Thriller</td>\n",
       "      <td>Movie</td>\n",
       "      <td>102</td>\n",
       "      <td>2011.0</td>\n",
       "    </tr>\n",
       "    <tr>\n",
       "      <th>3</th>\n",
       "      <td>Naruto the Movie: Ninja Clash in the Land of Snow</td>\n",
       "      <td>September 15, 2021</td>\n",
       "      <td>TV-PG</td>\n",
       "      <td>16+</td>\n",
       "      <td>1.0</td>\n",
       "      <td>0.0</td>\n",
       "      <td>0.0</td>\n",
       "      <td>Tensai Okamura</td>\n",
       "      <td>Japan</td>\n",
       "      <td>6.7/10</td>\n",
       "      <td>64/100</td>\n",
       "      <td>Japanese</td>\n",
       "      <td>Animation,Action,Adventure,Fantasy</td>\n",
       "      <td>Movie</td>\n",
       "      <td>83</td>\n",
       "      <td>2004.0</td>\n",
       "    </tr>\n",
       "    <tr>\n",
       "      <th>4</th>\n",
       "      <td>King of Boys</td>\n",
       "      <td>September 14, 2021</td>\n",
       "      <td>TV-MA</td>\n",
       "      <td>NaN</td>\n",
       "      <td>1.0</td>\n",
       "      <td>0.0</td>\n",
       "      <td>0.0</td>\n",
       "      <td>Kemi Adetiba</td>\n",
       "      <td>Nigeria</td>\n",
       "      <td>5.8/10</td>\n",
       "      <td>41/100</td>\n",
       "      <td>Yoruba,English,Ibo,Hausa</td>\n",
       "      <td>Drama</td>\n",
       "      <td>Movie</td>\n",
       "      <td>182</td>\n",
       "      <td>2018.0</td>\n",
       "    </tr>\n",
       "    <tr>\n",
       "      <th>...</th>\n",
       "      <td>...</td>\n",
       "      <td>...</td>\n",
       "      <td>...</td>\n",
       "      <td>...</td>\n",
       "      <td>...</td>\n",
       "      <td>...</td>\n",
       "      <td>...</td>\n",
       "      <td>...</td>\n",
       "      <td>...</td>\n",
       "      <td>...</td>\n",
       "      <td>...</td>\n",
       "      <td>...</td>\n",
       "      <td>...</td>\n",
       "      <td>...</td>\n",
       "      <td>...</td>\n",
       "      <td>...</td>\n",
       "    </tr>\n",
       "    <tr>\n",
       "      <th>3380</th>\n",
       "      <td>London Hughes: To Catch A D*ck</td>\n",
       "      <td>NaN</td>\n",
       "      <td>NaN</td>\n",
       "      <td>NaN</td>\n",
       "      <td>1.0</td>\n",
       "      <td>0.0</td>\n",
       "      <td>0.0</td>\n",
       "      <td>Kristian Mercado</td>\n",
       "      <td>United States</td>\n",
       "      <td>4.7/10</td>\n",
       "      <td>34/100</td>\n",
       "      <td>English</td>\n",
       "      <td>Comedy</td>\n",
       "      <td>Movie</td>\n",
       "      <td>68.0</td>\n",
       "      <td>2020.0</td>\n",
       "    </tr>\n",
       "    <tr>\n",
       "      <th>3381</th>\n",
       "      <td>Chatô, The King of Brazil</td>\n",
       "      <td>NaN</td>\n",
       "      <td>NaN</td>\n",
       "      <td>NaN</td>\n",
       "      <td>1.0</td>\n",
       "      <td>0.0</td>\n",
       "      <td>0.0</td>\n",
       "      <td>Guilherme Fontes</td>\n",
       "      <td>Brazil</td>\n",
       "      <td>5.4/10</td>\n",
       "      <td>33/100</td>\n",
       "      <td>Portuguese</td>\n",
       "      <td>Biography,Drama</td>\n",
       "      <td>Movie</td>\n",
       "      <td>102.0</td>\n",
       "      <td>2015.0</td>\n",
       "    </tr>\n",
       "    <tr>\n",
       "      <th>3382</th>\n",
       "      <td>Asuraguru</td>\n",
       "      <td>NaN</td>\n",
       "      <td>NaN</td>\n",
       "      <td>NaN</td>\n",
       "      <td>1.0</td>\n",
       "      <td>0.0</td>\n",
       "      <td>0.0</td>\n",
       "      <td>A. Rajdeep</td>\n",
       "      <td>India</td>\n",
       "      <td>3.3/10</td>\n",
       "      <td>32/100</td>\n",
       "      <td>Tamil</td>\n",
       "      <td>Action,Crime,Thriller</td>\n",
       "      <td>Movie</td>\n",
       "      <td>120.0</td>\n",
       "      <td>2020.0</td>\n",
       "    </tr>\n",
       "    <tr>\n",
       "      <th>3383</th>\n",
       "      <td>Crazy People</td>\n",
       "      <td>NaN</td>\n",
       "      <td>NaN</td>\n",
       "      <td>NaN</td>\n",
       "      <td>1.0</td>\n",
       "      <td>0.0</td>\n",
       "      <td>0.0</td>\n",
       "      <td>Tony Bill,Barry L. Young</td>\n",
       "      <td>United States</td>\n",
       "      <td>5.0/10</td>\n",
       "      <td>30/100</td>\n",
       "      <td>English</td>\n",
       "      <td>Comedy,Drama</td>\n",
       "      <td>Movie</td>\n",
       "      <td>90.0</td>\n",
       "      <td>2018.0</td>\n",
       "    </tr>\n",
       "    <tr>\n",
       "      <th>3384</th>\n",
       "      <td>Grego Rossello: disculpe las molestias</td>\n",
       "      <td>NaN</td>\n",
       "      <td>NaN</td>\n",
       "      <td>18+</td>\n",
       "      <td>1.0</td>\n",
       "      <td>0.0</td>\n",
       "      <td>0.0</td>\n",
       "      <td>Juani Libonatti</td>\n",
       "      <td>Argentina</td>\n",
       "      <td>4.4/10</td>\n",
       "      <td>29/100</td>\n",
       "      <td>Spanish</td>\n",
       "      <td>Comedy</td>\n",
       "      <td>Movie</td>\n",
       "      <td>65.0</td>\n",
       "      <td>2019.0</td>\n",
       "    </tr>\n",
       "  </tbody>\n",
       "</table>\n",
       "<p>3385 rows × 16 columns</p>\n",
       "</div>"
      ],
      "text/plain": [
       "                                                  Title          Date Added  \\\n",
       "0                                  Dick Johnson Is Dead  September 25, 2021   \n",
       "1                                            Dark Skies  September 19, 2021   \n",
       "2              Naruto Shippuden the Movie: Blood Prison  September 15, 2021   \n",
       "3     Naruto the Movie: Ninja Clash in the Land of Snow  September 15, 2021   \n",
       "4                                          King of Boys  September 14, 2021   \n",
       "...                                                 ...                 ...   \n",
       "3380                     London Hughes: To Catch A D*ck                 NaN   \n",
       "3381                          Chatô, The King of Brazil                 NaN   \n",
       "3382                                          Asuraguru                 NaN   \n",
       "3383                                       Crazy People                 NaN   \n",
       "3384             Grego Rossello: disculpe las molestias                 NaN   \n",
       "\n",
       "     Advisory Rating Advisory Age  Netflix  Hulu  Disney+  \\\n",
       "0              PG-13          13+      1.0   0.0      0.0   \n",
       "1              PG-13          16+      1.0   0.0      0.0   \n",
       "2              TV-14          13+      1.0   0.0      0.0   \n",
       "3              TV-PG          16+      1.0   0.0      0.0   \n",
       "4              TV-MA          NaN      1.0   0.0      0.0   \n",
       "...              ...          ...      ...   ...      ...   \n",
       "3380             NaN          NaN      1.0   0.0      0.0   \n",
       "3381             NaN          NaN      1.0   0.0      0.0   \n",
       "3382             NaN          NaN      1.0   0.0      0.0   \n",
       "3383             NaN          NaN      1.0   0.0      0.0   \n",
       "3384             NaN          18+      1.0   0.0      0.0   \n",
       "\n",
       "                      Director        Country IMDB Rating  \\\n",
       "0              Kirsten Johnson  United States      7.5/10   \n",
       "1                Scott Stewart  United States      6.3/10   \n",
       "2              Masahiko Murata          Japan      7.3/10   \n",
       "3               Tensai Okamura          Japan      6.7/10   \n",
       "4                 Kemi Adetiba        Nigeria      5.8/10   \n",
       "...                        ...            ...         ...   \n",
       "3380          Kristian Mercado  United States      4.7/10   \n",
       "3381          Guilherme Fontes         Brazil      5.4/10   \n",
       "3382                A. Rajdeep          India      3.3/10   \n",
       "3383  Tony Bill,Barry L. Young  United States      5.0/10   \n",
       "3384           Juani Libonatti      Argentina      4.4/10   \n",
       "\n",
       "     Rotten Tomatoes Rating                  Language  \\\n",
       "0                    64/100                   English   \n",
       "1                    72/100                   English   \n",
       "2                    63/100                  Japanese   \n",
       "3                    64/100                  Japanese   \n",
       "4                    41/100  Yoruba,English,Ibo,Hausa   \n",
       "...                     ...                       ...   \n",
       "3380                 34/100                   English   \n",
       "3381                 33/100                Portuguese   \n",
       "3382                 32/100                     Tamil   \n",
       "3383                 30/100                   English   \n",
       "3384                 29/100                   Spanish   \n",
       "\n",
       "                                               Genre   Type Runtime    Year  \n",
       "0                                  Documentary,Drama  Movie      90  2020.0  \n",
       "1     Action,Adventure,Comedy,Horror,Sci-Fi,Thriller  Movie      97  2013.0  \n",
       "2                  Animation,Action,Mystery,Thriller  Movie     102  2011.0  \n",
       "3                 Animation,Action,Adventure,Fantasy  Movie      83  2004.0  \n",
       "4                                              Drama  Movie     182  2018.0  \n",
       "...                                              ...    ...     ...     ...  \n",
       "3380                                          Comedy  Movie    68.0  2020.0  \n",
       "3381                                 Biography,Drama  Movie   102.0  2015.0  \n",
       "3382                           Action,Crime,Thriller  Movie   120.0  2020.0  \n",
       "3383                                    Comedy,Drama  Movie    90.0  2018.0  \n",
       "3384                                          Comedy  Movie    65.0  2019.0  \n",
       "\n",
       "[3385 rows x 16 columns]"
      ]
     },
     "execution_count": 12,
     "metadata": {},
     "output_type": "execute_result"
    }
   ],
   "source": [
    "cleaned_movie_netflix_df"
   ]
  },
  {
   "cell_type": "code",
   "execution_count": 13,
   "id": "0e9ad7d0",
   "metadata": {},
   "outputs": [
    {
     "data": {
      "text/plain": [
       "[<matplotlib.lines.Line2D at 0x1fa9a474910>]"
      ]
     },
     "execution_count": 13,
     "metadata": {},
     "output_type": "execute_result"
    },
    {
     "data": {
      "image/png": "[encoded data removed]",
      "text/plain": [
       "<Figure size 864x288 with 1 Axes>"
      ]
     },
     "metadata": {
      "needs_background": "light"
     },
     "output_type": "display_data"
    }
   ],
   "source": [
    "#Clean up date_added column\n",
    "cleaned_movie_netflix_df['Date Added']\n",
    "months_added = []\n",
    "for index, date in enumerate(cleaned_movie_netflix_df['Date Added']):\n",
    "    if pd.isnull(cleaned_movie_netflix_df['Date Added'][index]):\n",
    "        pass\n",
    "    elif ',' in date:\n",
    "        date_string = date.split(',')\n",
    "        month = date_string[0].split(' ')[0]\n",
    "        months_added.append(month)\n",
    "        \n",
    "months_added_collec = collections.Counter(months_added)\n",
    "\n",
    "months = [\"January\", \"February\", \"March\", \"April\", \"May\", \"June\", \n",
    "          \"July\", \"August\", \"September\", \"October\", \"November\", \"December\"]\n",
    "\n",
    "count = []\n",
    "for month in months:\n",
    "    count.append(months_added_collec.get(month))\n",
    "\n",
    "plt.figure(figsize=(12,4))\n",
    "plt.plot(months, count, color = 'navy')"
   ]
  },
  {
   "cell_type": "markdown",
   "id": "6003f997",
   "metadata": {},
   "source": [
    "### TV Show Netflix Clean up"
   ]
  },
  {
   "cell_type": "code",
   "execution_count": 14,
   "id": "bbd16a7b",
   "metadata": {},
   "outputs": [],
   "source": [
    "cleaned_tv_show_netflix_df = tv_show_merged_netflix_df.copy(deep=True)"
   ]
  },
  {
   "cell_type": "code",
   "execution_count": 15,
   "id": "8283e36f",
   "metadata": {
    "scrolled": true
   },
   "outputs": [
    {
     "data": {
      "text/plain": [
       "Index(['Title', 'Year', 'Age', 'IMDb', 'Rotten Tomatoes', 'Netflix', 'Hulu',\n",
       "       'Disney+', 'Type', 'type', 'director', 'country', 'date_added',\n",
       "       'release_year', 'rating', 'duration', 'listed_in'],\n",
       "      dtype='object')"
      ]
     },
     "execution_count": 15,
     "metadata": {},
     "output_type": "execute_result"
    }
   ],
   "source": [
    "cleaned_tv_show_netflix_df.columns"
   ]
  },
  {
   "cell_type": "code",
   "execution_count": 16,
   "id": "a18630f4",
   "metadata": {},
   "outputs": [
    {
     "data": {
      "text/plain": [
       "0       2008.0\n",
       "1       2016.0\n",
       "2       2015.0\n",
       "3       2017.0\n",
       "4       2005.0\n",
       "         ...  \n",
       "2969       NaN\n",
       "2970       NaN\n",
       "2971       NaN\n",
       "2972       NaN\n",
       "2973       NaN\n",
       "Name: Year, Length: 2974, dtype: float64"
      ]
     },
     "execution_count": 16,
     "metadata": {},
     "output_type": "execute_result"
    }
   ],
   "source": [
    "tv_show_merged_netflix_df['Year']"
   ]
  },
  {
   "cell_type": "code",
   "execution_count": 17,
   "id": "61e3684d",
   "metadata": {
    "scrolled": true
   },
   "outputs": [],
   "source": [
    "#clean type column\n",
    "two_column_cleaner(cleaned_tv_show_netflix_df, 'type', 'Type', 'Typef')\n",
    "two_column_cleaner(cleaned_tv_show_netflix_df, 'release_year', 'Year', 'Yearf')\n",
    "\n",
    "cleaned_tv_show_netflix_df.rename(columns={'Age': 'Advisory Age',\n",
    "                                           'IMDb': 'IMDB Rating',\n",
    "                                           'Rotten Tomatoes': 'Rotten Tomatoes Rating',\n",
    "                                           'Typef': 'Type',\n",
    "                                           'director': 'Director',\n",
    "                                           'country': 'Country',\n",
    "                                           'date_added': 'Date Added',\n",
    "                                           'Yearf': 'Year',\n",
    "                                           'rating': 'Advisory Rating',\n",
    "                                           'duration': 'Duration',\n",
    "                                           'listed_in': 'Genre'},\n",
    "                                          inplace = True)\n"
   ]
  },
  {
   "cell_type": "code",
   "execution_count": 18,
   "id": "6bd81bca",
   "metadata": {
    "scrolled": true
   },
   "outputs": [
    {
     "data": {
      "text/plain": [
       "Index(['Title', 'Advisory Age', 'IMDB Rating', 'Rotten Tomatoes Rating',\n",
       "       'Netflix', 'Hulu', 'Disney+', 'Director', 'Country', 'Date Added',\n",
       "       'Advisory Rating', 'Duration', 'Genre', 'Type', 'Year'],\n",
       "      dtype='object')"
      ]
     },
     "execution_count": 18,
     "metadata": {},
     "output_type": "execute_result"
    }
   ],
   "source": [
    "cleaned_tv_show_netflix_df.columns"
   ]
  },
  {
   "cell_type": "code",
   "execution_count": 19,
   "id": "843b9880",
   "metadata": {},
   "outputs": [],
   "source": [
    "#output dataframes to a csv file\n",
    "cleaned_tv_show_netflix_df.to_csv('cleaned_tv_show_netflix.csv')\n",
    "cleaned_movie_netflix_df.to_csv('cleaned_movie_netflix.csv')"
   ]
  },
  {
   "cell_type": "markdown",
   "id": "916a3b10",
   "metadata": {},
   "source": [
    "# Analysis"
   ]
  },
  {
   "cell_type": "markdown",
   "id": "bb33263b",
   "metadata": {},
   "source": [
    "## Medium: Movie"
   ]
  },
  {
   "cell_type": "markdown",
   "id": "da97fae6",
   "metadata": {},
   "source": [
    "### Advisory Rating"
   ]
  },
  {
   "cell_type": "code",
   "execution_count": 20,
   "id": "4a370787",
   "metadata": {
    "scrolled": true
   },
   "outputs": [
    {
     "name": "stdout",
     "output_type": "stream",
     "text": [
      "Index(['TV-MA', 'TV-14', 'R', 'TV-PG', 'PG-13'], dtype='object')\n"
     ]
    },
    {
     "name": "stderr",
     "output_type": "stream",
     "text": [
      "C:\\Users\\bmxng\\anaconda3\\envs\\PythonData\\lib\\site-packages\\pandas\\core\\indexing.py:1732: SettingWithCopyWarning: \n",
      "A value is trying to be set on a copy of a slice from a DataFrame\n",
      "\n",
      "See the caveats in the documentation: https://pandas.pydata.org/pandas-docs/stable/user_guide/indexing.html#returning-a-view-versus-a-copy\n",
      "  self._setitem_single_block(indexer, value, name)\n"
     ]
    },
    {
     "data": {
      "text/plain": [
       "TV-MA    1181\n",
       "Other     768\n",
       "TV-14     719\n",
       "R         317\n",
       "TV-PG     220\n",
       "PG-13     180\n",
       "Name: Advisory Rating, dtype: int64"
      ]
     },
     "execution_count": 20,
     "metadata": {},
     "output_type": "execute_result"
    }
   ],
   "source": [
    "#Analysis for advisory rating\n",
    "advisory_rating = cleaned_movie_netflix_df['Advisory Rating']\n",
    "advisory_rating_counts = advisory_rating.value_counts()\n",
    "top_5_ratings = advisory_rating_counts.head(5).keys()\n",
    "print(top_5_ratings)\n",
    "\n",
    "for index, rating in enumerate(advisory_rating):\n",
    "    if rating not in top_5_ratings:\n",
    "        advisory_rating.loc[index] = 'Other'\n",
    "\n",
    "advisory_rating_counts = advisory_rating.value_counts()\n",
    "advisory_rating_counts\n",
    "\n",
    "#advisory_rating_counts.plot(kind = 'bar', color = 'navy')"
   ]
  },
  {
   "cell_type": "code",
   "execution_count": 21,
   "id": "303d9b63",
   "metadata": {},
   "outputs": [
    {
     "data": {
      "text/plain": [
       "<AxesSubplot:>"
      ]
     },
     "execution_count": 21,
     "metadata": {},
     "output_type": "execute_result"
    },
    {
     "data": {
      "image/png": "[encoded data removed]",
      "text/plain": [
       "<Figure size 432x288 with 1 Axes>"
      ]
     },
     "metadata": {
      "needs_background": "light"
     },
     "output_type": "display_data"
    }
   ],
   "source": [
    "advisory_rating_counts.plot(kind = 'bar', color = 'navy')"
   ]
  },
  {
   "cell_type": "markdown",
   "id": "66ae27c0",
   "metadata": {},
   "source": [
    "### Genre"
   ]
  },
  {
   "cell_type": "code",
   "execution_count": 22,
   "id": "02adb10a",
   "metadata": {},
   "outputs": [
    {
     "data": {
      "text/html": [
       "<div>\n",
       "<style scoped>\n",
       "    .dataframe tbody tr th:only-of-type {\n",
       "        vertical-align: middle;\n",
       "    }\n",
       "\n",
       "    .dataframe tbody tr th {\n",
       "        vertical-align: top;\n",
       "    }\n",
       "\n",
       "    .dataframe thead th {\n",
       "        text-align: right;\n",
       "    }\n",
       "</style>\n",
       "<table border=\"1\" class=\"dataframe\">\n",
       "  <thead>\n",
       "    <tr style=\"text-align: right;\">\n",
       "      <th></th>\n",
       "      <th>Other</th>\n",
       "      <th>Drama</th>\n",
       "      <th>Comedy</th>\n",
       "      <th>Thriller</th>\n",
       "      <th>Romance</th>\n",
       "      <th>Action</th>\n",
       "      <th>Crime</th>\n",
       "      <th>Documentary</th>\n",
       "      <th>Adventure</th>\n",
       "      <th>Family</th>\n",
       "      <th>Mystery</th>\n",
       "    </tr>\n",
       "  </thead>\n",
       "  <tbody>\n",
       "    <tr>\n",
       "      <th>Count</th>\n",
       "      <td>1701</td>\n",
       "      <td>1613</td>\n",
       "      <td>1368</td>\n",
       "      <td>683</td>\n",
       "      <td>616</td>\n",
       "      <td>590</td>\n",
       "      <td>442</td>\n",
       "      <td>408</td>\n",
       "      <td>326</td>\n",
       "      <td>309</td>\n",
       "      <td>256</td>\n",
       "    </tr>\n",
       "  </tbody>\n",
       "</table>\n",
       "</div>"
      ],
      "text/plain": [
       "       Other  Drama  Comedy  Thriller  Romance  Action  Crime  Documentary  \\\n",
       "Count   1701   1613    1368       683      616     590    442          408   \n",
       "\n",
       "       Adventure  Family  Mystery  \n",
       "Count        326     309      256  "
      ]
     },
     "execution_count": 22,
     "metadata": {},
     "output_type": "execute_result"
    }
   ],
   "source": [
    "#Analysis for Genre\n",
    "list_of_genres = []\n",
    "for genre in cleaned_movie_netflix_df['Genre']:\n",
    "    if ',' not in genre:\n",
    "        list_of_genres.append(genre.strip())\n",
    "    elif ',' in genre:\n",
    "        genres = genre.split(',')\n",
    "        genres = [genre.strip() for genre in genres]\n",
    "        for genre in genres:\n",
    "            list_of_genres.append(genre)\n",
    "            \n",
    "genres_count = collections.Counter(list_of_genres)\n",
    "genres_count = dict(genres_count)\n",
    "genres_count = pd.DataFrame(genres_count, index = ['Count'])\n",
    "genres_count = genres_count.T\n",
    "genres_count.sort_values('Count', ascending = False, inplace = True)\n",
    "top_10_genres = genres_count.head(10).index\n",
    "top_10_genres\n",
    "\n",
    "for index, genre in enumerate(list_of_genres):\n",
    "    if genre not in top_10_genres:\n",
    "        list_of_genres[index] = 'Other'\n",
    "\n",
    "list_of_genres\n",
    "genres_count = collections.Counter(list_of_genres)\n",
    "genres_count = dict(genres_count)\n",
    "genres_count = pd.DataFrame(genres_count, index = ['Count'])\n",
    "genres_count = genres_count.T\n",
    "genres_count.sort_values('Count', ascending = False, inplace = True)\n",
    "\n",
    "genres_count = genres_count.T\n",
    "genres_count\n",
    "# genres_count\n",
    "# genres_count = genres_count.T\n",
    "# genres_count.sort_values(ascending = False, axis = 0)\n"
   ]
  },
  {
   "cell_type": "markdown",
   "id": "18ee3c4e",
   "metadata": {},
   "source": [
    "### Country"
   ]
  },
  {
   "cell_type": "code",
   "execution_count": 23,
   "id": "60b50dd2",
   "metadata": {},
   "outputs": [
    {
     "data": {
      "text/plain": [
       "97"
      ]
     },
     "execution_count": 23,
     "metadata": {},
     "output_type": "execute_result"
    }
   ],
   "source": [
    "#Analysis for country\n",
    "list_of_countries = []\n",
    "for country in cleaned_movie_netflix_df['Country']:\n",
    "    if ',' not in country:\n",
    "        list_of_countries.append(country.strip())\n",
    "    elif ',' in country:\n",
    "        countries = country.split(',')\n",
    "        countries = [countrie.strip() for countrie in countries]\n",
    "        for countri in countries:\n",
    "            list_of_countries.append(countri)\n",
    "\n",
    "countries_count = collections.Counter(list_of_countries)\n",
    "countries_count = pd.DataFrame(countries_count, index = [0])\n",
    "len(countries_count.keys())\n",
    "\n",
    "# country_counts = cleaned_movie_netflix_df['Country'].value_counts()\n",
    "# country_counts\n",
    "# country_bar.plot(kind = 'bar', color = 'navy')"
   ]
  },
  {
   "cell_type": "markdown",
   "id": "cd385d0e",
   "metadata": {},
   "source": [
    "### Language"
   ]
  },
  {
   "cell_type": "code",
   "execution_count": 24,
   "id": "4b020a01",
   "metadata": {},
   "outputs": [
    {
     "data": {
      "text/plain": [
       "113"
      ]
     },
     "execution_count": 24,
     "metadata": {},
     "output_type": "execute_result"
    }
   ],
   "source": [
    "# #Analysis for language\n",
    "# language_counts = cleaned_movie_netflix_df['Language'].value_counts()\n",
    "list_of_languages = []\n",
    "for language in cleaned_movie_netflix_df['Language']:\n",
    "    if ',' not in language:\n",
    "        list_of_languages.append(language.strip())\n",
    "    elif ',' in language:\n",
    "        languages = language.split(',')\n",
    "        languages = [langue.strip() for langue in languages]\n",
    "        for languag in languages:\n",
    "            list_of_languages.append(languag)\n",
    "            \n",
    "languages_count = collections.Counter(list_of_languages)\n",
    "language_df = pd.DataFrame(languages_count, index = [0])\n",
    "language_df.value_counts()\n",
    "len(language_df.keys())"
   ]
  },
  {
   "cell_type": "markdown",
   "id": "1078c9f7",
   "metadata": {},
   "source": [
    "### Analysis Release Year"
   ]
  },
  {
   "cell_type": "code",
   "execution_count": 25,
   "id": "6c36a078",
   "metadata": {},
   "outputs": [
    {
     "name": "stdout",
     "output_type": "stream",
     "text": [
      "1954 2021 14\n"
     ]
    },
    {
     "data": {
      "text/plain": [
       "Text(0.5, 1.0, 'Counts of Release Year 5')"
      ]
     },
     "execution_count": 25,
     "metadata": {},
     "output_type": "execute_result"
    },
    {
     "data": {
      "image/png": "[encoded data removed]",
      "text/plain": [
       "<Figure size 432x288 with 1 Axes>"
      ]
     },
     "metadata": {
      "needs_background": "light"
     },
     "output_type": "display_data"
    }
   ],
   "source": [
    "#Analysis for release year\n",
    "release_year_counts = cleaned_movie_netflix_df['Year'].value_counts(ascending = True)\n",
    "cleaned_movie_netflix_df['Year'] = cleaned_movie_netflix_df['Year'].astype(int)\n",
    "earliest_year = cleaned_movie_netflix_df['Year'].min()\n",
    "latest_year = cleaned_movie_netflix_df['Year'].max()\n",
    "#determine how many bins\n",
    "print(earliest_year, latest_year, (latest_year - earliest_year)//5 + 1)\n",
    "cleaned_movie_netflix_df.hist('Year', bins = (latest_year - earliest_year)//5 + 1, grid = False)\n",
    "plt.title('Counts of Release Year 5')\n",
    "# bins = [x for x in range(earliest_year, latest_year+4, 5)]\n",
    "# bins\n",
    "# year_bins = ['1954-59', '1960-64', '1964-69', '1970-74', '19-59']\n"
   ]
  },
  {
   "cell_type": "markdown",
   "id": "c7687c9c",
   "metadata": {},
   "source": [
    "### Critical Reception"
   ]
  },
  {
   "cell_type": "code",
   "execution_count": 26,
   "id": "5cf3e6cf",
   "metadata": {
    "scrolled": true
   },
   "outputs": [
    {
     "data": {
      "text/plain": [
       "Text(0.5, 1.0, 'Movies on Netflix Critical Reception')"
      ]
     },
     "execution_count": 26,
     "metadata": {},
     "output_type": "execute_result"
    },
    {
     "data": {
      "image/png": "[encoded data removed]",
      "text/plain": [
       "<Figure size 432x288 with 1 Axes>"
      ]
     },
     "metadata": {
      "needs_background": "light"
     },
     "output_type": "display_data"
    }
   ],
   "source": [
    "cleaned_movie_netflix_df['IMDB Rating']\n",
    "imdb_ratings = []\n",
    "for c_rating in cleaned_movie_netflix_df['IMDB Rating']:\n",
    "    rating = float(c_rating.split('/')[0])\n",
    "    imdb_ratings.append(rating)\n",
    "    \n",
    "imdb_ratings\n",
    "\n",
    "cleaned_movie_netflix_df['Rotten Tomatoes Rating']\n",
    "rotten_tomato_ratings = []\n",
    "for c_rating in cleaned_movie_netflix_df['Rotten Tomatoes Rating']:\n",
    "    rating = float(c_rating.split('/')[0])\n",
    "    rotten_tomato_ratings.append(rating)\n",
    "    \n",
    "rotten_tomato_ratings = [float(rating)/10 for rating in rotten_tomato_ratings]\n",
    "rotten_tomato_ratings\n",
    "\n",
    "\n",
    "#generate boxplots\n",
    "ratings_data = [imdb_ratings, rotten_tomato_ratings]\n",
    "fig1, ax1 = plt.subplots()\n",
    "ax1.boxplot(ratings_data)\n",
    "\n",
    "#adjust x-axis\n",
    "critics = ['IMDB', 'Rotten Tomatoes']\n",
    "plt.xlabel('Critic')\n",
    "plt.ylabel('Rating')\n",
    "x_axis = [x for x in range(len(ratings_data))]\n",
    "tick_locations = [value+1 for value in x_axis]\n",
    "plt.xticks(tick_locations, labels = critics, rotation=\"vertical\")\n",
    "plt.title('Movies on Netflix Critical Reception')"
   ]
  },
  {
   "cell_type": "markdown",
   "id": "78c0fd76",
   "metadata": {},
   "source": [
    "## Date Added"
   ]
  },
  {
   "cell_type": "markdown",
   "id": "46ea428d",
   "metadata": {},
   "source": [
    "## Medium: TV Show"
   ]
  },
  {
   "cell_type": "markdown",
   "id": "4803596f",
   "metadata": {},
   "source": [
    "### Advisory Rating"
   ]
  },
  {
   "cell_type": "code",
   "execution_count": 27,
   "id": "633cf583",
   "metadata": {
    "scrolled": false
   },
   "outputs": [
    {
     "name": "stdout",
     "output_type": "stream",
     "text": [
      "Index(['TV-MA', 'TV-14', 'TV-PG', 'TV-Y7', 'TV-Y'], dtype='object')\n"
     ]
    },
    {
     "name": "stderr",
     "output_type": "stream",
     "text": [
      "C:\\Users\\bmxng\\anaconda3\\envs\\PythonData\\lib\\site-packages\\pandas\\core\\indexing.py:1732: SettingWithCopyWarning: \n",
      "A value is trying to be set on a copy of a slice from a DataFrame\n",
      "\n",
      "See the caveats in the documentation: https://pandas.pydata.org/pandas-docs/stable/user_guide/indexing.html#returning-a-view-versus-a-copy\n",
      "  self._setitem_single_block(indexer, value, name)\n"
     ]
    },
    {
     "data": {
      "text/plain": [
       "TV-MA    1145\n",
       "TV-14     733\n",
       "Other     402\n",
       "TV-PG     323\n",
       "TV-Y7     195\n",
       "TV-Y      176\n",
       "Name: Advisory Rating, dtype: int64"
      ]
     },
     "execution_count": 27,
     "metadata": {},
     "output_type": "execute_result"
    }
   ],
   "source": [
    "#Analysis for advisory rating\n",
    "advisory_rating = cleaned_tv_show_netflix_df['Advisory Rating']\n",
    "advisory_rating_counts = advisory_rating.value_counts()\n",
    "top_5_ratings = advisory_rating_counts.head(5).keys()\n",
    "print(top_5_ratings)\n",
    "\n",
    "for index, rating in enumerate(advisory_rating):\n",
    "    if rating not in top_5_ratings:\n",
    "        advisory_rating.loc[index] = 'Other'\n",
    "\n",
    "advisory_rating_counts = advisory_rating.value_counts()\n",
    "advisory_rating_counts\n",
    "\n",
    "#advisory_rating_counts.plot(kind = 'bar', color = 'navy')"
   ]
  },
  {
   "cell_type": "code",
   "execution_count": 28,
   "id": "12ed0308",
   "metadata": {},
   "outputs": [
    {
     "data": {
      "text/plain": [
       "<AxesSubplot:>"
      ]
     },
     "execution_count": 28,
     "metadata": {},
     "output_type": "execute_result"
    },
    {
     "data": {
      "image/png": "[encoded data removed]",
      "text/plain": [
       "<Figure size 432x288 with 1 Axes>"
      ]
     },
     "metadata": {
      "needs_background": "light"
     },
     "output_type": "display_data"
    }
   ],
   "source": [
    "advisory_rating_counts.plot(kind = 'bar', color = 'green')"
   ]
  },
  {
   "cell_type": "markdown",
   "id": "abbe91eb",
   "metadata": {},
   "source": [
    "### Genre"
   ]
  },
  {
   "cell_type": "code",
   "execution_count": 31,
   "id": "ec6d28f5",
   "metadata": {},
   "outputs": [
    {
     "data": {
      "text/plain": [
       "11"
      ]
     },
     "execution_count": 31,
     "metadata": {},
     "output_type": "execute_result"
    }
   ],
   "source": [
    "#Analysis for Genre\n",
    "list_of_genres = []\n",
    "for genre in cleaned_tv_show_netflix_df['Genre']:\n",
    "    if pd.isnull(genre):\n",
    "        pass\n",
    "    elif ',' not in genre:\n",
    "        list_of_genres.append(genre.strip())\n",
    "    elif ',' in genre:\n",
    "        genres = genre.split(',')\n",
    "        genres = [genre.strip() for genre in genres]\n",
    "        for genre in genres:\n",
    "            list_of_genres.append(genre)\n",
    "            \n",
    "genres_count = collections.Counter(list_of_genres)\n",
    "genres_count = dict(genres_count)\n",
    "genres_count = pd.DataFrame(genres_count, index = ['Count'])\n",
    "genres_count = genres_count.T\n",
    "genres_count.sort_values('Count', ascending = False, inplace = True)\n",
    "top_10_genres = genres_count.head(10).index\n",
    "top_10_genres\n",
    "\n",
    "for index, genre in enumerate(list_of_genres):\n",
    "    if genre not in top_10_genres:\n",
    "        list_of_genres[index] = 'Other'\n",
    "\n",
    "list_of_genres\n",
    "genres_count = collections.Counter(list_of_genres)\n",
    "genres_count = dict(genres_count)\n",
    "genres_count = pd.DataFrame(genres_count, index = ['Count'])\n",
    "genres_count = genres_count.T\n",
    "genres_count.sort_values('Count', ascending = False, inplace = True)\n",
    "\n",
    "genres_count = genres_count.T\n",
    "genres_count.columns\n",
    "# genres_count = genres_count.T\n",
    "# genres_count.sort_values(ascending = False, axis = 0)\n"
   ]
  },
  {
   "cell_type": "markdown",
   "id": "9598d700",
   "metadata": {},
   "source": [
    "### Country"
   ]
  },
  {
   "cell_type": "code",
   "execution_count": null,
   "id": "6ba66b6b",
   "metadata": {},
   "outputs": [],
   "source": [
    "#Analysis for country\n",
    "list_of_countries = []\n",
    "for country in cleaned_tv_show_netflix_df['Country']:\n",
    "    if pd.isnull(country):\n",
    "        pass\n",
    "    elif ',' not in country:\n",
    "        list_of_countries.append(country.strip())\n",
    "    elif ',' in country:\n",
    "        countries = country.split(',')\n",
    "        countries = [countrie.strip() for countrie in countries]\n",
    "        for countri in countries:\n",
    "            list_of_countries.append(countri)\n",
    "\n",
    "countries_count = collections.Counter(list_of_countries)\n",
    "countries_count = pd.DataFrame(countries_count, index = [0])\n",
    "len(countries_count.keys())\n",
    "\n",
    "# country_counts = cleaned_tv_show_netflix_df['Country'].value_counts()\n",
    "# country_counts\n",
    "# country_bar.plot(kind = 'bar', color = 'navy')"
   ]
  },
  {
   "cell_type": "markdown",
   "id": "c32ac0aa",
   "metadata": {},
   "source": [
    "### Language(?)"
   ]
  },
  {
   "cell_type": "code",
   "execution_count": null,
   "id": "bba416b5",
   "metadata": {},
   "outputs": [],
   "source": [
    "# #Analysis for language\n",
    "# language_counts = cleaned_tv_show_netflix_df['Language'].value_counts()\n",
    "# list_of_languages = []\n",
    "# for language in cleaned_tv_show_netflix_df['Language']:\n",
    "#     if pd.isnull(language):\n",
    "#         pass\n",
    "#     if ',' not in language:\n",
    "#         list_of_languages.append(language.strip())\n",
    "#     elif ',' in language:\n",
    "#         languages = language.split(',')\n",
    "#         languages = [langue.strip() for langue in languages]\n",
    "#         for languag in languages:\n",
    "#             list_of_languages.append(languag)\n",
    "            \n",
    "# languages_count = collections.Counter(list_of_languages)\n",
    "# language_df = pd.DataFrame(languages_count, index = [0])\n",
    "# language_df.value_counts()\n",
    "# len(language_df.keys())"
   ]
  },
  {
   "cell_type": "markdown",
   "id": "131a5069",
   "metadata": {},
   "source": [
    "### Analysis Release Year"
   ]
  },
  {
   "cell_type": "code",
   "execution_count": null,
   "id": "1bf346c1",
   "metadata": {},
   "outputs": [],
   "source": [
    "#Analysis for release year\n",
    "release_year_counts = cleaned_tv_show_netflix_df['Year'].value_counts(ascending = True)\n",
    "cleaned_tv_show_netflix_df['Year'] = cleaned_tv_show_netflix_df['Year'].astype(int)\n",
    "earliest_year = cleaned_tv_show_netflix_df['Year'].min()\n",
    "latest_year = cleaned_tv_show_netflix_df['Year'].max()\n",
    "#determine how many bins\n",
    "print(earliest_year, latest_year, (latest_year - earliest_year)//5 + 1)\n",
    "cleaned_tv_show_netflix_df.hist('Year', bins = (latest_year - earliest_year)//5 + 1, grid = False, color = 'green')\n",
    "plt.title('Counts of Release Year 5')\n",
    "# bins = [x for x in range(earliest_year, latest_year+4, 5)]\n",
    "# bins\n",
    "# year_bins = ['1954-59', '1960-64', '1964-69', '1970-74', '19-59']\n"
   ]
  },
  {
   "cell_type": "markdown",
   "id": "c562983f",
   "metadata": {},
   "source": [
    "### Critical Reception"
   ]
  },
  {
   "cell_type": "code",
   "execution_count": null,
   "id": "b048627e",
   "metadata": {
    "scrolled": false
   },
   "outputs": [],
   "source": [
    "cleaned_tv_show_netflix_df['IMDB Rating']\n",
    "imdb_ratings = []\n",
    "for c_rating in cleaned_tv_show_netflix_df['IMDB Rating']:\n",
    "    if pd.isnull(c_rating):\n",
    "        pass\n",
    "    else:\n",
    "        rating = float(c_rating.split('/')[0])\n",
    "        imdb_ratings.append(rating)\n",
    "    \n",
    "imdb_ratings\n",
    "\n",
    "cleaned_tv_show_netflix_df['Rotten Tomatoes Rating']\n",
    "rotten_tomato_ratings = []\n",
    "for c_rating in cleaned_tv_show_netflix_df['Rotten Tomatoes Rating']:\n",
    "    if pd.isnull(c_rating):\n",
    "        pass\n",
    "    else:\n",
    "        rating = float(c_rating.split('/')[0])\n",
    "        rotten_tomato_ratings.append(rating)\n",
    "    \n",
    "rotten_tomato_ratings = [float(rating)/10 for rating in rotten_tomato_ratings]\n",
    "rotten_tomato_ratings\n",
    "\n",
    "\n",
    "#generate boxplots\n",
    "ratings_data = [imdb_ratings, rotten_tomato_ratings]\n",
    "fig1, ax1 = plt.subplots()\n",
    "ax1.boxplot(ratings_data)\n",
    "\n",
    "#adjust x-axis\n",
    "critics = ['IMDB', 'Rotten Tomatoes']\n",
    "plt.xlabel('Critic')\n",
    "plt.ylabel('Rating')\n",
    "x_axis = [x for x in range(len(ratings_data))]\n",
    "tick_locations = [value+1 for value in x_axis]\n",
    "plt.xticks(tick_locations, labels = critics, rotation=\"vertical\")\n",
    "plt.title('TV Shows on Netflix Critical Reception')"
   ]
  },
  {
   "cell_type": "markdown",
   "id": "19362f8f",
   "metadata": {},
   "source": [
    "### Date Added"
   ]
  },
  {
   "cell_type": "code",
   "execution_count": null,
   "id": "de53bb20",
   "metadata": {},
   "outputs": [],
   "source": [
    "cleaned_tv_show_netflix_df['Date Added']\n",
    "months_added = []\n",
    "for index, date in enumerate(cleaned_tv_show_netflix_df['Date Added']):\n",
    "    if pd.isnull(cleaned_tv_show_netflix_df['Date Added'][index]):\n",
    "        pass\n",
    "    elif ',' in date:\n",
    "        date_string = date.split(',')\n",
    "        month = date_string[0].split(' ')[0]\n",
    "        months_added.append(month)\n",
    "        \n",
    "months_added_collec = collections.Counter(months_added)\n",
    "\n",
    "months = [\"January\", \"February\", \"March\", \"April\", \"May\", \"June\", \n",
    "          \"July\", \"August\", \"September\", \"October\", \"November\", \"December\"]\n",
    "\n",
    "count = []\n",
    "for month in months:\n",
    "    count.append(months_added_collec.get(month))\n",
    "\n",
    "plt.figure(figsize=(12,4))\n",
    "plt.plot(months, count, color = 'green')"
   ]
  },
  {
   "cell_type": "code",
   "execution_count": null,
   "id": "fa8713e4",
   "metadata": {},
   "outputs": [],
   "source": []
  }
 ],
 "metadata": {
  "kernelspec": {
   "display_name": "Python [conda env:PythonData] *",
   "language": "python",
   "name": "conda-env-PythonData-py"
  },
  "language_info": {
   "codemirror_mode": {
    "name": "ipython",
    "version": 3
   },
   "file_extension": ".py",
   "mimetype": "text/x-python",
   "name": "python",
   "nbconvert_exporter": "python",
   "pygments_lexer": "ipython3",
   "version": "3.8.12"
  }
 },
 "nbformat": 4,
 "nbformat_minor": 5
}
