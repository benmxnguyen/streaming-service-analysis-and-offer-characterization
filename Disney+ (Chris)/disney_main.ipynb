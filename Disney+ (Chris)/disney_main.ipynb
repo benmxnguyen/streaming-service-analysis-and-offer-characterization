{
 "cells": [
  {
   "cell_type": "markdown",
   "id": "6f70341b",
   "metadata": {},
   "source": [
    "# Setup"
   ]
  },
  {
   "cell_type": "code",
   "execution_count": 1,
   "id": "89853085",
   "metadata": {},
   "outputs": [],
   "source": [
    "#dependecies\n",
    "import matplotlib.pyplot as plt\n",
    "import pandas as pd\n",
    "import numpy as np\n",
    "import scipy.stats as sts\n",
    "\n",
    "#links for project\n",
    "# Brainstorming: https://docs.google.com/document/d/12Z4DCdVAte6-cMMAv_EZIdZdDpvUzxOuDvNcNFio4PM/edit"
   ]
  },
  {
   "cell_type": "markdown",
   "id": "0baab99f",
   "metadata": {},
   "source": [
    "# Importing/Merging DFs"
   ]
  },
  {
   "cell_type": "code",
   "execution_count": 2,
   "id": "208e73d4",
   "metadata": {},
   "outputs": [],
   "source": [
    "#variables for forloop\n",
    "import_filenames = ['disney_plus_content_1.csv', 'disney_plus_content_2.csv', 'movies_per_streaming.csv', 'shows_per_streaming.csv']\n",
    "\n",
    "#variable to store all df data\n",
    "df_list = []\n",
    "\n",
    "#importing data\n",
    "for path in import_filenames:\n",
    "    df_list.append(pd.read_csv(f\"Resources/{path}\"))"
   ]
  },
  {
   "cell_type": "markdown",
   "id": "82fbd43a",
   "metadata": {},
   "source": [
    "We did a manual review of all the columns in our 10+ datasets and decided which columns to keep:\n",
    "\n",
    "- Netflix\n",
    "- Disney\n",
    "- Hulu\n",
    "------\n",
    "- Title\n",
    "- Type (movie vs show)\n",
    "- Genre\n",
    "- Rated (PG13)\n",
    "- Starring/Cast\n",
    "- Directors\n",
    "- Year relased\n",
    "- Age\n",
    "- Awards\n",
    "- Language\n",
    "- Country\n",
    "- Date_Added\n",
    "- Release_Year\n",
    "- Rotten Tomatoes\n",
    "- IMDb\n",
    "- Imdb_Rating\n",
    "- Imdb_Votes\n",
    "- Metascore\n",
    "- Box Office\n",
    "- Budget\n",
    "- Running Time"
   ]
  },
  {
   "cell_type": "markdown",
   "id": "58535d93",
   "metadata": {},
   "source": [
    "### Precleaning"
   ]
  },
  {
   "cell_type": "code",
   "execution_count": 3,
   "id": "f1192188",
   "metadata": {},
   "outputs": [],
   "source": [
    "#defining function for dropping columns\n",
    "def dropper(df, drop_columns):\n",
    "    df = df.drop(drop_columns, axis = 1)\n",
    "    return df"
   ]
  },
  {
   "cell_type": "code",
   "execution_count": 4,
   "id": "147e3e58",
   "metadata": {},
   "outputs": [],
   "source": [
    "#variable for loop\n",
    "df_column_list = [\n",
    "    ['Imdb_Id', 'Plot', 'Released_At', 'Writer'],\n",
    "    ['Show_Id', 'Description'],\n",
    "    ['Unnamed: 0', 'Id', 'Netflix', 'Hulu', 'Prime Video'],\n",
    "    ['Unnamed: 0', 'Id', 'Netflix', 'Hulu', 'Prime Video']\n",
    "]"
   ]
  },
  {
   "cell_type": "code",
   "execution_count": 5,
   "id": "634b8458",
   "metadata": {},
   "outputs": [],
   "source": [
    "#capitalizing and then dropping unnecessary columns\n",
    "for i in range(len(df_list)):\n",
    "    df_list[i].columns = map(str.title, df_list[i].columns)\n",
    "    df_list[i] = dropper(df_list[i], df_column_list[i])"
   ]
  },
  {
   "cell_type": "code",
   "execution_count": 6,
   "id": "3d26d79f",
   "metadata": {},
   "outputs": [],
   "source": [
    "#manually slicing of df2,3\n",
    "for i in range(2,4):\n",
    "    df_list[i] = df_list[i].loc[df_list[i]['Disney+'] == 1]\n",
    "    df_list[i] = dropper(df_list[i], ['Disney+'])"
   ]
  },
  {
   "cell_type": "markdown",
   "id": "3041db4a",
   "metadata": {},
   "source": [
    "### Merging DFs"
   ]
  },
  {
   "cell_type": "code",
   "execution_count": 7,
   "id": "5a4036f6",
   "metadata": {
    "scrolled": true
   },
   "outputs": [
    {
     "data": {
      "text/html": [
       "<div>\n",
       "<style scoped>\n",
       "    .dataframe tbody tr th:only-of-type {\n",
       "        vertical-align: middle;\n",
       "    }\n",
       "\n",
       "    .dataframe tbody tr th {\n",
       "        vertical-align: top;\n",
       "    }\n",
       "\n",
       "    .dataframe thead th {\n",
       "        text-align: right;\n",
       "    }\n",
       "</style>\n",
       "<table border=\"1\" class=\"dataframe\">\n",
       "  <thead>\n",
       "    <tr style=\"text-align: right;\">\n",
       "      <th></th>\n",
       "      <th>Title</th>\n",
       "      <th>Type_x_x</th>\n",
       "      <th>Rated</th>\n",
       "      <th>Year</th>\n",
       "      <th>Added_At</th>\n",
       "      <th>Runtime_x</th>\n",
       "      <th>Genre</th>\n",
       "      <th>Director_x</th>\n",
       "      <th>Actors</th>\n",
       "      <th>Language_x</th>\n",
       "      <th>...</th>\n",
       "      <th>Directors</th>\n",
       "      <th>Genres</th>\n",
       "      <th>Country</th>\n",
       "      <th>Language_y</th>\n",
       "      <th>Runtime_y</th>\n",
       "      <th>Year_y</th>\n",
       "      <th>Age_y</th>\n",
       "      <th>Imdb_y</th>\n",
       "      <th>Rotten Tomatoes_y</th>\n",
       "      <th>Type_y_y</th>\n",
       "    </tr>\n",
       "  </thead>\n",
       "  <tbody>\n",
       "    <tr>\n",
       "      <th>0</th>\n",
       "      <td>10 Things I Hate About You</td>\n",
       "      <td>movie</td>\n",
       "      <td>PG-13</td>\n",
       "      <td>1999</td>\n",
       "      <td>November 12, 2019</td>\n",
       "      <td>97 min</td>\n",
       "      <td>Comedy, Drama, Romance</td>\n",
       "      <td>Gil Junger</td>\n",
       "      <td>Heath Ledger, Julia Stiles, Joseph Gordon-Levi...</td>\n",
       "      <td>English, French</td>\n",
       "      <td>...</td>\n",
       "      <td>NaN</td>\n",
       "      <td>NaN</td>\n",
       "      <td>NaN</td>\n",
       "      <td>NaN</td>\n",
       "      <td>NaN</td>\n",
       "      <td>2009.0</td>\n",
       "      <td>16+</td>\n",
       "      <td>7.3/10</td>\n",
       "      <td>67/100</td>\n",
       "      <td>1.0</td>\n",
       "    </tr>\n",
       "    <tr>\n",
       "      <th>1</th>\n",
       "      <td>101 Dalmatian Street</td>\n",
       "      <td>series</td>\n",
       "      <td>NaN</td>\n",
       "      <td>2018–</td>\n",
       "      <td>February 28, 2020</td>\n",
       "      <td>NaN</td>\n",
       "      <td>Animation, Comedy, Family</td>\n",
       "      <td>NaN</td>\n",
       "      <td>Josh Brener, Michaela Dietz, Bert Davis, Abiga...</td>\n",
       "      <td>English</td>\n",
       "      <td>...</td>\n",
       "      <td>NaN</td>\n",
       "      <td>NaN</td>\n",
       "      <td>NaN</td>\n",
       "      <td>NaN</td>\n",
       "      <td>NaN</td>\n",
       "      <td>2019.0</td>\n",
       "      <td>7+</td>\n",
       "      <td>6.3/10</td>\n",
       "      <td>44/100</td>\n",
       "      <td>1.0</td>\n",
       "    </tr>\n",
       "    <tr>\n",
       "      <th>2</th>\n",
       "      <td>101 Dalmatians</td>\n",
       "      <td>movie</td>\n",
       "      <td>G</td>\n",
       "      <td>1996</td>\n",
       "      <td>November 12, 2019</td>\n",
       "      <td>103 min</td>\n",
       "      <td>Adventure, Comedy, Crime, Family</td>\n",
       "      <td>Stephen Herek</td>\n",
       "      <td>Glenn Close, Jeff Daniels, Joely Richardson, J...</td>\n",
       "      <td>English, Spanish</td>\n",
       "      <td>...</td>\n",
       "      <td>NaN</td>\n",
       "      <td>NaN</td>\n",
       "      <td>NaN</td>\n",
       "      <td>NaN</td>\n",
       "      <td>NaN</td>\n",
       "      <td>1997.0</td>\n",
       "      <td>NaN</td>\n",
       "      <td>NaN</td>\n",
       "      <td>21/100</td>\n",
       "      <td>1.0</td>\n",
       "    </tr>\n",
       "    <tr>\n",
       "      <th>3</th>\n",
       "      <td>101 Dalmatians 2: Patch's London Adventure</td>\n",
       "      <td>movie</td>\n",
       "      <td>G</td>\n",
       "      <td>2002</td>\n",
       "      <td>November 12, 2019</td>\n",
       "      <td>74 min</td>\n",
       "      <td>Animation, Adventure, Comedy, Family, Musical</td>\n",
       "      <td>Jim Kammerud, Brian Smith</td>\n",
       "      <td>Barry Bostwick, Jason Alexander, Martin Short,...</td>\n",
       "      <td>English</td>\n",
       "      <td>...</td>\n",
       "      <td>NaN</td>\n",
       "      <td>NaN</td>\n",
       "      <td>NaN</td>\n",
       "      <td>NaN</td>\n",
       "      <td>NaN</td>\n",
       "      <td>NaN</td>\n",
       "      <td>NaN</td>\n",
       "      <td>NaN</td>\n",
       "      <td>NaN</td>\n",
       "      <td>NaN</td>\n",
       "    </tr>\n",
       "    <tr>\n",
       "      <th>4</th>\n",
       "      <td>102 Dalmatians</td>\n",
       "      <td>movie</td>\n",
       "      <td>G</td>\n",
       "      <td>2000</td>\n",
       "      <td>November 12, 2019</td>\n",
       "      <td>100 min</td>\n",
       "      <td>Adventure, Comedy, Family</td>\n",
       "      <td>Kevin Lima</td>\n",
       "      <td>Glenn Close, Gérard Depardieu, Ioan Gruffudd, ...</td>\n",
       "      <td>English</td>\n",
       "      <td>...</td>\n",
       "      <td>Kevin Lima</td>\n",
       "      <td>Adventure,Comedy,Family</td>\n",
       "      <td>United States,United Kingdom,France</td>\n",
       "      <td>English</td>\n",
       "      <td>100.0</td>\n",
       "      <td>NaN</td>\n",
       "      <td>NaN</td>\n",
       "      <td>NaN</td>\n",
       "      <td>NaN</td>\n",
       "      <td>NaN</td>\n",
       "    </tr>\n",
       "  </tbody>\n",
       "</table>\n",
       "<p>5 rows × 39 columns</p>\n",
       "</div>"
      ],
      "text/plain": [
       "                                        Title Type_x_x  Rated   Year  \\\n",
       "0                  10 Things I Hate About You    movie  PG-13   1999   \n",
       "1                        101 Dalmatian Street   series    NaN  2018–   \n",
       "2                              101 Dalmatians    movie      G   1996   \n",
       "3  101 Dalmatians 2: Patch's London Adventure    movie      G   2002   \n",
       "4                              102 Dalmatians    movie      G   2000   \n",
       "\n",
       "            Added_At Runtime_x                                          Genre  \\\n",
       "0  November 12, 2019    97 min                         Comedy, Drama, Romance   \n",
       "1  February 28, 2020       NaN                      Animation, Comedy, Family   \n",
       "2  November 12, 2019   103 min               Adventure, Comedy, Crime, Family   \n",
       "3  November 12, 2019    74 min  Animation, Adventure, Comedy, Family, Musical   \n",
       "4  November 12, 2019   100 min                      Adventure, Comedy, Family   \n",
       "\n",
       "                  Director_x  \\\n",
       "0                 Gil Junger   \n",
       "1                        NaN   \n",
       "2              Stephen Herek   \n",
       "3  Jim Kammerud, Brian Smith   \n",
       "4                 Kevin Lima   \n",
       "\n",
       "                                              Actors        Language_x  ...  \\\n",
       "0  Heath Ledger, Julia Stiles, Joseph Gordon-Levi...   English, French  ...   \n",
       "1  Josh Brener, Michaela Dietz, Bert Davis, Abiga...           English  ...   \n",
       "2  Glenn Close, Jeff Daniels, Joely Richardson, J...  English, Spanish  ...   \n",
       "3  Barry Bostwick, Jason Alexander, Martin Short,...           English  ...   \n",
       "4  Glenn Close, Gérard Depardieu, Ioan Gruffudd, ...           English  ...   \n",
       "\n",
       "    Directors                   Genres                              Country  \\\n",
       "0         NaN                      NaN                                  NaN   \n",
       "1         NaN                      NaN                                  NaN   \n",
       "2         NaN                      NaN                                  NaN   \n",
       "3         NaN                      NaN                                  NaN   \n",
       "4  Kevin Lima  Adventure,Comedy,Family  United States,United Kingdom,France   \n",
       "\n",
       "   Language_y Runtime_y  Year_y Age_y  Imdb_y Rotten Tomatoes_y Type_y_y  \n",
       "0         NaN       NaN  2009.0   16+  7.3/10            67/100      1.0  \n",
       "1         NaN       NaN  2019.0    7+  6.3/10            44/100      1.0  \n",
       "2         NaN       NaN  1997.0   NaN     NaN            21/100      1.0  \n",
       "3         NaN       NaN     NaN   NaN     NaN               NaN      NaN  \n",
       "4     English     100.0     NaN   NaN     NaN               NaN      NaN  \n",
       "\n",
       "[5 rows x 39 columns]"
      ]
     },
     "execution_count": 7,
     "metadata": {},
     "output_type": "execute_result"
    }
   ],
   "source": [
    "#merging all dfs\n",
    "merged_df_01 = pd.merge(df_list[0], df_list[1], on = 'Title', how = 'outer')\n",
    "merged_df_34 = pd.merge(df_list[2], df_list[3], on = 'Title', how = 'outer')\n",
    "merged_df = pd.merge(merged_df_01, merged_df_34, on = 'Title', how = 'outer')\n",
    "merged_df.head()"
   ]
  },
  {
   "cell_type": "code",
   "execution_count": 8,
   "id": "97993d0d",
   "metadata": {},
   "outputs": [],
   "source": [
    "#saving file for manual check\n",
    "merged_df.to_csv('Resources/raw_merge_df.csv')"
   ]
  },
  {
   "cell_type": "markdown",
   "id": "433ea1c5",
   "metadata": {},
   "source": [
    "# Cleaning DF"
   ]
  },
  {
   "cell_type": "code",
   "execution_count": 9,
   "id": "31b2a8da",
   "metadata": {},
   "outputs": [
    {
     "name": "stdout",
     "output_type": "stream",
     "text": [
      "Index(['Title', 'Type_x_x', 'Rated', 'Year', 'Added_At', 'Runtime_x', 'Genre',\n",
      "       'Director_x', 'Actors', 'Language_x', 'Country_x', 'Awards',\n",
      "       'Metascore', 'Imdb_Rating', 'Imdb_Votes', 'Type_y_x', 'Director_y',\n",
      "       'Cast', 'Country_y', 'Date_Added', 'Release_Year', 'Rating', 'Duration',\n",
      "       'Listed_In', 'Year_x', 'Age_x', 'Imdb_x', 'Rotten Tomatoes_x',\n",
      "       'Type_x_y', 'Directors', 'Genres', 'Country', 'Language_y', 'Runtime_y',\n",
      "       'Year_y', 'Age_y', 'Imdb_y', 'Rotten Tomatoes_y', 'Type_y_y'],\n",
      "      dtype='object')\n"
     ]
    }
   ],
   "source": [
    "#checking columns\n",
    "print(merged_df.columns)"
   ]
  },
  {
   "cell_type": "markdown",
   "id": "58f5ba2a",
   "metadata": {},
   "source": [
    "Columns to combine\n",
    "- Title', \n",
    "- Type_x_x', 'Type_y_x', Type_x_y, Type_y_y'\n",
    "- Year', 'Release_Year' 'Year_x', 'Year_y'\n",
    "- Rated', 'Rating'\n",
    "- Age_x', 'Age_y'\n",
    "- Added_At', 'Date_Added'\n",
    "- Runtime_x', 'Duration', Runtime_y'\n",
    "- Genre','Listed_In', 'Genres'\n",
    "- Director_x','Director_y', 'Directors'\n",
    "- Actors', 'Cast'\n",
    "- Language_x', 'Language_y\n",
    "- Country_x', 'Country_y', 'Country'\n",
    "- Awards',\n",
    "- Metascore',\n",
    "- Imdb_x', 'Imdb_y\n",
    "- Imdb_Rating',\n",
    "- Imdb_Votes',\n",
    "- Rotten Tomatoes_x', 'Rotten Tomatoes_y"
   ]
  },
  {
   "cell_type": "markdown",
   "id": "2fcade01",
   "metadata": {},
   "source": [
    "### Functions"
   ]
  },
  {
   "cell_type": "code",
   "execution_count": 10,
   "id": "40338f27",
   "metadata": {},
   "outputs": [],
   "source": [
    "#writing a function that cleanly combines 2 columns\n",
    "def combined_2_columns(df, anchor_column, anchor_column_new_name, collapse_column, dropped_list, drop):\n",
    "    '''\n",
    "    anchor_column is the column series that you want everything to be compared to \n",
    "    anchor_column_new_name is the new name of that column\n",
    "    collapse_column is the list of columns to combine\n",
    "    dropped_list is an empty list that will track which values have NaN, used for debugging\n",
    "    drop whether or not to drop the values\n",
    "    '''\n",
    "    # populate relevant column, and if no values then drop\n",
    "    for i in range(len(df[anchor_column])):\n",
    "        if (pd.isnull(df[anchor_column][i])):\n",
    "            if (pd.isnull(df[collapse_column][i])):\n",
    "                dropped_list.append(i)\n",
    "                if (drop == True):\n",
    "                    df = df.drop(i, axis = 0)\n",
    "            else:\n",
    "                df.loc[i, anchor_column] = df.loc[i, collapse_column]\n",
    "\n",
    "    # fixing columns\n",
    "    df.reset_index(inplace = True)\n",
    "    df.drop([collapse_column, 'index'], axis = 1, inplace = True)\n",
    "    df.rename(columns = {anchor_column : anchor_column_new_name}, inplace = True)\n",
    "    if (drop == True):\n",
    "        return print(f\"Cleaning {anchor_column_new_name}, dropped {len(dropped_list)}.\")\n",
    "    else:\n",
    "        return print(f\"Cleaning {anchor_column_new_name}, has {len(dropped_list)} NaN's.\")"
   ]
  },
  {
   "cell_type": "code",
   "execution_count": 11,
   "id": "96569a27",
   "metadata": {},
   "outputs": [],
   "source": [
    "#writing functions for 3 columns\n",
    "def combined_3_columns(df, anchor_column, anchor_column_new_name, collapse_column, dropped_list, drop):\n",
    "    '''\n",
    "    anchor_column is the column series that you want everything to be compared to \n",
    "    anchor_column_new_name is the new name of that column\n",
    "    collapse_column is the list of columns to combine\n",
    "    dropped_list is an empty list that will track which values have NaN, used for debugging\n",
    "    drop whether or not to drop the values\n",
    "    '''\n",
    "    # populate relevant column, and if no values then drop\n",
    "    for i in range(len(df[anchor_column])):\n",
    "        if (pd.isnull(df[anchor_column][i])):\n",
    "            if (pd.isnull(df[collapse_column[0]][i])):\n",
    "                if (pd.isnull(df[collapse_column[1]][i])):\n",
    "                    dropped_list.append(i)\n",
    "                    if (drop == True):\n",
    "                        df = df.drop(i, axis = 0)\n",
    "                else:\n",
    "                    df.loc[i, anchor_column] = df.loc[i, collapse_column[1]]\n",
    "            else:\n",
    "                df.loc[i, anchor_column] = df.loc[i, collapse_column[0]]\n",
    "\n",
    "    # fixing columns\n",
    "    df.reset_index(inplace = True)\n",
    "    collapse_column.append('index')\n",
    "    df.drop(collapse_column, axis = 1, inplace = True)\n",
    "    df.rename(columns = {anchor_column : anchor_column_new_name}, inplace = True)\n",
    "    if (drop == True):\n",
    "        return print(f\"Cleaning {anchor_column_new_name}, dropped {len(dropped_list)}.\")\n",
    "    else:\n",
    "        return print(f\"Cleaning {anchor_column_new_name}, has {len(dropped_list)} NaN's.\")"
   ]
  },
  {
   "cell_type": "code",
   "execution_count": 12,
   "id": "4d80815e",
   "metadata": {},
   "outputs": [],
   "source": [
    "#writing functions for 4 columns\n",
    "def combined_4_columns(df, anchor_column, anchor_column_new_name, collapse_column, dropped_list, drop):\n",
    "    '''\n",
    "    anchor_column is the column series that you want everything to be compared to \n",
    "    anchor_column_new_name is the new name of that column\n",
    "    collapse_column is the list of columns to combine\n",
    "    dropped_list is an empty list that will track which values have NaN, used for debugging\n",
    "    drop whether or not to drop the values\n",
    "    '''\n",
    "    # populate relevant column, and if no values then drop\n",
    "    for i in range(len(df[anchor_column])):\n",
    "        if (pd.isnull(df[anchor_column][i])):\n",
    "            if (pd.isnull(df[collapse_column[0]][i])):\n",
    "                if (pd.isnull(df[collapse_column[1]][i])):\n",
    "                    if (pd.isnull(df[collapse_column[2]][i])):\n",
    "                        dropped_list.append(i)\n",
    "                        if (drop == True):\n",
    "                            df = df.drop(i, axis = 0)\n",
    "                    else:\n",
    "                        df.loc[i, anchor_column] = df.loc[i, collapse_column[2]]\n",
    "                else:\n",
    "                    df.loc[i, anchor_column] = df.loc[i, collapse_column[1]]\n",
    "            else:\n",
    "                df.loc[i, anchor_column] = df.loc[i, collapse_column[0]]\n",
    "\n",
    "    # fixing columns\n",
    "    df.reset_index(inplace = True)\n",
    "    collapse_column.append('index')\n",
    "    df.drop(collapse_column, axis = 1, inplace = True)\n",
    "    df.rename(columns = {anchor_column : anchor_column_new_name}, inplace = True)\n",
    "    if (drop == True):\n",
    "        return print(f\"Cleaning {anchor_column_new_name}, dropped {len(dropped_list)}.\")\n",
    "    else:\n",
    "        return print(f\"Cleaning {anchor_column_new_name}, has {len(dropped_list)} NaN's.\")"
   ]
  },
  {
   "cell_type": "markdown",
   "id": "bdc1b910",
   "metadata": {},
   "source": [
    "### Condensing 2-Columns"
   ]
  },
  {
   "cell_type": "code",
   "execution_count": 13,
   "id": "bf0521ef",
   "metadata": {},
   "outputs": [],
   "source": [
    "#variables for for loop\n",
    "anchor_ls = ['Age_x', 'Rated', 'Added_At', 'Rotten Tomatoes_x', 'Actors', 'Language_x']\n",
    "anchor_name_ls = ['Age Advisory Rating', 'Advisory Rating', 'Available to Public on', 'Rotten Tomatoes Score', 'Cast', 'Available Languages']\n",
    "column_ls = ['Age_y', 'Rating', 'Date_Added', 'Rotten Tomatoes_y', 'Cast', 'Language_y']\n",
    "boolean_ls = [False, False, False, False, False, False]"
   ]
  },
  {
   "cell_type": "code",
   "execution_count": 14,
   "id": "5a0bd095",
   "metadata": {},
   "outputs": [
    {
     "name": "stdout",
     "output_type": "stream",
     "text": [
      "Cleaning Age Advisory Rating, has 873 NaN's.\n",
      "Cleaning Advisory Rating, has 316 NaN's.\n",
      "Cleaning Available to Public on, has 168 NaN's.\n",
      "Cleaning Rotten Tomatoes Score, has 586 NaN's.\n",
      "Cleaning Cast, has 387 NaN's.\n",
      "Cleaning Available Languages, has 705 NaN's.\n"
     ]
    }
   ],
   "source": [
    "#Age, Rating, Date Added, Rotten, IMDB, Cast, Languages\n",
    "for i in range(len(anchor_ls)):\n",
    "    dropped_list = [] #reseting for every df\n",
    "    combined_2_columns(merged_df, anchor_ls[i], anchor_name_ls[i], column_ls[i], dropped_list, boolean_ls[i])"
   ]
  },
  {
   "cell_type": "code",
   "execution_count": 15,
   "id": "e3f54d72",
   "metadata": {
    "scrolled": true
   },
   "outputs": [
    {
     "name": "stdout",
     "output_type": "stream",
     "text": [
      "Index(['Title', 'Type_x_x', 'Advisory Rating', 'Year',\n",
      "       'Available to Public on', 'Runtime_x', 'Genre', 'Director_x', 'Cast',\n",
      "       'Available Languages', 'Country_x', 'Awards', 'Metascore',\n",
      "       'Imdb_Rating', 'Imdb_Votes', 'Type_y_x', 'Director_y', 'Country_y',\n",
      "       'Release_Year', 'Duration', 'Listed_In', 'Year_x',\n",
      "       'Age Advisory Rating', 'Imdb_x', 'Rotten Tomatoes Score', 'Type_x_y',\n",
      "       'Directors', 'Genres', 'Country', 'Runtime_y', 'Year_y', 'Imdb_y',\n",
      "       'Type_y_y'],\n",
      "      dtype='object')\n"
     ]
    }
   ],
   "source": [
    "print(merged_df.columns)"
   ]
  },
  {
   "cell_type": "markdown",
   "id": "eeed0f84",
   "metadata": {},
   "source": [
    "### Condensing 3-Columns"
   ]
  },
  {
   "cell_type": "code",
   "execution_count": 16,
   "id": "a64fc593",
   "metadata": {},
   "outputs": [],
   "source": [
    "#variables for for loop\n",
    "anchor_ls = ['Runtime_x', 'Genre', 'Director_x', 'Country_x', 'Imdb_Rating']\n",
    "anchor_name_ls = ['Offering Duration', 'Genre', 'Director', 'Country', 'IMDB Score']\n",
    "column_ls = [['Duration', 'Runtime_y'], ['Listed_In', 'Genres'], ['Director_y', 'Directors'], ['Country_y', 'Country'], ['Imdb_x', 'Imdb_y']]\n",
    "boolean_ls = [False, True, False, False, False]"
   ]
  },
  {
   "cell_type": "code",
   "execution_count": 17,
   "id": "8bc2b260",
   "metadata": {},
   "outputs": [
    {
     "name": "stdout",
     "output_type": "stream",
     "text": [
      "Cleaning Offering Duration, has 189 NaN's.\n",
      "Cleaning Genre, dropped 169.\n",
      "Cleaning Director, has 678 NaN's.\n",
      "Cleaning Country, has 329 NaN's.\n",
      "Cleaning IMDB Score, has 529 NaN's.\n"
     ]
    }
   ],
   "source": [
    "#Runtime, Genre, Director, Country\n",
    "for i in range(len(anchor_ls)):\n",
    "    dropped_list = [] #reseting for every df\n",
    "    combined_3_columns(merged_df, anchor_ls[i], anchor_name_ls[i], column_ls[i], dropped_list, boolean_ls[i])"
   ]
  },
  {
   "cell_type": "code",
   "execution_count": 18,
   "id": "40ffe0c3",
   "metadata": {
    "scrolled": true
   },
   "outputs": [
    {
     "name": "stdout",
     "output_type": "stream",
     "text": [
      "Index(['Title', 'Type_x_x', 'Advisory Rating', 'Year',\n",
      "       'Available to Public on', 'Offering Duration', 'Genre', 'Director',\n",
      "       'Cast', 'Available Languages', 'Country', 'Awards', 'Metascore',\n",
      "       'IMDB Score', 'Imdb_Votes', 'Type_y_x', 'Release_Year', 'Listed_In',\n",
      "       'Year_x', 'Age Advisory Rating', 'Rotten Tomatoes Score', 'Type_x_y',\n",
      "       'Genres', 'Year_y', 'Type_y_y'],\n",
      "      dtype='object')\n"
     ]
    }
   ],
   "source": [
    "print(merged_df.columns)"
   ]
  },
  {
   "cell_type": "markdown",
   "id": "a2368a4b",
   "metadata": {},
   "source": [
    "### Condensing 4-Columns"
   ]
  },
  {
   "cell_type": "code",
   "execution_count": 19,
   "id": "a1508194",
   "metadata": {},
   "outputs": [
    {
     "name": "stdout",
     "output_type": "stream",
     "text": [
      "Unique categorical values are ['movie' 'series' nan 'episode' 'Movie' 'TV Show' 0.0 1.0]\n"
     ]
    }
   ],
   "source": [
    "#finding unique categorical values for Type\n",
    "print(f\"Unique categorical values are {merged_df['Type_x_x'].append(merged_df['Type_y_x']).append(merged_df['Type_x_y']).append(merged_df['Type_y_y']).unique()}\")\n",
    "\n",
    "#standardizing values\n",
    "merged_df['Type_x_y'].replace(0, 'Movie', inplace = True)\n",
    "merged_df['Type_y_y'].replace(1, 'TV Show', inplace = True)\n",
    "merged_df['Type_x_x'].replace(['Series', 'Episode'], ['TV Show','TV Show'], inplace = True)"
   ]
  },
  {
   "cell_type": "code",
   "execution_count": 20,
   "id": "ad89085b",
   "metadata": {
    "scrolled": true
   },
   "outputs": [],
   "source": [
    "#variables for for loop\n",
    "anchor_ls = ['Type_x_x', 'Year']\n",
    "anchor_name_ls = ['Offering Type', 'Year Released']\n",
    "column_ls = [['Type_y_x', 'Type_x_y', 'Type_y_y'], ['Release_Year', 'Year_x', 'Year_y']]\n",
    "boolean_ls = [True, False]"
   ]
  },
  {
   "cell_type": "code",
   "execution_count": 21,
   "id": "b796493a",
   "metadata": {},
   "outputs": [
    {
     "name": "stdout",
     "output_type": "stream",
     "text": [
      "Cleaning Offering Type, dropped 98.\n",
      "Cleaning Year Released, has 98 NaN's.\n"
     ]
    }
   ],
   "source": [
    "#Type and Release Year\n",
    "for i in range(len(anchor_ls)):\n",
    "    dropped_list = [] #reseting for every df\n",
    "    combined_4_columns(merged_df, anchor_ls[i], anchor_name_ls[i], column_ls[i], dropped_list, boolean_ls[i])"
   ]
  },
  {
   "cell_type": "code",
   "execution_count": 22,
   "id": "c3aa1392",
   "metadata": {},
   "outputs": [
    {
     "name": "stdout",
     "output_type": "stream",
     "text": [
      "Index(['Title', 'Type_x_x', 'Advisory Rating', 'Year Released',\n",
      "       'Available to Public on', 'Offering Duration', 'Genre', 'Director',\n",
      "       'Cast', 'Available Languages', 'Country', 'Awards', 'Metascore',\n",
      "       'IMDB Score', 'Imdb_Votes', 'Type_y_x', 'Listed_In',\n",
      "       'Age Advisory Rating', 'Rotten Tomatoes Score', 'Type_x_y', 'Genres',\n",
      "       'Type_y_y'],\n",
      "      dtype='object')\n"
     ]
    }
   ],
   "source": [
    "print(merged_df.columns)"
   ]
  },
  {
   "cell_type": "markdown",
   "id": "72233d10",
   "metadata": {},
   "source": [
    "### Post Cleaning"
   ]
  },
  {
   "cell_type": "code",
   "execution_count": null,
   "id": "c1cfb600",
   "metadata": {},
   "outputs": [],
   "source": [
    "#after manually reviewing file, still some cleaning to do\n",
    "#manual adjustment\n",
    "merged_df.drop(['Type_y_x', 'Listed_In', 'Type_x_y', 'Genres', 'Type_y_y'], axis = 1, inplace = True)\n",
    "merged_df.rename(columns = {'Type_x_x' : 'Offering Medium', 'Imdb_Votes' : 'IMDB Votes'}, inplace = True)"
   ]
  },
  {
   "cell_type": "code",
   "execution_count": null,
   "id": "7a6ff4b4",
   "metadata": {},
   "outputs": [],
   "source": [
    "#dropping the NaNs that didn't get picked up\n",
    "for i in range(len(merged_df['Title'])):\n",
    "    if (pd.isnull(merged_df.loc[i, 'Title']) | pd.isnull(merged_df.loc[i, 'Genre'])):\n",
    "        merged_df.drop(i, axis = 0, inplace = True)"
   ]
  },
  {
   "cell_type": "code",
   "execution_count": 44,
   "id": "176fc1d2",
   "metadata": {},
   "outputs": [
    {
     "data": {
      "text/plain": [
       "array(['1999', '2018–', '1996', '2002', '2000', '2011', '1954', '1998',\n",
       "       '2020', '1995', '1995', '1946', '2002', '1977', '2018', '2019',\n",
       "       '1992', '1996', '1994', '1951', '2010', '2005', '1949', '2000',\n",
       "       '1962', '1989–', '2004', '2015–', '1981', '2000', '2017–2019',\n",
       "       '1999', '2019', '2004', '2017', '2003', '2001', '2018',\n",
       "       '2011–2016', '2009', '1932', '1961', '1942', '2006', '2018',\n",
       "       '1939', '1955', '1991', '1998', '1997', '2005', '1971', '2008',\n",
       "       '1955', '2016', '1987', '2015–2016', '1988', '2018–', '2014',\n",
       "       '2017–', '2009', '1968', '1994', '2018–', '1938', '2008',\n",
       "       '1993–1994', '2003', '1993–2000', '2011–', '2012', '1997', '2017',\n",
       "       '1998', '2003', '2006', '2005', '2018–', '2008', '2002', '1994',\n",
       "       '2008', '2010', '1999', '1977', '1941', '2006', '2011', '2017',\n",
       "       '2008', '2010', '2008', '2013', '2012', '2008', '2009', '2013',\n",
       "       '1986', '2003', '1989', '1941', '2005', '1988–1990', '1947',\n",
       "       '1950', '2001', '2007', '1937', '2014', '2017', '2008', '2004',\n",
       "       '2016', '1993', '2018–', '1951', '2006', '2012–2014', '2009',\n",
       "       '1959', '1991–1992', '1956', '1955', '2010', '2017', '2003',\n",
       "       '2017', '2019', '2003', '2017', '2020–', '2010', '2000', '2016',\n",
       "       '2019–', '2010', '2015', '2017–', '2016–2019', '2010', '2015',\n",
       "       '2015–', '2014–', '2019–', '2018–', '2019', '2012', '2012–2016',\n",
       "       '2014–2015', '2020–', '2011–2016', '2009–2010', '2015–2018',\n",
       "       '2016–2019', '2018–', '2006–2016', '2016–', '2011–2016', '2014',\n",
       "       '2012–2015', '2017–', '2015–2019', '2016–2018', '2019–', '2010–',\n",
       "       '2016–', '2018', '2017–', '1985–1991', '1996–1999', '1987–1990',\n",
       "       '2017–', '1998–1999', '1997', '2002–2007', '2019', '2005–2009',\n",
       "       '1996–1997', '1997–2001', '2006–2008', '2000', '1992–1994', '1989',\n",
       "       '1966', '2011', '2014', '2016', '2012', '2008', '2015', '2019',\n",
       "       '2011', '2020', '2012–', '1998', '2001', '2004–2016', '2019–',\n",
       "       '2020', '1953', '1999', '1940', '1938', '1943', '1946', '2002',\n",
       "       '1999', '2014–', '2019–', '1954', '2017', '2014', '2011', '2016',\n",
       "       '2018–', '2015', '1990', '2009', '2019', '2017', '2009', '2003',\n",
       "       '2006', '2016–', '2020', '1936', '1964', '2004', '2019–', '1975',\n",
       "       '2000–2003', '2016', '2017–', '1940', '1999', '1994–1996',\n",
       "       '2006–2010', '1938', '2016', '2003', '1996', '2010–2014', '1986',\n",
       "       '2019', '1932', '1997', '2000', '2020', '2020', '1995', '2012',\n",
       "       '1984', '1976', '2003', '2018', '2018', '2012', '2013', '2019',\n",
       "       '2003', '1947', '1986', '2009', '1994–1996', '2011', '1999',\n",
       "       '1997', '2003', '1997', '2002', '2014–2017', '2006', '2005',\n",
       "       '2004', '2010–2014', '2011', '1992–1993', '2019–', '2002', '1934',\n",
       "       '2010–', '1961', '1976', '1971', '1998', '2004', '2001',\n",
       "       '2006–2013', '2006–2011', '2008', '2009', '2009', '1937', '1995',\n",
       "       '2013–', '1980', '1977', '1974', '2005', '2006', '2007', '2008',\n",
       "       '2019–', '2019', '1993', '2003', '1997', '2004', '1996', '1993',\n",
       "       '1992', '1989', '1997', '1999', '2019–', '2001', '2016', '2014',\n",
       "       '1942', '1942', '1944', '1942', '2013–2015', '1998', '2002',\n",
       "       '2016', '2005', '2008–', '2020', '2015', '2015', '1999', '2003',\n",
       "       '2019', '2018', '2006', '2015', '1994–1996', '2008', '2008–2012',\n",
       "       '1994', '1996', '2005', '1996', '2017', '2011–2015', '2013',\n",
       "       '2012', '2007', '1999', '2009', '2008–', '1959', '2007', '2001',\n",
       "       '1997', '1960', '1972', '1996', '2011–2015', '2005', '2009',\n",
       "       '2019', '2019', '2005', '2011', '2012–2016', '2019', '1955',\n",
       "       '2001', '1952', '2020', '2016–', '2018–', '2015', '2016', '2016–',\n",
       "       '2014', '2014', '2014', '2013–', '2011', '1941', '2006', '2012',\n",
       "       '1952', '2013–', '2005', '1993', '2018', '2006', '2002',\n",
       "       '2003–2006', '2005', '2001–2004', '2003', '1937', '2020', '2019–',\n",
       "       '2018–', '2017', '2001', '2020', '1937', '2017', '2011', '2018',\n",
       "       '2014', '1994–1998', '1996–1998', '1992–1997', '2019', '2019',\n",
       "       '2019', '2018', '2019', '2019', '2018', '2014', '2015', '2017',\n",
       "       '2015', '2019', '2018', '2016', '2011', '2014', '2019', '2016',\n",
       "       '2014', '2015–', '2017', '2010', '2013', '2012', '2011', '2017',\n",
       "       '2013', '2017–', '2012–2017', '2015–2016', '2013–', '2017–',\n",
       "       '2019–', '2017', '2013', '2017–', '2017–2019', '2017–',\n",
       "       '1981–1982', '1964', '2006', '1998', '2007', '1948', '2013–',\n",
       "       '1955–1958', '2017–', '2004', '1942', '1983', '1999', '1936',\n",
       "       '1938', '2004', '1998', '2002', '2015–', '2004', '2008', '2004',\n",
       "       '1998', '2000', '2014', '1947', '2018', '2016', '2000', '2013',\n",
       "       '2001', '2001', '1986', '1940', '1940', '1998', '2004', '2018–',\n",
       "       '2015–', '1996', '2014', '1969', '1999', '2007–2010', '2004',\n",
       "       '2007', '1951', '1992', '2017', '2019', '2005', '2017', '2009',\n",
       "       '1957', '1988', '1935', '2005', '2019–', '1961', '1985', '2005',\n",
       "       '2018–', '2020', '1995', '2017–', '1951', '1998–2004', '2019–',\n",
       "       '2009', '2014', '2020', '1957', '1977', '2016', '1953', '2002',\n",
       "       '2000', '2004–2006', '2007–2015', '2011', '2013', '2019–', '2003',\n",
       "       '1940', '2016', '2007', '2006', '2011', '2003', '2019–', '2004',\n",
       "       '2015–', '1952', '1952', '1948', '1995', '1998', '1960', '1997',\n",
       "       '2005', '2008', '2016–', '2009', '2011', '1953', '2017–', '2018',\n",
       "       '1996–1997', '2016', '2000', '2007', '2006', '2000', '2003',\n",
       "       '2001', '2003', '2012', '1987', '2000', '1978', '2006', '1985',\n",
       "       '1998', '2003', '2000', '1973', '2018', '2016', '1993', '2006',\n",
       "       '1998', '2014–', '2004', '1942', '1962', '2015', '2012', '1932',\n",
       "       '2013', '2018', '2017', '1939', '2012', '2010', '2017', '1956',\n",
       "       '2010', '2018–', '2010–2013', '2011', '2014–', '1990', '1998',\n",
       "       '2007', '1992', '1993', '2009', '1959', '1997–1999', '1999',\n",
       "       '2019', '2002', '1937', '1972', '2007', '1999–2001', '1939',\n",
       "       '2009–2011', '2016–', '1981–1986', '1999–2005', '1979–1980',\n",
       "       '1984', '2017–', '2014–2018', '2018–', '1977', '2002', '2017',\n",
       "       '1983', '2005', '2008–2020', '2008', '1980', '2015', '2017',\n",
       "       '1999', '2020', '2010', '1928', '2000', '2003', '2008', '2004',\n",
       "       '1980', '2013', '2009', '2014–', '1940', '1960', '1990–1991',\n",
       "       '1995', '2010', '2017', '2017–2020', '2002', '2004', '2000–2005',\n",
       "       '2015', '2013', '2011', '1997', '1965', '2003–2007', '1961',\n",
       "       '1967', '1993', '1949', '1955–', '1955', '1975', '1979', '1970',\n",
       "       '1941', '2010–2012', '1999–2000', '1935', '1974', '2016', '1934',\n",
       "       '1972', '1985', '1979', '2013', '2001–2004', '1975', '1998',\n",
       "       '1974', '1978', '2003', '2006', '2008', '1986', '2008', '2005',\n",
       "       '2000', '1969', '2002', '2000', '2003', '2016', '2018', '1981',\n",
       "       '2006', '2007', '1980', '1934', '1935', '2015', '1986', '1981',\n",
       "       '2005', '2003', '1939', '1996', '2002', '2019–', '2011–', '2016',\n",
       "       '1963', '2004', '1985', '1967', '2003', '1998', '2010', '2012',\n",
       "       '2019', '1994', '2004', '1998', '2000', '2008', '1953', '2016–',\n",
       "       '2019', '1968', '2019–', '1977', '1971', '2012', '1992', '1979',\n",
       "       '2011', '2015–2016', '1988–1991', '1953', '2012', '1937', '1942',\n",
       "       '1952', '2000', '1961', '1998', '1933', '1956', '2001', '1962',\n",
       "       '1990', '2009', '1987', '2001', '2004', '2001–2005', '2005',\n",
       "       '1941', '2006–2009', '1977', '1990', '1991', '2002', '2007',\n",
       "       '1994', '2002', '2006', '2002', '2007', '1976', '1959', '1958',\n",
       "       '1989–', '1978', '1965', '1952', '1999', '1975', '2011',\n",
       "       '2005–2008', '2008–2011', '2009–2011', '2016', '1963', '1999',\n",
       "       '1944', '1993', '2000', '1935', '1966', '1939', '2000', '1954',\n",
       "       '2006', '1934', '2013', '2019', '2019–', '2003', '1965', '2001',\n",
       "       '1933', '1987', '1990', '1994', '2004', '1993', '2020',\n",
       "       '1995–1999', '1988', '2008', '2010', '2009', '2017', '1936',\n",
       "       '2019', '1995', '1995', '1999', '2010', '2019', '2011', '2011',\n",
       "       '2009', '1950', '1950', '1976', '2002', '1982', '2012–2013',\n",
       "       '2010', '2002', '2002', '1940', '1989', '2018', '2001', '2005',\n",
       "       '2007', '1979', '2012–', '2009', '2000', '2005', '2019', '2012–',\n",
       "       '2009', '2008', '1952', '2006', '2000', '1991', '1988', '2012–',\n",
       "       '1988', '2019', '2012', '2011', '2002', '2003', '1949',\n",
       "       '2007–2012', '2009', '2008–2009', '2012', '2000–2003', '2017',\n",
       "       '1963', '1998', '2003', '2007', '2018', '2014', '1999', '2001',\n",
       "       '2004', '2016'], dtype=object)"
      ]
     },
     "execution_count": 44,
     "metadata": {},
     "output_type": "execute_result"
    }
   ],
   "source": [
    "merged_df['Year Released'].values"
   ]
  },
  {
   "cell_type": "code",
   "execution_count": 32,
   "id": "cdf7b4f1",
   "metadata": {},
   "outputs": [
    {
     "data": {
      "text/plain": [
       "0       1999\n",
       "1      2018–\n",
       "2       1996\n",
       "3       2002\n",
       "4       2000\n",
       "       ...  \n",
       "987     2014\n",
       "988     1999\n",
       "989     2001\n",
       "990     2004\n",
       "991     2016\n",
       "Name: Year Released, Length: 885, dtype: object"
      ]
     },
     "execution_count": 32,
     "metadata": {},
     "output_type": "execute_result"
    }
   ],
   "source": [
    "merged_df['Year Released'].replace('–', '')"
   ]
  },
  {
   "cell_type": "code",
   "execution_count": null,
   "id": "91952127",
   "metadata": {},
   "outputs": [],
   "source": [
    "#saving file for manual check\n",
    "merged_df.to_csv('clean_merge_df.csv')"
   ]
  },
  {
   "cell_type": "markdown",
   "id": "08d97670",
   "metadata": {},
   "source": [
    "# Summary Statistics\n",
    "- total # offerings\n",
    "- breadth of offering? # of subcategories etc.\n",
    "- min/max/mean of duration of\n",
    "- seasons\n",
    "- then per episode\n",
    "- min/max/mean of ... \n",
    "- customer rating\n",
    "- critical reception"
   ]
  },
  {
   "cell_type": "code",
   "execution_count": null,
   "id": "f8e58218",
   "metadata": {},
   "outputs": [],
   "source": []
  },
  {
   "cell_type": "markdown",
   "id": "2ba6ccd5",
   "metadata": {},
   "source": [
    "# BY SUBCATEGORY ()\n",
    "- total # offerings\n",
    "- breadth of offering? # of subcategories etc.\n",
    "- min/max/mean of duration of\n",
    "- seasons\n",
    "- then per episode\n",
    "- min/max/mean of ... \n",
    "- customer rating\n",
    "- critical reception"
   ]
  },
  {
   "cell_type": "code",
   "execution_count": null,
   "id": "29dbd9ce",
   "metadata": {},
   "outputs": [],
   "source": []
  }
 ],
 "metadata": {
  "kernelspec": {
   "display_name": "Python [conda env:PythonData] *",
   "language": "python",
   "name": "conda-env-PythonData-py"
  },
  "language_info": {
   "codemirror_mode": {
    "name": "ipython",
    "version": 3
   },
   "file_extension": ".py",
   "mimetype": "text/x-python",
   "name": "python",
   "nbconvert_exporter": "python",
   "pygments_lexer": "ipython3",
   "version": "3.8.12"
  }
 },
 "nbformat": 4,
 "nbformat_minor": 5
}
