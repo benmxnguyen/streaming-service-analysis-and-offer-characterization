{
 "cells": [
  {
   "cell_type": "markdown",
   "id": "6f70341b",
   "metadata": {},
   "source": [
    "# Setup"
   ]
  },
  {
   "cell_type": "code",
   "execution_count": 1,
   "id": "89853085",
   "metadata": {},
   "outputs": [],
   "source": [
    "#dependecies\n",
    "import matplotlib.pyplot as plt\n",
    "import pandas as pd\n",
    "import numpy as np\n",
    "import scipy.stats as sts\n",
    "\n",
    "#links for project\n",
    "# Brainstorming: https://docs.google.com/document/d/12Z4DCdVAte6-cMMAv_EZIdZdDpvUzxOuDvNcNFio4PM/edit"
   ]
  },
  {
   "cell_type": "markdown",
   "id": "0baab99f",
   "metadata": {},
   "source": [
    "# Importing/Merging DFs"
   ]
  },
  {
   "cell_type": "code",
   "execution_count": 2,
   "id": "208e73d4",
   "metadata": {},
   "outputs": [],
   "source": [
    "#variables for forloop\n",
    "import_filenames = ['disney_plus_content_1.csv', 'disney_plus_content_2.csv', 'movies_per_streaming.csv', 'shows_per_streaming.csv']\n",
    "\n",
    "#variable to store all df data\n",
    "df_list = []\n",
    "\n",
    "#importing data\n",
    "for path in import_filenames:\n",
    "    df_list.append(pd.read_csv(f\"Resources/{path}\"))"
   ]
  },
  {
   "cell_type": "markdown",
   "id": "82fbd43a",
   "metadata": {},
   "source": [
    "We did a manual review of all the columns in our 10+ datasets and decided which columns to keep:\n",
    "\n",
    "- Netflix\n",
    "- Disney\n",
    "- Hulu\n",
    "------\n",
    "- Title\n",
    "- Type (movie vs show)\n",
    "- Genre\n",
    "- Rated (PG13)\n",
    "- Starring/Cast\n",
    "- Directors\n",
    "- Year relased\n",
    "- Age\n",
    "- Awards\n",
    "- Language\n",
    "- Country\n",
    "- Date_Added\n",
    "- Release_Year\n",
    "- Rotten Tomatoes\n",
    "- IMDb\n",
    "- Imdb_Rating\n",
    "- Imdb_Votes\n",
    "- Metascore\n",
    "- Box Office\n",
    "- Budget\n",
    "- Running Time"
   ]
  },
  {
   "cell_type": "markdown",
   "id": "58535d93",
   "metadata": {},
   "source": [
    "### Precleaning"
   ]
  },
  {
   "cell_type": "code",
   "execution_count": 3,
   "id": "f1192188",
   "metadata": {},
   "outputs": [],
   "source": [
    "#defining function for dropping columns\n",
    "def dropper(df, drop_columns):\n",
    "    df = df.drop(drop_columns, axis = 1)\n",
    "    return df"
   ]
  },
  {
   "cell_type": "code",
   "execution_count": 4,
   "id": "147e3e58",
   "metadata": {},
   "outputs": [],
   "source": [
    "#variable for loop\n",
    "df_column_list = [\n",
    "    ['Imdb_Id', 'Plot', 'Released_At', 'Writer'],\n",
    "    ['Show_Id', 'Description'],\n",
    "    ['Unnamed: 0', 'Id', 'Netflix', 'Hulu', 'Prime Video'],\n",
    "    ['Unnamed: 0', 'Id', 'Netflix', 'Hulu', 'Prime Video']\n",
    "]"
   ]
  },
  {
   "cell_type": "code",
   "execution_count": 5,
   "id": "634b8458",
   "metadata": {},
   "outputs": [],
   "source": [
    "#capitalizing and then dropping unnecessary columns\n",
    "for i in range(len(df_list)):\n",
    "    df_list[i].columns = map(str.title, df_list[i].columns)\n",
    "    df_list[i] = dropper(df_list[i], df_column_list[i])"
   ]
  },
  {
   "cell_type": "code",
   "execution_count": 6,
   "id": "3d26d79f",
   "metadata": {},
   "outputs": [],
   "source": [
    "#manually slicing of df2,3\n",
    "for i in range(2,4):\n",
    "    df_list[i] = df_list[i].loc[df_list[i]['Disney+'] == 1]\n",
    "    df_list[i] = dropper(df_list[i], ['Disney+'])"
   ]
  },
  {
   "cell_type": "markdown",
   "id": "3041db4a",
   "metadata": {},
   "source": [
    "### Merging DFs"
   ]
  },
  {
   "cell_type": "code",
   "execution_count": 7,
   "id": "5a4036f6",
   "metadata": {
    "scrolled": true
   },
   "outputs": [
    {
     "data": {
      "text/html": [
       "<div>\n",
       "<style scoped>\n",
       "    .dataframe tbody tr th:only-of-type {\n",
       "        vertical-align: middle;\n",
       "    }\n",
       "\n",
       "    .dataframe tbody tr th {\n",
       "        vertical-align: top;\n",
       "    }\n",
       "\n",
       "    .dataframe thead th {\n",
       "        text-align: right;\n",
       "    }\n",
       "</style>\n",
       "<table border=\"1\" class=\"dataframe\">\n",
       "  <thead>\n",
       "    <tr style=\"text-align: right;\">\n",
       "      <th></th>\n",
       "      <th>Title</th>\n",
       "      <th>Type_x_x</th>\n",
       "      <th>Rated</th>\n",
       "      <th>Year</th>\n",
       "      <th>Added_At</th>\n",
       "      <th>Runtime_x</th>\n",
       "      <th>Genre</th>\n",
       "      <th>Director_x</th>\n",
       "      <th>Actors</th>\n",
       "      <th>Language_x</th>\n",
       "      <th>...</th>\n",
       "      <th>Directors</th>\n",
       "      <th>Genres</th>\n",
       "      <th>Country</th>\n",
       "      <th>Language_y</th>\n",
       "      <th>Runtime_y</th>\n",
       "      <th>Year_y</th>\n",
       "      <th>Age_y</th>\n",
       "      <th>Imdb_y</th>\n",
       "      <th>Rotten Tomatoes_y</th>\n",
       "      <th>Type_y_y</th>\n",
       "    </tr>\n",
       "  </thead>\n",
       "  <tbody>\n",
       "    <tr>\n",
       "      <th>0</th>\n",
       "      <td>10 Things I Hate About You</td>\n",
       "      <td>movie</td>\n",
       "      <td>PG-13</td>\n",
       "      <td>1999</td>\n",
       "      <td>November 12, 2019</td>\n",
       "      <td>97 min</td>\n",
       "      <td>Comedy, Drama, Romance</td>\n",
       "      <td>Gil Junger</td>\n",
       "      <td>Heath Ledger, Julia Stiles, Joseph Gordon-Levi...</td>\n",
       "      <td>English, French</td>\n",
       "      <td>...</td>\n",
       "      <td>NaN</td>\n",
       "      <td>NaN</td>\n",
       "      <td>NaN</td>\n",
       "      <td>NaN</td>\n",
       "      <td>NaN</td>\n",
       "      <td>2009.0</td>\n",
       "      <td>16+</td>\n",
       "      <td>7.3/10</td>\n",
       "      <td>67/100</td>\n",
       "      <td>1.0</td>\n",
       "    </tr>\n",
       "    <tr>\n",
       "      <th>1</th>\n",
       "      <td>101 Dalmatian Street</td>\n",
       "      <td>series</td>\n",
       "      <td>NaN</td>\n",
       "      <td>2018–</td>\n",
       "      <td>February 28, 2020</td>\n",
       "      <td>NaN</td>\n",
       "      <td>Animation, Comedy, Family</td>\n",
       "      <td>NaN</td>\n",
       "      <td>Josh Brener, Michaela Dietz, Bert Davis, Abiga...</td>\n",
       "      <td>English</td>\n",
       "      <td>...</td>\n",
       "      <td>NaN</td>\n",
       "      <td>NaN</td>\n",
       "      <td>NaN</td>\n",
       "      <td>NaN</td>\n",
       "      <td>NaN</td>\n",
       "      <td>2019.0</td>\n",
       "      <td>7+</td>\n",
       "      <td>6.3/10</td>\n",
       "      <td>44/100</td>\n",
       "      <td>1.0</td>\n",
       "    </tr>\n",
       "    <tr>\n",
       "      <th>2</th>\n",
       "      <td>101 Dalmatians</td>\n",
       "      <td>movie</td>\n",
       "      <td>G</td>\n",
       "      <td>1996</td>\n",
       "      <td>November 12, 2019</td>\n",
       "      <td>103 min</td>\n",
       "      <td>Adventure, Comedy, Crime, Family</td>\n",
       "      <td>Stephen Herek</td>\n",
       "      <td>Glenn Close, Jeff Daniels, Joely Richardson, J...</td>\n",
       "      <td>English, Spanish</td>\n",
       "      <td>...</td>\n",
       "      <td>NaN</td>\n",
       "      <td>NaN</td>\n",
       "      <td>NaN</td>\n",
       "      <td>NaN</td>\n",
       "      <td>NaN</td>\n",
       "      <td>1997.0</td>\n",
       "      <td>NaN</td>\n",
       "      <td>NaN</td>\n",
       "      <td>21/100</td>\n",
       "      <td>1.0</td>\n",
       "    </tr>\n",
       "    <tr>\n",
       "      <th>3</th>\n",
       "      <td>101 Dalmatians 2: Patch's London Adventure</td>\n",
       "      <td>movie</td>\n",
       "      <td>G</td>\n",
       "      <td>2002</td>\n",
       "      <td>November 12, 2019</td>\n",
       "      <td>74 min</td>\n",
       "      <td>Animation, Adventure, Comedy, Family, Musical</td>\n",
       "      <td>Jim Kammerud, Brian Smith</td>\n",
       "      <td>Barry Bostwick, Jason Alexander, Martin Short,...</td>\n",
       "      <td>English</td>\n",
       "      <td>...</td>\n",
       "      <td>NaN</td>\n",
       "      <td>NaN</td>\n",
       "      <td>NaN</td>\n",
       "      <td>NaN</td>\n",
       "      <td>NaN</td>\n",
       "      <td>NaN</td>\n",
       "      <td>NaN</td>\n",
       "      <td>NaN</td>\n",
       "      <td>NaN</td>\n",
       "      <td>NaN</td>\n",
       "    </tr>\n",
       "    <tr>\n",
       "      <th>4</th>\n",
       "      <td>102 Dalmatians</td>\n",
       "      <td>movie</td>\n",
       "      <td>G</td>\n",
       "      <td>2000</td>\n",
       "      <td>November 12, 2019</td>\n",
       "      <td>100 min</td>\n",
       "      <td>Adventure, Comedy, Family</td>\n",
       "      <td>Kevin Lima</td>\n",
       "      <td>Glenn Close, Gérard Depardieu, Ioan Gruffudd, ...</td>\n",
       "      <td>English</td>\n",
       "      <td>...</td>\n",
       "      <td>Kevin Lima</td>\n",
       "      <td>Adventure,Comedy,Family</td>\n",
       "      <td>United States,United Kingdom,France</td>\n",
       "      <td>English</td>\n",
       "      <td>100.0</td>\n",
       "      <td>NaN</td>\n",
       "      <td>NaN</td>\n",
       "      <td>NaN</td>\n",
       "      <td>NaN</td>\n",
       "      <td>NaN</td>\n",
       "    </tr>\n",
       "  </tbody>\n",
       "</table>\n",
       "<p>5 rows × 39 columns</p>\n",
       "</div>"
      ],
      "text/plain": [
       "                                        Title Type_x_x  Rated   Year  \\\n",
       "0                  10 Things I Hate About You    movie  PG-13   1999   \n",
       "1                        101 Dalmatian Street   series    NaN  2018–   \n",
       "2                              101 Dalmatians    movie      G   1996   \n",
       "3  101 Dalmatians 2: Patch's London Adventure    movie      G   2002   \n",
       "4                              102 Dalmatians    movie      G   2000   \n",
       "\n",
       "            Added_At Runtime_x                                          Genre  \\\n",
       "0  November 12, 2019    97 min                         Comedy, Drama, Romance   \n",
       "1  February 28, 2020       NaN                      Animation, Comedy, Family   \n",
       "2  November 12, 2019   103 min               Adventure, Comedy, Crime, Family   \n",
       "3  November 12, 2019    74 min  Animation, Adventure, Comedy, Family, Musical   \n",
       "4  November 12, 2019   100 min                      Adventure, Comedy, Family   \n",
       "\n",
       "                  Director_x  \\\n",
       "0                 Gil Junger   \n",
       "1                        NaN   \n",
       "2              Stephen Herek   \n",
       "3  Jim Kammerud, Brian Smith   \n",
       "4                 Kevin Lima   \n",
       "\n",
       "                                              Actors        Language_x  ...  \\\n",
       "0  Heath Ledger, Julia Stiles, Joseph Gordon-Levi...   English, French  ...   \n",
       "1  Josh Brener, Michaela Dietz, Bert Davis, Abiga...           English  ...   \n",
       "2  Glenn Close, Jeff Daniels, Joely Richardson, J...  English, Spanish  ...   \n",
       "3  Barry Bostwick, Jason Alexander, Martin Short,...           English  ...   \n",
       "4  Glenn Close, Gérard Depardieu, Ioan Gruffudd, ...           English  ...   \n",
       "\n",
       "    Directors                   Genres                              Country  \\\n",
       "0         NaN                      NaN                                  NaN   \n",
       "1         NaN                      NaN                                  NaN   \n",
       "2         NaN                      NaN                                  NaN   \n",
       "3         NaN                      NaN                                  NaN   \n",
       "4  Kevin Lima  Adventure,Comedy,Family  United States,United Kingdom,France   \n",
       "\n",
       "   Language_y Runtime_y  Year_y Age_y  Imdb_y Rotten Tomatoes_y Type_y_y  \n",
       "0         NaN       NaN  2009.0   16+  7.3/10            67/100      1.0  \n",
       "1         NaN       NaN  2019.0    7+  6.3/10            44/100      1.0  \n",
       "2         NaN       NaN  1997.0   NaN     NaN            21/100      1.0  \n",
       "3         NaN       NaN     NaN   NaN     NaN               NaN      NaN  \n",
       "4     English     100.0     NaN   NaN     NaN               NaN      NaN  \n",
       "\n",
       "[5 rows x 39 columns]"
      ]
     },
     "execution_count": 7,
     "metadata": {},
     "output_type": "execute_result"
    }
   ],
   "source": [
    "#merging all dfs\n",
    "merged_df_01 = pd.merge(df_list[0], df_list[1], on = 'Title', how = 'outer')\n",
    "merged_df_34 = pd.merge(df_list[2], df_list[3], on = 'Title', how = 'outer')\n",
    "merged_df = pd.merge(merged_df_01, merged_df_34, on = 'Title', how = 'outer')\n",
    "merged_df.head()"
   ]
  },
  {
   "cell_type": "code",
   "execution_count": 8,
   "id": "97993d0d",
   "metadata": {},
   "outputs": [],
   "source": [
    "#saving file for manual check\n",
    "merged_df.to_csv('Resources/raw_merge_df.csv')"
   ]
  },
  {
   "cell_type": "markdown",
   "id": "433ea1c5",
   "metadata": {},
   "source": [
    "# Cleaning DF"
   ]
  },
  {
   "cell_type": "code",
   "execution_count": 9,
   "id": "31b2a8da",
   "metadata": {},
   "outputs": [
    {
     "name": "stdout",
     "output_type": "stream",
     "text": [
      "Index(['Title', 'Type_x_x', 'Rated', 'Year', 'Added_At', 'Runtime_x', 'Genre',\n",
      "       'Director_x', 'Actors', 'Language_x', 'Country_x', 'Awards',\n",
      "       'Metascore', 'Imdb_Rating', 'Imdb_Votes', 'Type_y_x', 'Director_y',\n",
      "       'Cast', 'Country_y', 'Date_Added', 'Release_Year', 'Rating', 'Duration',\n",
      "       'Listed_In', 'Year_x', 'Age_x', 'Imdb_x', 'Rotten Tomatoes_x',\n",
      "       'Type_x_y', 'Directors', 'Genres', 'Country', 'Language_y', 'Runtime_y',\n",
      "       'Year_y', 'Age_y', 'Imdb_y', 'Rotten Tomatoes_y', 'Type_y_y'],\n",
      "      dtype='object')\n"
     ]
    }
   ],
   "source": [
    "#checking columns\n",
    "print(merged_df.columns)"
   ]
  },
  {
   "cell_type": "markdown",
   "id": "58f5ba2a",
   "metadata": {},
   "source": [
    "Columns to combine\n",
    "- Title', \n",
    "- Type_x_x', 'Type_y_x', Type_x_y, Type_y_y'\n",
    "- Year', 'Release_Year' 'Year_x', 'Year_y'\n",
    "- Rated', 'Rating'\n",
    "- Age_x', 'Age_y'\n",
    "- Added_At', 'Date_Added'\n",
    "- Runtime_x', 'Duration', Runtime_y'\n",
    "- Genre','Listed_In', 'Genres'\n",
    "- Director_x','Director_y', 'Directors'\n",
    "- Actors', 'Cast'\n",
    "- Language_x', 'Language_y\n",
    "- Country_x', 'Country_y', 'Country'\n",
    "- Awards',\n",
    "- Metascore',\n",
    "- Imdb_x', 'Imdb_y\n",
    "- Imdb_Rating',\n",
    "- Imdb_Votes',\n",
    "- Rotten Tomatoes_x', 'Rotten Tomatoes_y"
   ]
  },
  {
   "cell_type": "markdown",
   "id": "2fcade01",
   "metadata": {},
   "source": [
    "### Functions"
   ]
  },
  {
   "cell_type": "code",
   "execution_count": 10,
   "id": "40338f27",
   "metadata": {},
   "outputs": [],
   "source": [
    "#writing a function that cleanly combines 2 columns\n",
    "def combined_2_columns(df, anchor_column, anchor_column_new_name, collapse_column, dropped_list, drop):\n",
    "    '''\n",
    "    anchor_column is the column series that you want everything to be compared to \n",
    "    anchor_column_new_name is the new name of that column\n",
    "    collapse_column is the list of columns to combine\n",
    "    dropped_list is an empty list that will track which values have NaN, used for debugging\n",
    "    drop whether or not to drop the values\n",
    "    '''\n",
    "    # populate relevant column, and if no values then drop\n",
    "    for i in range(len(df[anchor_column])):\n",
    "        if (pd.isnull(df[anchor_column][i])):\n",
    "            if (pd.isnull(df[collapse_column][i])):\n",
    "                dropped_list.append(i)\n",
    "                if (drop == True):\n",
    "                    df = df.drop(i, axis = 0)\n",
    "            else:\n",
    "                df.loc[i, anchor_column] = df.loc[i, collapse_column]\n",
    "\n",
    "    # fixing columns\n",
    "    df.reset_index(inplace = True)\n",
    "    df.drop([collapse_column, 'index'], axis = 1, inplace = True)\n",
    "    df.rename(columns = {anchor_column : anchor_column_new_name}, inplace = True)\n",
    "    if (drop == True):\n",
    "        return print(f\"Cleaning {anchor_column_new_name}, dropped {len(dropped_list)}.\")\n",
    "    else:\n",
    "        return print(f\"Cleaning {anchor_column_new_name}, has {len(dropped_list)} NaN's.\")"
   ]
  },
  {
   "cell_type": "code",
   "execution_count": 11,
   "id": "96569a27",
   "metadata": {},
   "outputs": [],
   "source": [
    "#writing functions for 3 columns\n",
    "def combined_3_columns(df, anchor_column, anchor_column_new_name, collapse_column, dropped_list, drop):\n",
    "    '''\n",
    "    anchor_column is the column series that you want everything to be compared to \n",
    "    anchor_column_new_name is the new name of that column\n",
    "    collapse_column is the list of columns to combine\n",
    "    dropped_list is an empty list that will track which values have NaN, used for debugging\n",
    "    drop whether or not to drop the values\n",
    "    '''\n",
    "    # populate relevant column, and if no values then drop\n",
    "    for i in range(len(df[anchor_column])):\n",
    "        if (pd.isnull(df[anchor_column][i])):\n",
    "            if (pd.isnull(df[collapse_column[0]][i])):\n",
    "                if (pd.isnull(df[collapse_column[1]][i])):\n",
    "                    dropped_list.append(i)\n",
    "                    if (drop == True):\n",
    "                        df = df.drop(i, axis = 0)\n",
    "                else:\n",
    "                    df.loc[i, anchor_column] = df.loc[i, collapse_column[1]]\n",
    "            else:\n",
    "                df.loc[i, anchor_column] = df.loc[i, collapse_column[0]]\n",
    "\n",
    "    # fixing columns\n",
    "    df.reset_index(inplace = True)\n",
    "    collapse_column.append('index')\n",
    "    df.drop(collapse_column, axis = 1, inplace = True)\n",
    "    df.rename(columns = {anchor_column : anchor_column_new_name}, inplace = True)\n",
    "    if (drop == True):\n",
    "        return print(f\"Cleaning {anchor_column_new_name}, dropped {len(dropped_list)}.\")\n",
    "    else:\n",
    "        return print(f\"Cleaning {anchor_column_new_name}, has {len(dropped_list)} NaN's.\")"
   ]
  },
  {
   "cell_type": "code",
   "execution_count": 12,
   "id": "4d80815e",
   "metadata": {},
   "outputs": [],
   "source": [
    "#writing functions for 4 columns\n",
    "def combined_4_columns(df, anchor_column, anchor_column_new_name, collapse_column, dropped_list, drop):\n",
    "    '''\n",
    "    anchor_column is the column series that you want everything to be compared to \n",
    "    anchor_column_new_name is the new name of that column\n",
    "    collapse_column is the list of columns to combine\n",
    "    dropped_list is an empty list that will track which values have NaN, used for debugging\n",
    "    drop whether or not to drop the values\n",
    "    '''\n",
    "    # populate relevant column, and if no values then drop\n",
    "    for i in range(len(df[anchor_column])):\n",
    "        if (pd.isnull(df[anchor_column][i])):\n",
    "            if (pd.isnull(df[collapse_column[0]][i])):\n",
    "                if (pd.isnull(df[collapse_column[1]][i])):\n",
    "                    if (pd.isnull(df[collapse_column[2]][i])):\n",
    "                        dropped_list.append(i)\n",
    "                        if (drop == True):\n",
    "                            df = df.drop(i, axis = 0)\n",
    "                    else:\n",
    "                        df.loc[i, anchor_column] = df.loc[i, collapse_column[2]]\n",
    "                else:\n",
    "                    df.loc[i, anchor_column] = df.loc[i, collapse_column[1]]\n",
    "            else:\n",
    "                df.loc[i, anchor_column] = df.loc[i, collapse_column[0]]\n",
    "\n",
    "    # fixing columns\n",
    "    df.reset_index(inplace = True)\n",
    "    collapse_column.append('index')\n",
    "    df.drop(collapse_column, axis = 1, inplace = True)\n",
    "    df.rename(columns = {anchor_column : anchor_column_new_name}, inplace = True)\n",
    "    if (drop == True):\n",
    "        return print(f\"Cleaning {anchor_column_new_name}, dropped {len(dropped_list)}.\")\n",
    "    else:\n",
    "        return print(f\"Cleaning {anchor_column_new_name}, has {len(dropped_list)} NaN's.\")"
   ]
  },
  {
   "cell_type": "code",
   "execution_count": 13,
   "id": "c6f76074",
   "metadata": {},
   "outputs": [],
   "source": [
    "#writing function to chop off unnecessary strings\n",
    "def str_fix(df, column_name, delimiter, output_type):\n",
    "    '''\n",
    "    df = the dataframe youre working in\n",
    "    column_name = the column that you want to clean\n",
    "    delimiter = the separator in the text\n",
    "    output_type = str if string, float if float, no value if just want default type\n",
    "    '''\n",
    "    #variable\n",
    "    str_values = []\n",
    "    corrected_values = []\n",
    "    typed_values = []\n",
    "    \n",
    "    #splitting\n",
    "    str_values = df[column_name].values.astype(str).tolist()\n",
    "    corrected_values = [value.split(delimiter, 1)[0] for value in str_values]\n",
    "\n",
    "    #fixing the nans\n",
    "    for i in range(len(corrected_values)):\n",
    "        if (corrected_values[i] == 'nan'):\n",
    "            corrected_values[i] = ''\n",
    "            \n",
    "    #assigning back\n",
    "    df[column_name] = corrected_values\n",
    "    if (output_type == 'str'):\n",
    "        df[column_name] = df[column_name].astype(str)\n",
    "    elif (output_type == 'float'):\n",
    "        df[column_name] = pd.to_numeric(df[column_name], errors = 'coerce')\n",
    "    else:\n",
    "        df[column_name] = corrected_values\n",
    "    \n",
    "    #return\n",
    "    return None"
   ]
  },
  {
   "cell_type": "markdown",
   "id": "bdc1b910",
   "metadata": {},
   "source": [
    "### Condensing 2-Columns"
   ]
  },
  {
   "cell_type": "code",
   "execution_count": 14,
   "id": "bf0521ef",
   "metadata": {},
   "outputs": [],
   "source": [
    "#variables for for loop\n",
    "anchor_ls = ['Age_x', 'Rated', 'Added_At', 'Rotten Tomatoes_x', 'Actors', 'Language_x', 'Runtime_x']\n",
    "anchor_name_ls = ['Age Advisory Rating', 'Advisory Rating', 'Available to Public on', 'Rotten Tomatoes Score', 'Cast', 'Available Languages', 'Runtime']\n",
    "column_ls = ['Age_y', 'Rating', 'Date_Added', 'Rotten Tomatoes_y', 'Cast', 'Language_y', 'Runtime_y']\n",
    "boolean_ls = [False, False, False, False, False, False, False]"
   ]
  },
  {
   "cell_type": "code",
   "execution_count": 15,
   "id": "5a0bd095",
   "metadata": {},
   "outputs": [
    {
     "name": "stdout",
     "output_type": "stream",
     "text": [
      "Cleaning Age Advisory Rating, has 873 NaN's.\n",
      "Cleaning Advisory Rating, has 316 NaN's.\n",
      "Cleaning Available to Public on, has 168 NaN's.\n",
      "Cleaning Rotten Tomatoes Score, has 586 NaN's.\n",
      "Cleaning Cast, has 387 NaN's.\n",
      "Cleaning Available Languages, has 705 NaN's.\n",
      "Cleaning Runtime, has 733 NaN's.\n"
     ]
    }
   ],
   "source": [
    "#Age, Rating, Date Added, Rotten, IMDB, Cast, Languages\n",
    "for i in range(len(anchor_ls)):\n",
    "    dropped_list = [] #reseting for every df\n",
    "    combined_2_columns(merged_df, anchor_ls[i], anchor_name_ls[i], column_ls[i], dropped_list, boolean_ls[i])"
   ]
  },
  {
   "cell_type": "code",
   "execution_count": 16,
   "id": "e3f54d72",
   "metadata": {
    "scrolled": true
   },
   "outputs": [
    {
     "name": "stdout",
     "output_type": "stream",
     "text": [
      "Index(['Title', 'Type_x_x', 'Advisory Rating', 'Year',\n",
      "       'Available to Public on', 'Runtime', 'Genre', 'Director_x', 'Cast',\n",
      "       'Available Languages', 'Country_x', 'Awards', 'Metascore',\n",
      "       'Imdb_Rating', 'Imdb_Votes', 'Type_y_x', 'Director_y', 'Country_y',\n",
      "       'Release_Year', 'Duration', 'Listed_In', 'Year_x',\n",
      "       'Age Advisory Rating', 'Imdb_x', 'Rotten Tomatoes Score', 'Type_x_y',\n",
      "       'Directors', 'Genres', 'Country', 'Year_y', 'Imdb_y', 'Type_y_y'],\n",
      "      dtype='object')\n"
     ]
    }
   ],
   "source": [
    "print(merged_df.columns)"
   ]
  },
  {
   "cell_type": "markdown",
   "id": "eeed0f84",
   "metadata": {},
   "source": [
    "### Condensing 3-Columns"
   ]
  },
  {
   "cell_type": "code",
   "execution_count": 17,
   "id": "a64fc593",
   "metadata": {},
   "outputs": [],
   "source": [
    "#variables for for loop\n",
    "anchor_ls = ['Genre', 'Director_x', 'Country_x', 'Imdb_Rating']\n",
    "anchor_name_ls = ['Genre', 'Director', 'Country', 'IMDB Score']\n",
    "column_ls = [['Listed_In', 'Genres'], ['Director_y', 'Directors'], ['Country_y', 'Country'], ['Imdb_x', 'Imdb_y']]\n",
    "boolean_ls = [True, False, False, False]"
   ]
  },
  {
   "cell_type": "code",
   "execution_count": 18,
   "id": "8bc2b260",
   "metadata": {},
   "outputs": [
    {
     "name": "stdout",
     "output_type": "stream",
     "text": [
      "Cleaning Genre, dropped 169.\n",
      "Cleaning Director, has 678 NaN's.\n",
      "Cleaning Country, has 329 NaN's.\n",
      "Cleaning IMDB Score, has 529 NaN's.\n"
     ]
    }
   ],
   "source": [
    "#Runtime, Genre, Director, Country\n",
    "for i in range(len(anchor_ls)):\n",
    "    dropped_list = [] #reseting for every df\n",
    "    combined_3_columns(merged_df, anchor_ls[i], anchor_name_ls[i], column_ls[i], dropped_list, boolean_ls[i])"
   ]
  },
  {
   "cell_type": "code",
   "execution_count": 19,
   "id": "40ffe0c3",
   "metadata": {
    "scrolled": true
   },
   "outputs": [
    {
     "name": "stdout",
     "output_type": "stream",
     "text": [
      "Index(['Title', 'Type_x_x', 'Advisory Rating', 'Year',\n",
      "       'Available to Public on', 'Runtime', 'Genre', 'Director', 'Cast',\n",
      "       'Available Languages', 'Country', 'Awards', 'Metascore', 'IMDB Score',\n",
      "       'Imdb_Votes', 'Type_y_x', 'Release_Year', 'Duration', 'Listed_In',\n",
      "       'Year_x', 'Age Advisory Rating', 'Rotten Tomatoes Score', 'Type_x_y',\n",
      "       'Genres', 'Year_y', 'Type_y_y'],\n",
      "      dtype='object')\n"
     ]
    }
   ],
   "source": [
    "print(merged_df.columns)"
   ]
  },
  {
   "cell_type": "markdown",
   "id": "a2368a4b",
   "metadata": {},
   "source": [
    "### Condensing 4-Columns"
   ]
  },
  {
   "cell_type": "code",
   "execution_count": 20,
   "id": "a1508194",
   "metadata": {},
   "outputs": [
    {
     "name": "stdout",
     "output_type": "stream",
     "text": [
      "Unique categorical values are ['movie' 'series' nan 'episode' 'Movie' 'TV Show' 0.0 1.0]\n"
     ]
    }
   ],
   "source": [
    "#finding unique categorical values for Type\n",
    "print(f\"Unique categorical values are {merged_df['Type_x_x'].append(merged_df['Type_y_x']).append(merged_df['Type_x_y']).append(merged_df['Type_y_y']).unique()}\")\n",
    "\n",
    "#standardizing values\n",
    "merged_df['Type_x_x'] = merged_df['Type_x_x'].str.title()\n",
    "merged_df['Type_x_y'].replace(0, 'Movie', inplace = True)\n",
    "merged_df['Type_y_y'].replace(1, 'TV Show', inplace = True)\n",
    "merged_df['Type_x_x'].replace(['Series', 'Episode'], ['TV Show','TV Show'], inplace = True)"
   ]
  },
  {
   "cell_type": "code",
   "execution_count": 21,
   "id": "ad89085b",
   "metadata": {
    "scrolled": true
   },
   "outputs": [],
   "source": [
    "#variables for for loop\n",
    "anchor_ls = ['Type_x_x', 'Year']\n",
    "anchor_name_ls = ['Offering Type', 'Year Released']\n",
    "column_ls = [['Type_y_x', 'Type_x_y', 'Type_y_y'], ['Release_Year', 'Year_x', 'Year_y']]\n",
    "boolean_ls = [True, False]"
   ]
  },
  {
   "cell_type": "code",
   "execution_count": 22,
   "id": "b796493a",
   "metadata": {},
   "outputs": [
    {
     "name": "stdout",
     "output_type": "stream",
     "text": [
      "Cleaning Offering Type, dropped 98.\n",
      "Cleaning Year Released, has 98 NaN's.\n"
     ]
    }
   ],
   "source": [
    "#Type and Release Year\n",
    "for i in range(len(anchor_ls)):\n",
    "    dropped_list = [] #reseting for every df\n",
    "    combined_4_columns(merged_df, anchor_ls[i], anchor_name_ls[i], column_ls[i], dropped_list, boolean_ls[i])"
   ]
  },
  {
   "cell_type": "code",
   "execution_count": 23,
   "id": "c3aa1392",
   "metadata": {},
   "outputs": [
    {
     "name": "stdout",
     "output_type": "stream",
     "text": [
      "Index(['Title', 'Type_x_x', 'Advisory Rating', 'Year Released',\n",
      "       'Available to Public on', 'Runtime', 'Genre', 'Director', 'Cast',\n",
      "       'Available Languages', 'Country', 'Awards', 'Metascore', 'IMDB Score',\n",
      "       'Imdb_Votes', 'Type_y_x', 'Duration', 'Listed_In',\n",
      "       'Age Advisory Rating', 'Rotten Tomatoes Score', 'Type_x_y', 'Genres',\n",
      "       'Type_y_y'],\n",
      "      dtype='object')\n"
     ]
    }
   ],
   "source": [
    "print(merged_df.columns)"
   ]
  },
  {
   "cell_type": "markdown",
   "id": "7f6ab0c2",
   "metadata": {},
   "source": [
    "### Post Cleaning"
   ]
  },
  {
   "cell_type": "code",
   "execution_count": 24,
   "id": "7fa47b11",
   "metadata": {},
   "outputs": [
    {
     "data": {
      "text/plain": [
       "Title                      object\n",
       "Type_x_x                   object\n",
       "Advisory Rating            object\n",
       "Year Released              object\n",
       "Available to Public on     object\n",
       "Runtime                    object\n",
       "Genre                      object\n",
       "Director                   object\n",
       "Cast                       object\n",
       "Available Languages        object\n",
       "Country                    object\n",
       "Awards                     object\n",
       "Metascore                 float64\n",
       "IMDB Score                 object\n",
       "Imdb_Votes                 object\n",
       "Type_y_x                   object\n",
       "Duration                   object\n",
       "Listed_In                  object\n",
       "Age Advisory Rating        object\n",
       "Rotten Tomatoes Score      object\n",
       "Type_x_y                   object\n",
       "Genres                     object\n",
       "Type_y_y                   object\n",
       "dtype: object"
      ]
     },
     "execution_count": 24,
     "metadata": {},
     "output_type": "execute_result"
    }
   ],
   "source": [
    "#after manually reviewing file, still some cleaning to do\n",
    "merged_df.dtypes"
   ]
  },
  {
   "cell_type": "code",
   "execution_count": 25,
   "id": "b3a37b9e",
   "metadata": {},
   "outputs": [],
   "source": [
    "#manual adjustment\n",
    "merged_df.drop(['Type_y_x', 'Listed_In', 'Type_x_y', 'Genres', 'Type_y_y'], axis = 1, inplace = True)\n",
    "merged_df.rename(columns = {'Type_x_x' : 'Offering Medium', 'Imdb_Votes' : 'IMDB Votes'}, inplace = True)"
   ]
  },
  {
   "cell_type": "code",
   "execution_count": 26,
   "id": "1e82d8b9",
   "metadata": {},
   "outputs": [],
   "source": [
    "#dropping the NaNs that didn't get picked up\n",
    "for i in range(len(merged_df['Title'])):\n",
    "    if (pd.isnull(merged_df.loc[i, 'Title']) | pd.isnull(merged_df.loc[i, 'Genre'])):\n",
    "        merged_df.drop(i, axis = 0, inplace = True)"
   ]
  },
  {
   "cell_type": "code",
   "execution_count": 27,
   "id": "9a8b5cab",
   "metadata": {},
   "outputs": [],
   "source": [
    "#resetting index after drops\n",
    "merged_df.reset_index(inplace = True)\n",
    "merged_df.drop('index', axis = 1, inplace = True)"
   ]
  },
  {
   "cell_type": "code",
   "execution_count": 28,
   "id": "fbcdced0",
   "metadata": {},
   "outputs": [],
   "source": [
    "merged_df['Duration'] = merged_df['Duration'].astype(str)\n",
    "for i in range(len(merged_df['Duration'])):\n",
    "    if ('Season' not in merged_df['Duration'][i]):\n",
    "        merged_df.loc[i,'Duration'] = np.NaN"
   ]
  },
  {
   "cell_type": "code",
   "execution_count": 29,
   "id": "430dfcc4",
   "metadata": {},
   "outputs": [],
   "source": [
    "#saving file for manual check\n",
    "merged_df.to_csv('clean_merge_df.csv')"
   ]
  },
  {
   "cell_type": "code",
   "execution_count": 30,
   "id": "2dcd93f9",
   "metadata": {},
   "outputs": [],
   "source": [
    "#all floats\n",
    "float_list = ['Runtime', 'IMDB Score', 'IMDB Votes', 'Duration', 'Rotten Tomatoes Score', 'Year Released']\n",
    "delimiter_list = [' ', ' ', ' ', ' ', '/', '–']\n",
    "type_list = ['float', 'float', 'float', 'float', 'float', 'str']\n",
    "for i in range(len(float_list)):\n",
    "    str_fix(merged_df, float_list[i], delimiter_list[i], type_list[i])"
   ]
  },
  {
   "cell_type": "code",
   "execution_count": 31,
   "id": "ab7b4713",
   "metadata": {},
   "outputs": [],
   "source": [
    "#after group meeting, changed the column headers\n",
    "merged_df = merged_df.rename(columns = {'Offering Medium' : 'Type',\n",
    "                                        'Rotten Tomatoes Score' : 'Rotten Tomatoes Rating',\n",
    "                                        'Year Released' : 'Year',\n",
    "                                        'Available Languages' : 'Language',\n",
    "                                        'Age Advisory Rating' : 'Advisory Age',\n",
    "                                        'Available to Public on' : 'Date Added',\n",
    "                                        'IMDB Score' : 'IMDB Rating',\n",
    "                                       })"
   ]
  },
  {
   "cell_type": "code",
   "execution_count": 32,
   "id": "09b00a86",
   "metadata": {},
   "outputs": [
    {
     "name": "stdout",
     "output_type": "stream",
     "text": [
      "Index(['Title', 'Type', 'Advisory Rating', 'Year', 'Date Added', 'Runtime',\n",
      "       'Genre', 'Director', 'Cast', 'Language', 'Country', 'Awards',\n",
      "       'Metascore', 'IMDB Rating', 'IMDB Votes', 'Duration', 'Advisory Age',\n",
      "       'Rotten Tomatoes Rating'],\n",
      "      dtype='object')\n"
     ]
    }
   ],
   "source": [
    "#reroganizing column headers\n",
    "print(merged_df.columns)\n",
    "merged_df = merged_df[['Title', 'Type', 'Genre',\n",
    "                       'Year', 'Date Added',\n",
    "                       'Director', \n",
    "                       'Runtime', 'Duration',\n",
    "                       'Country', 'Language',\n",
    "                       'Rotten Tomatoes Rating', 'IMDB Rating',\n",
    "                       'Advisory Rating', 'Advisory Age']]"
   ]
  },
  {
   "cell_type": "code",
   "execution_count": 33,
   "id": "315f3591",
   "metadata": {},
   "outputs": [],
   "source": [
    "#prepping for mass merge\n",
    "merged_df['Disney+'] = 1"
   ]
  },
  {
   "cell_type": "code",
   "execution_count": 34,
   "id": "1558fd7b",
   "metadata": {},
   "outputs": [
    {
     "data": {
      "text/plain": [
       "array(['PG-13', 'TV-Y7', 'G', 'PG', 'TV-PG', 'Approved', 'TV-G',\n",
       "       'Unrated', 'TV-Y', nan, 'TV-14', 'Passed', 'TV-Y7-FV'],\n",
       "      dtype=object)"
      ]
     },
     "execution_count": 34,
     "metadata": {},
     "output_type": "execute_result"
    }
   ],
   "source": [
    "#minor cleaning\n",
    "merged_df.loc[:,'Advisory Rating'].replace(['APPROVED','Not Rated', 'UNRATED', 'NOT RATED', 'PASSED'], ['Approved', 'Unrated', 'Unrated', 'Unrated', 'Passed'], inplace = True)\n",
    "merged_df['Advisory Rating'].unique()"
   ]
  },
  {
   "cell_type": "code",
   "execution_count": 35,
   "id": "17a7c8f9",
   "metadata": {},
   "outputs": [],
   "source": [
    "#saving file for manual check\n",
    "merged_df.to_csv('Resources/clean_merge_df.csv', index = False)"
   ]
  }
 ],
 "metadata": {
  "kernelspec": {
   "display_name": "Python [conda env:PythonData] *",
   "language": "python",
   "name": "conda-env-PythonData-py"
  },
  "language_info": {
   "codemirror_mode": {
    "name": "ipython",
    "version": 3
   },
   "file_extension": ".py",
   "mimetype": "text/x-python",
   "name": "python",
   "nbconvert_exporter": "python",
   "pygments_lexer": "ipython3",
   "version": "3.8.12"
  }
 },
 "nbformat": 4,
 "nbformat_minor": 5
}
